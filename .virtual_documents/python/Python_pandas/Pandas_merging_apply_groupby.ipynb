


import pandas as pd


doi_df_journal = pd.DataFrame({
    "DOI": [
        "10.1371/journal.pcbi.1004668",
        "10.21105/joss.01035",
        "10.12688/f1000research.18866.2",
        "10.1038/s41598-019-52881-4",
        "10.1186/s12859-019-3171-0"],
    "journal": [
        "PLoS Comput Biol",
        "JOSS",
        "F1000Res",
        "Sci Rep",
        "BMC Bioinformatics"]})

doi_df_first_author = pd.DataFrame({
    "DOI": [
        "10.1371/journal.pcbi.1004668",
        "10.21105/joss.01035",
        "10.21105/joss.01006",
        "10.12688/f1000research.18866.2",
        "10.1186/s12859-019-3171-0"],
    "first_author": [
        "Blischak",
        "Sparks",
        "Granger",
        "Thang",
        "Chen"]})


doi_df_first_author


doi_df_journal





doi_df_first_author.merge(doi_df_journal, on="DOI", how="left")








doi_df_first_author.merge(doi_df_journal, on="DOI", how="right")








doi_df_first_author.merge(doi_df_journal, on="DOI", how="inner")








doi_df_first_author.merge(doi_df_journal, on="DOI", how="outer")





doi_df_first_author_2 = pd.DataFrame({
    "DOIs": [
        "10.1371/journal.pcbi.1004668",
        "10.21105/joss.01035",
        "10.21105/joss.01006",
        "10.12688/f1000research.18866.2",
        "10.1186/s12859-019-3171-0"],
    "first_author": [
        "Blischak J.",
        "Sparks Adam H.",
        "Granger Nicolas",
        "Thang",
        "Chen Danze"]})


doi_df_first_author_2





# With split, we can separate a contiguous string at a specific point and convert it into a list.
"Rosalind Franklin".split(" ")


# We can then address a position from this list. 
"Rosalind Franklin".split(" ")[0]





doi_df_first_author_2["first_author"].apply(lambda author: author.split(" ")[0])








doi_df_first_author_2["last_name"] = doi_df_first_author_2["first_author"].apply(lambda author: author.split(" ")[0])


doi_df_first_author_2





doi_df_first_author_2["first_author"].apply(lambda author: author.split(" ")[1:])





def first_name_initial(full_name):
    return full_name.split(" ")[1:]





doi_df_first_author_2["first_author"].apply(first_name_initial)





first_name = "Sparks Adam, H.".split(" ")[1:]   


first_name[0]


first_name[0][0]


first_name[0][0] + "."


def first_name_initial(full_name):
    # Den vollen Namen anhand des Leerzeichens aufteilen und alle Wörter außer dem ersten extrahieren
    first_name = full_name.split(" ")[1:]    
    # Wenn es mindestens ein extrahiertes Wort gibt (der Nachname), führe den folgenden Block aus
    if first_name:
        # Der erste Buchstabe des ersten extrahierten Worts (der Vorname) wird genommen,
        # gefolgt von einem Punkt, um den initialen Vornamen zu erstellen
        return first_name[0][0] + "."
    else:
        # Wenn kein Nachname (kein extrahiertes Wort) gefunden wurde, wird "NaN" zurückgegeben
        return "NaN"



### Die Funktion wird erneut an apply übergeben
doi_df_first_author_2["first_author"].apply(first_name_initial)





doi_df_first_author_2["first_name"] = doi_df_first_author_2["first_author"].apply(first_name_initial)


doi_df_first_author_2





doi_df_first_author_2["first_author_cleaned"] = doi_df_first_author_2.apply(
    lambda df: df["last_name"] + " " + df["first_name"], axis=1)





doi_df_first_author_2





doi_df_first_author_2["first_author_cleaned"] = doi_df_first_author_2.apply(
    lambda df: df["last_name"] + " " + df["first_name"] if df["first_name"] != "NaN" else df["last_name"], axis=1)





doi_df_first_author_2









df_doi_journal_price = pd.DataFrame({
    "DOI": [
        "10.1371/journal.pcbi.1004668",
        "10.21105/joss.01035",
        "10.12688/f1000research.18866.2",
        "10.1038/s41598-019-52881-4",
        "10.1186/s12859-019-3171-0",
        "10.1186/s12859-019-3171-1",
        "10.1186/s12859-019-3171-3"],
    "journal": [
        "PLoS Comput Biol",
        "BMC Bioinformatics",
        "F1000Res",
        "Sci Rep",
        "BMC Bioinformatics",
        "PLoS Comput Biol",
        "BMC Bioinformatics"],
    "price": [
        2000,
        2000,
        1500,
        1000,
        1500,
        1500,
        1600
    ]})


df_doi_journal_price





grp_journal = df_doi_journal_price.groupby(["journal"])


grp_journal





grp_journal.apply(display)





grp_journal["price"].mean()





grp_journal["price"].sum()



