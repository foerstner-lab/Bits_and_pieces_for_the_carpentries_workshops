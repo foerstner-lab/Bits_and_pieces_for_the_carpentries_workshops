{
 "cells": [
  {
   "cell_type": "markdown",
   "id": "f916d773-63b8-4611-aa7e-5e4cefc8b594",
   "metadata": {},
   "source": [
    "#  ISBN cleaning function"
   ]
  },
  {
   "cell_type": "markdown",
   "id": "af23329b-5b0f-4c7a-8c1a-c4c93588ea0d",
   "metadata": {},
   "source": [
    "In diesem Schritt wird eine Liste mit drei Einträgen erstellt. Jeder Eintrag repräsentiert eine ISBN-Nummer, wobei die Einträge unterschiedliche Formate und Leerzeichen enthalten. Die ISBN-Nummern sind in Strings gespeichert."
   ]
  },
  {
   "cell_type": "code",
   "execution_count": 1,
   "id": "7f275300-edc6-4d1a-bf0f-652ce17ff251",
   "metadata": {},
   "outputs": [],
   "source": [
    "#unbereinigte ISBNs\n",
    "dirty_isbns = [\n",
    "    \" ISBN 978-3-518-58773-7 \", \n",
    "    \"ISBN___978-1491946008 \",\n",
    "    \"ISBN 978-1593276034\"]"
   ]
  },
  {
   "cell_type": "markdown",
   "id": "dac5cfed-b106-4522-aca1-92e8d10af922",
   "metadata": {},
   "source": [
    "Im nächsten Schritt definieren wir die Funktion, bekommen aber noch keinen Output"
   ]
  },
  {
   "cell_type": "code",
   "execution_count": 2,
   "id": "cbbdec70-0432-4bed-bf4d-d8bc84bc858f",
   "metadata": {},
   "outputs": [],
   "source": [
    "def clean_isbn():\n",
    "    isbn = \" 978-3-518-58773-7 \"\n",
    "    print(isbn)\n",
    "# .. nothing happening (as the function is not called)"
   ]
  },
  {
   "cell_type": "markdown",
   "id": "0add056c-a1d7-4176-9201-fed142c44ee9",
   "metadata": {},
   "source": [
    "Um einen Output zu bekommen müssen wir die definierte Funktion aufrufen"
   ]
  },
  {
   "cell_type": "code",
   "execution_count": 3,
   "id": "94584b20-2b77-4a18-82f7-838c629b8166",
   "metadata": {},
   "outputs": [
    {
     "name": "stdout",
     "output_type": "stream",
     "text": [
      " 978-3-518-58773-7 \n"
     ]
    }
   ],
   "source": [
    "clean_isbn()"
   ]
  },
  {
   "cell_type": "markdown",
   "id": "9420ec41-57ec-48c4-9ea0-8734024a784e",
   "metadata": {},
   "source": [
    "Jetzt wollen wir die ISBN innerhalb der Funktion bereinigen. Wir sehen das Leerzeichen vor und nach der ISBN stehen. Um diese zu entfernen können wir die Methode strip() nutzen"
   ]
  },
  {
   "cell_type": "code",
   "execution_count": 4,
   "id": "4e062587-df82-4355-8d67-49e65a942bef",
   "metadata": {},
   "outputs": [
    {
     "name": "stdout",
     "output_type": "stream",
     "text": [
      "ISBN 978-1449369415\n"
     ]
    }
   ],
   "source": [
    "def clean_isbn():\n",
    "    isbn = \" ISBN 978-1449369415 \"\n",
    "    isbn = isbn.strip()\n",
    "    print(isbn)\n",
    "clean_isbn()"
   ]
  },
  {
   "cell_type": "markdown",
   "id": "e6409704-d5e3-411a-9765-96ac7e997b0b",
   "metadata": {},
   "source": [
    "Im Moment funktioniert die Funktion nur für eine bestimmte ISBN, da sie innerhlab der Funktion fest codiert ist. Um das zu ändern definieren wir die Funktion so, dass sie eine ISBN als Eingabe erwartet. "
   ]
  },
  {
   "cell_type": "code",
   "execution_count": 5,
   "id": "df714ae8-5716-4dbd-8094-0b65facac585",
   "metadata": {},
   "outputs": [
    {
     "name": "stdout",
     "output_type": "stream",
     "text": [
      "ISBN 978-1449369415\n"
     ]
    }
   ],
   "source": [
    "def clean_isbn(isbn):\n",
    "    isbn = isbn.strip()    \n",
    "    print(isbn) \n",
    "clean_isbn(\" ISBN 978-1449369415 \")"
   ]
  },
  {
   "cell_type": "markdown",
   "id": "5610b15f-8f9b-4cd6-a6b2-e2f903f19ac9",
   "metadata": {},
   "source": [
    "Jetzt wollen wir zusätzlich \"ISBN\" entfernen. Das können wir mit der Methode replace() "
   ]
  },
  {
   "cell_type": "code",
   "execution_count": 6,
   "id": "c0503545-d1f8-4393-86c0-422278f36afe",
   "metadata": {},
   "outputs": [
    {
     "name": "stdout",
     "output_type": "stream",
     "text": [
      "978-1449369415\n"
     ]
    }
   ],
   "source": [
    "def clean_isbn(isbn):\n",
    "    isbn = isbn.replace(\"ISBN\", \"\")\n",
    "    isbn = isbn.strip()    \n",
    "    print(isbn) \n",
    "clean_isbn(\" ISBN 978-1449369415 \")"
   ]
  },
  {
   "cell_type": "markdown",
   "id": "de493e75-1027-4357-852c-46fda80b723e",
   "metadata": {},
   "source": [
    "Die bearbeitete ISBN-Nummer wird mit print auf der Konsole ausgegeben. Der Rückgabewert der Funktion ist None, da keine explizite return-Anweisung vorhanden ist. Daher wird die bearbeitete ISBN-Nummer nur auf der Konsole ausgegeben, aber sie wird nicht als Wert zurückgegeben, den wir in einer anderen Variable speichern könnten. Um das zu ändern nutzen wir im nächsten Schritt return\n"
   ]
  },
  {
   "cell_type": "code",
   "execution_count": 7,
   "id": "d22e32cc-7243-4324-a856-1e902ca67366",
   "metadata": {},
   "outputs": [
    {
     "name": "stdout",
     "output_type": "stream",
     "text": [
      "978-1449369415\n"
     ]
    }
   ],
   "source": [
    "def clean_isbn(isbn):\n",
    "    isbn = isbn.replace(\"ISBN\", \"\")\n",
    "    isbn = isbn.strip()    \n",
    "    return isbn \n",
    "cleaned_isbn = clean_isbn(\" ISBN 978-1449369415 \")\n",
    "print(cleaned_isbn)"
   ]
  },
  {
   "cell_type": "markdown",
   "id": "3b9905dd-2eb5-4cb1-b8a2-c75b0534cd43",
   "metadata": {},
   "source": [
    "Die zurückgegebene ISBN-Nummer wird jetzt in der Variable cleaned_isbn gespeichert und anschließend mit print auf der Konsole ausgegeben. Dies bedeutet, dass wir die bearbeitete ISBN-Nummer in anderen Teilen unseres Codes weiterverwenden können, da sie als Wert in der Variable cleaned_isbn gespeichert ist.\n",
    "\n",
    "Der Unterschied liegt in der Verwendung von print gegenüber return. Der erste Codeabschnitt gibt die bearbeitete ISBN-Nummer nur auf der Konsole aus, während der zweite Codeabschnitt die bearbeitete ISBN-Nummer zurückgibt, sodass wir sie in anderen Teilen Ihres Codes verwenden können."
   ]
  },
  {
   "cell_type": "markdown",
   "id": "b2be8766-e759-4f6f-a8d9-f350fcc3bbb9",
   "metadata": {},
   "source": [
    "Nun wollen wir die Funktion auf all unsere ISBNs anwenden. Das können wir mit Hilfe einer For-Schleife, die durch unsere Liste von ISBNs iteriert"
   ]
  },
  {
   "cell_type": "code",
   "execution_count": 8,
   "id": "9a06df3e-ac30-42c9-aeb2-c57112d4e30a",
   "metadata": {},
   "outputs": [
    {
     "name": "stdout",
     "output_type": "stream",
     "text": [
      "978-3-518-58773-7\n",
      "___978-1491946008\n",
      "978-1593276034\n"
     ]
    }
   ],
   "source": [
    "for isbn in dirty_isbns:\n",
    "    cleaned_isbn = clean_isbn(isbn)\n",
    "    print(cleaned_isbn)"
   ]
  },
  {
   "cell_type": "markdown",
   "id": "7e2d1811-48eb-476e-9d17-825ed1129147",
   "metadata": {},
   "source": [
    "Sieht schon ganz gut aus, aber wir müssen die Funktion noch erweitern, um die Unterstriche zu entfernen"
   ]
  },
  {
   "cell_type": "code",
   "execution_count": 9,
   "id": "fc401792-63a1-4100-ac38-2bfec0955e3f",
   "metadata": {},
   "outputs": [
    {
     "name": "stdout",
     "output_type": "stream",
     "text": [
      "978-3-518-58773-7\n",
      "978-1491946008\n",
      "978-1593276034\n"
     ]
    }
   ],
   "source": [
    "def clean_isbn(isbn):\n",
    "    isbn = isbn.replace(\"ISBN\", \"\")\n",
    "    isbn = isbn.replace(\"_\", \"\")\n",
    "    isbn = isbn.strip()  \n",
    "    return isbn \n",
    "\n",
    "for isbn in dirty_isbns:\n",
    "    cleaned_isbn = clean_isbn(isbn)\n",
    "    print(cleaned_isbn)"
   ]
  },
  {
   "cell_type": "code",
   "execution_count": null,
   "id": "efe7d21c-b685-4b29-9da6-8a6913cff165",
   "metadata": {},
   "outputs": [],
   "source": []
  }
 ],
 "metadata": {
  "kernelspec": {
   "display_name": "Python 3 (ipykernel)",
   "language": "python",
   "name": "python3"
  },
  "language_info": {
   "codemirror_mode": {
    "name": "ipython",
    "version": 3
   },
   "file_extension": ".py",
   "mimetype": "text/x-python",
   "name": "python",
   "nbconvert_exporter": "python",
   "pygments_lexer": "ipython3",
   "version": "3.10.12"
  }
 },
 "nbformat": 4,
 "nbformat_minor": 5
}
