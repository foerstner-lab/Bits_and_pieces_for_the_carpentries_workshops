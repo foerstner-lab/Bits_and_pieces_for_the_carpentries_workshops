{
 "cells": [
  {
   "cell_type": "markdown",
   "id": "9631f6c2-35c1-49bf-a1d1-9467176bad04",
   "metadata": {},
   "source": [
    "# Introduction to Python"
   ]
  },
  {
   "cell_type": "markdown",
   "id": "b7f6f082-7765-45b6-b75d-6d6ddea34471",
   "metadata": {},
   "source": [
    "The aim of this notebook is to learn about Python.\n",
    "\n",
    "This is a Markdown cell where you can provide context for the code. You can write text in *italics* or **bold**, or even ***both***, and much more. "
   ]
  },
  {
   "cell_type": "markdown",
   "id": "824dcad2-c6c8-48d7-b953-12e88ddb16f7",
   "metadata": {},
   "source": [
    "## First Command"
   ]
  },
  {
   "cell_type": "markdown",
   "id": "db52e8a2-9ea5-46cb-880f-e61198159759",
   "metadata": {},
   "source": [
    "You can use the built-in `print()` function to print Python objects, such as a string, to the Jupyter notebook output. We will explore functions in more detail later in this lesson. The objects that we want to print can be added inside the parentheses, and these are known as the arguments of the `print()` function."
   ]
  },
  {
   "cell_type": "code",
   "execution_count": 4,
   "id": "a1726650-884a-47dc-a43d-85265a24d5b5",
   "metadata": {},
   "outputs": [
    {
     "name": "stdout",
     "output_type": "stream",
     "text": [
      "Hello world!\n"
     ]
    }
   ],
   "source": [
    "print(\"Hello world!\")"
   ]
  },
  {
   "cell_type": "markdown",
   "id": "c434ba20-f042-43dd-b3e6-2d5442305913",
   "metadata": {},
   "source": [
    "## Comments"
   ]
  },
  {
   "cell_type": "markdown",
   "id": "f0ccd953-4d1f-4d9d-87a3-f855562c92ec",
   "metadata": {},
   "source": [
    "The code tells you “how”, comments tell you “why”. "
   ]
  },
  {
   "cell_type": "code",
   "execution_count": 5,
   "id": "09d5ebe4-3323-4c88-bcb2-019d2ecff08f",
   "metadata": {},
   "outputs": [
    {
     "name": "stdout",
     "output_type": "stream",
     "text": [
      "Hello world!\n"
     ]
    }
   ],
   "source": [
    "# This is a comment.\n",
    "print(\"Hello world!\")"
   ]
  },
  {
   "cell_type": "markdown",
   "id": "c2b64a66-269e-486a-9dfb-fbdf691b67f5",
   "metadata": {},
   "source": [
    "## Data Types"
   ]
  },
  {
   "cell_type": "markdown",
   "id": "4a335620-7cbc-436b-b330-fccdadb79893",
   "metadata": {},
   "source": [
    "A variable is a name given to a value. In Python, the `=` symbol is used to assign a value to a variable. In this example, Python assigns the name `Lovelace` to the variable `name`."
   ]
  },
  {
   "cell_type": "code",
   "execution_count": 2,
   "id": "0da4cd27-399e-4620-a7d7-94f260f3f2e9",
   "metadata": {},
   "outputs": [
    {
     "name": "stdout",
     "output_type": "stream",
     "text": [
      "Lovelace\n"
     ]
    }
   ],
   "source": [
    "# Variables and assignment\n",
    "name = \"Lovelace\"\n",
    "print(name)"
   ]
  },
  {
   "cell_type": "code",
   "execution_count": 3,
   "id": "a7dde318-6b18-469a-ac33-8b41a20dcd9a",
   "metadata": {},
   "outputs": [
    {
     "name": "stdout",
     "output_type": "stream",
     "text": [
      "Ada\n"
     ]
    }
   ],
   "source": [
    "# String (str) - Sequence of characters\n",
    "first_name = \"Ada\"\n",
    "print(first_name)"
   ]
  },
  {
   "cell_type": "code",
   "execution_count": 4,
   "id": "61c74c8e-3ce1-4c00-a2f3-23971c584230",
   "metadata": {},
   "outputs": [
    {
     "name": "stdout",
     "output_type": "stream",
     "text": [
      "37\n"
     ]
    }
   ],
   "source": [
    "# Integer (int) - Whole number\n",
    "age = 37\n",
    "print(age)"
   ]
  },
  {
   "cell_type": "code",
   "execution_count": 5,
   "id": "7ec7cac8-0ed7-4f61-ba19-a75db70c05aa",
   "metadata": {},
   "outputs": [
    {
     "name": "stdout",
     "output_type": "stream",
     "text": [
      "1.7123\n"
     ]
    }
   ],
   "source": [
    "# Floating point number (float) - Fractional number\n",
    "size = 1.7123\n",
    "print(size)"
   ]
  },
  {
   "cell_type": "code",
   "execution_count": 6,
   "id": "851cd09e-4daf-44ce-9fd6-7f76971e036b",
   "metadata": {},
   "outputs": [
    {
     "name": "stdout",
     "output_type": "stream",
     "text": [
      "True\n",
      "False\n"
     ]
    }
   ],
   "source": [
    "# Boolean (bool) - One of two values\n",
    "knows_math = True\n",
    "print(knows_math)\n",
    "likes_gardening = False\n",
    "print(likes_gardening)"
   ]
  },
  {
   "cell_type": "code",
   "execution_count": 7,
   "id": "bdc4c992-6995-4f30-9bef-21e9c971fe2c",
   "metadata": {},
   "outputs": [
    {
     "data": {
      "text/plain": [
       "str"
      ]
     },
     "execution_count": 7,
     "metadata": {},
     "output_type": "execute_result"
    }
   ],
   "source": [
    "# Print data type\n",
    "type(name)"
   ]
  },
  {
   "cell_type": "markdown",
   "id": "69e993c2-b5c8-48c2-aa37-b9a6f2cbe106",
   "metadata": {},
   "source": [
    "### ✨ Exercise: Data Types\n",
    "Create three variables:\n",
    "1. A string (`str`) containing the title of your favourite book.\n",
    "2. An integer (`int`) representing the number of pages.\n",
    "3. A floating point number (`float`) with a rating (e.g. 4.5).\n",
    "\n",
    "Print all values using the `print()`function. You can separate the values in the `print()`function with a comma.\n"
   ]
  },
  {
   "cell_type": "code",
   "execution_count": 1,
   "id": "227da1ad-61f5-4be9-8026-9d35af1d24ae",
   "metadata": {},
   "outputs": [
    {
     "name": "stdout",
     "output_type": "stream",
     "text": [
      "An Immense World 464 4.47\n",
      "My favourite book is  An Immense World\n"
     ]
    }
   ],
   "source": [
    "# ✅ Solution\n",
    "favourite_book = \"An Immense World\"\n",
    "pages = 464\n",
    "rating = 4.47\n",
    "print(favourite_book, pages, rating)\n",
    "print(\"My favourite book is \", favourite_book)"
   ]
  },
  {
   "cell_type": "markdown",
   "id": "2f856eba-ba47-495e-99f1-04ab44540b16",
   "metadata": {},
   "source": [
    "In Jupyter notebooks, you can omit the `print()` function for objects, such as variables, that appear on the final line of a cell. If the final line of a Jupyter cell includes the name of a variable, its value will be displayed in the notebook when the cell is run. "
   ]
  },
  {
   "cell_type": "code",
   "execution_count": 20,
   "id": "4884261f-fc98-4bf3-a38f-c3bd7efbd3cb",
   "metadata": {},
   "outputs": [
    {
     "data": {
      "text/plain": [
       "37"
      ]
     },
     "execution_count": 20,
     "metadata": {},
     "output_type": "execute_result"
    }
   ],
   "source": [
    "# The last value will be output by Jupyter Notebook\n",
    "name\n",
    "age"
   ]
  },
  {
   "cell_type": "code",
   "execution_count": 21,
   "id": "c26f0ed1-4370-4d37-9663-ddce5ef9a7d6",
   "metadata": {},
   "outputs": [
    {
     "name": "stdout",
     "output_type": "stream",
     "text": [
      "Lovelace\n",
      "37\n"
     ]
    }
   ],
   "source": [
    "# If you want to output other values, you have to use \"print\"\n",
    "print(name)\n",
    "print(age)"
   ]
  },
  {
   "cell_type": "markdown",
   "id": "1af90e1b-0ec2-4f65-ae93-f3979e50b0ac",
   "metadata": {},
   "source": [
    "## Operators"
   ]
  },
  {
   "cell_type": "markdown",
   "id": "392c6c83-3224-4dd5-8cef-94ea7103c62f",
   "metadata": {},
   "source": [
    "An object's type determines what the program can do with it. "
   ]
  },
  {
   "cell_type": "code",
   "execution_count": 22,
   "id": "d0e90b8f-d483-4d60-9fa4-60e2e8e58e5c",
   "metadata": {},
   "outputs": [
    {
     "data": {
      "text/plain": [
       "10"
      ]
     },
     "execution_count": 22,
     "metadata": {},
     "output_type": "execute_result"
    }
   ],
   "source": [
    "# Addition of integers\n",
    "5 + 5"
   ]
  },
  {
   "cell_type": "code",
   "execution_count": 23,
   "id": "c1f58aca-f361-4ae9-b53d-243d65f7a03e",
   "metadata": {},
   "outputs": [
    {
     "data": {
      "text/plain": [
       "3700"
      ]
     },
     "execution_count": 23,
     "metadata": {},
     "output_type": "execute_result"
    }
   ],
   "source": [
    "# Multiplication\n",
    "age * 100"
   ]
  },
  {
   "cell_type": "code",
   "execution_count": 24,
   "id": "9e61fe84-409b-45cd-a743-51cc829e806e",
   "metadata": {},
   "outputs": [
    {
     "data": {
      "text/plain": [
       "'LovelaceLovelace'"
      ]
     },
     "execution_count": 24,
     "metadata": {},
     "output_type": "execute_result"
    }
   ],
   "source": [
    "# Concatenation of strings\n",
    "name + name"
   ]
  },
  {
   "cell_type": "code",
   "execution_count": 25,
   "id": "73987755-169a-45aa-9629-34bf808c4abb",
   "metadata": {},
   "outputs": [
    {
     "data": {
      "text/plain": [
       "'LovelaceLovelaceLovelaceLovelaceLovelaceLovelaceLovelaceLovelaceLovelaceLovelace'"
      ]
     },
     "execution_count": 25,
     "metadata": {},
     "output_type": "execute_result"
    }
   ],
   "source": [
    "# Concatenation of strings x times\n",
    "name * 10"
   ]
  },
  {
   "cell_type": "markdown",
   "id": "eaa1d4fb-180a-465d-880c-ff19afb28ad5",
   "metadata": {},
   "source": [
    "We get an error if we try to add a number to a string."
   ]
  },
  {
   "cell_type": "code",
   "execution_count": 26,
   "id": "f4bc767d-17d1-42f5-b636-790c31e6cc0b",
   "metadata": {},
   "outputs": [
    {
     "ename": "TypeError",
     "evalue": "can only concatenate str (not \"int\") to str",
     "output_type": "error",
     "traceback": [
      "\u001b[31m---------------------------------------------------------------------------\u001b[39m",
      "\u001b[31mTypeError\u001b[39m                                 Traceback (most recent call last)",
      "\u001b[36mCell\u001b[39m\u001b[36m \u001b[39m\u001b[32mIn[26]\u001b[39m\u001b[32m, line 2\u001b[39m\n\u001b[32m      1\u001b[39m \u001b[38;5;66;03m# Does not work: the \"+\" operator cannot be applied \u001b[39;00m\n\u001b[32m----> \u001b[39m\u001b[32m2\u001b[39m \u001b[43mname\u001b[49m\u001b[43m \u001b[49m\u001b[43m+\u001b[49m\u001b[43m \u001b[49m\u001b[32;43m10\u001b[39;49m\n",
      "\u001b[31mTypeError\u001b[39m: can only concatenate str (not \"int\") to str"
     ]
    }
   ],
   "source": [
    "# Does not work: the \"+\" operator cannot be applied\n",
    "name + 10"
   ]
  },
  {
   "cell_type": "code",
   "execution_count": 27,
   "id": "cebb3671-47d3-4a5b-ae18-e2f9cdb8accf",
   "metadata": {},
   "outputs": [
    {
     "data": {
      "text/plain": [
       "'Lovelace10'"
      ]
     },
     "execution_count": 27,
     "metadata": {},
     "output_type": "execute_result"
    }
   ],
   "source": [
    "# Works: here, \"10\" is a string\n",
    "name + \"10\""
   ]
  },
  {
   "cell_type": "code",
   "execution_count": 28,
   "id": "27cd0331-0ed2-4f8b-b2f0-33c85ee099c7",
   "metadata": {},
   "outputs": [
    {
     "data": {
      "text/plain": [
       "0.04627837837837838"
      ]
     },
     "execution_count": 28,
     "metadata": {},
     "output_type": "execute_result"
    }
   ],
   "source": [
    "# Division\n",
    "size/age"
   ]
  },
  {
   "cell_type": "code",
   "execution_count": 29,
   "id": "ea3473c3-834c-46c7-8ca1-991e1a45946e",
   "metadata": {},
   "outputs": [
    {
     "data": {
      "text/plain": [
       "float"
      ]
     },
     "execution_count": 29,
     "metadata": {},
     "output_type": "execute_result"
    }
   ],
   "source": [
    "type(size)"
   ]
  },
  {
   "cell_type": "code",
   "execution_count": 32,
   "id": "24b2cfa1-60f9-4097-9cb8-b64b06ae7e46",
   "metadata": {},
   "outputs": [],
   "source": [
    "number_of_articles = \"50\""
   ]
  },
  {
   "cell_type": "code",
   "execution_count": 33,
   "id": "fa91c024-4d15-406e-b2f1-268b7b2d1360",
   "metadata": {},
   "outputs": [
    {
     "ename": "TypeError",
     "evalue": "unsupported operand type(s) for /: 'str' and 'int'",
     "output_type": "error",
     "traceback": [
      "\u001b[31m---------------------------------------------------------------------------\u001b[39m",
      "\u001b[31mTypeError\u001b[39m                                 Traceback (most recent call last)",
      "\u001b[36mCell\u001b[39m\u001b[36m \u001b[39m\u001b[32mIn[33]\u001b[39m\u001b[32m, line 2\u001b[39m\n\u001b[32m      1\u001b[39m \u001b[38;5;66;03m# Does not work: \u001b[39;00m\n\u001b[32m----> \u001b[39m\u001b[32m2\u001b[39m \u001b[43mnumber_of_articles\u001b[49m\u001b[43m \u001b[49m\u001b[43m/\u001b[49m\u001b[43m \u001b[49m\u001b[32;43m10\u001b[39;49m\n",
      "\u001b[31mTypeError\u001b[39m: unsupported operand type(s) for /: 'str' and 'int'"
     ]
    }
   ],
   "source": [
    "# Does not work: unsupported operand type(s) for /: 'str' and 'int'\n",
    "number_of_articles / 10"
   ]
  },
  {
   "cell_type": "code",
   "execution_count": 34,
   "id": "46b01320-505d-418f-9fff-1acf6e98f7f7",
   "metadata": {},
   "outputs": [
    {
     "data": {
      "text/plain": [
       "5.0"
      ]
     },
     "execution_count": 34,
     "metadata": {},
     "output_type": "execute_result"
    }
   ],
   "source": [
    "# First convert the string to an integer using int()\n",
    "int(number_of_articles)/10"
   ]
  },
  {
   "cell_type": "markdown",
   "id": "1e44d6f1-a7db-4055-a4b8-95a067b13b93",
   "metadata": {},
   "source": [
    "## Functions and Methods"
   ]
  },
  {
   "cell_type": "markdown",
   "id": "c7e5e9b1-6993-4078-8546-1f734e439bca",
   "metadata": {},
   "source": [
    "The `len()`function will  tells us the length of an item. In the case of a string, for example, it will tell us how many characters it contains."
   ]
  },
  {
   "cell_type": "code",
   "execution_count": 35,
   "id": "1fc1ceb7-7958-488f-9a96-63635a8d4afa",
   "metadata": {},
   "outputs": [
    {
     "data": {
      "text/plain": [
       "8"
      ]
     },
     "execution_count": 35,
     "metadata": {},
     "output_type": "execute_result"
    }
   ],
   "source": [
    "len(name)"
   ]
  },
  {
   "cell_type": "markdown",
   "id": "ac876e8f-4211-4189-ae8b-1a484617a75a",
   "metadata": {},
   "source": [
    "For now, the difference between a function and a method is not that relevant. Methods are special types of function that are always bound to an object, the thing on the left of the dot. "
   ]
  },
  {
   "cell_type": "code",
   "execution_count": 36,
   "id": "55cad046-35fe-44b1-9b91-e1ed8eeb4a60",
   "metadata": {},
   "outputs": [
    {
     "data": {
      "text/plain": [
       "'LOVELACE'"
      ]
     },
     "execution_count": 36,
     "metadata": {},
     "output_type": "execute_result"
    }
   ],
   "source": [
    "name.upper()"
   ]
  },
  {
   "cell_type": "code",
   "execution_count": 37,
   "id": "212b10ae-2592-4f4a-8dfe-75be4154552c",
   "metadata": {},
   "outputs": [
    {
     "data": {
      "text/plain": [
       "'Lovelace'"
      ]
     },
     "execution_count": 37,
     "metadata": {},
     "output_type": "execute_result"
    }
   ],
   "source": [
    "# The string itself is not changed\n",
    "name"
   ]
  },
  {
   "cell_type": "code",
   "execution_count": 38,
   "id": "81b431f6-41e1-4ce1-b1e3-d441a238d219",
   "metadata": {},
   "outputs": [
    {
     "data": {
      "text/plain": [
       "2"
      ]
     },
     "execution_count": 38,
     "metadata": {},
     "output_type": "execute_result"
    }
   ],
   "source": [
    "name.count(\"e\")"
   ]
  },
  {
   "cell_type": "code",
   "execution_count": 39,
   "id": "3f3b5f71-e8cc-4641-8c54-1dbe34278ab2",
   "metadata": {},
   "outputs": [
    {
     "data": {
      "text/plain": [
       "'Love is everywhere'"
      ]
     },
     "execution_count": 39,
     "metadata": {},
     "output_type": "execute_result"
    }
   ],
   "source": [
    "# Methods with two arguments\n",
    "name.replace(\"lace\", \" is everywhere\")"
   ]
  },
  {
   "cell_type": "markdown",
   "id": "0ac0ffaa-7f5a-485f-8c0b-bd213b458498",
   "metadata": {},
   "source": [
    "### ✨ Exercise: Methods on Strings\n",
    "You have the following phrase:\n",
    "\n",
    "`phrase = \"Python is great\"`\n",
    "\n",
    "1. Capitalize the entire sentence.\n",
    "2. Replace \"Python\" with \"Programming\".\n",
    "3. Print the result."
   ]
  },
  {
   "cell_type": "code",
   "execution_count": 41,
   "id": "b0a23033-e944-46a7-8a53-bcc86d9a8b2a",
   "metadata": {},
   "outputs": [
    {
     "name": "stdout",
     "output_type": "stream",
     "text": [
      "Programming IS GREAT\n"
     ]
    }
   ],
   "source": [
    "# ✅ Solution\n",
    "phrase = \"Python is great\"\n",
    "phrase = phrase.upper() # Capital letters\n",
    "phrase = phrase.replace(\"PYTHON\", \"Programming\") # Replace\n",
    "print(phrase)"
   ]
  },
  {
   "cell_type": "markdown",
   "id": "bd482ecf-f2fe-452d-ad7a-0ec4d278a446",
   "metadata": {},
   "source": [
    "## Data Structures"
   ]
  },
  {
   "cell_type": "markdown",
   "id": "44481947-5d42-42a9-9b3b-87bb7f4744d1",
   "metadata": {},
   "source": [
    "### Lists"
   ]
  },
  {
   "cell_type": "markdown",
   "id": "613a8a2c-aec0-4bc4-b2a2-f87a90e431dd",
   "metadata": {},
   "source": [
    "The most popular type of data collection in Python is the list. Lists have two important characteristics:\n",
    "1. They are mutable, meaning they can be changed after creation.\n",
    "2. They are heterogenous, meaning they can store values of many different types.\n",
    "\n",
    "To create a new list, simply put some values in square brackets, separated by commas. Let's create a short list of names."
   ]
  },
  {
   "cell_type": "code",
   "execution_count": 42,
   "id": "e2fc6197-c4d2-4f73-8eeb-6b01823a37ed",
   "metadata": {},
   "outputs": [],
   "source": [
    "# List\n",
    "names = [\"Lovelace\", \"Darwin\", \"Noether\", \"Hawking\"]"
   ]
  },
  {
   "cell_type": "markdown",
   "id": "86e9df0b-e3c6-4e98-b2c6-973bbfae64fb",
   "metadata": {},
   "source": [
    "#### Indexing\n",
    "We can use index numbers to reference elements in a list. Python uses square brackets (`[` and `]`) to access single elements of objects that can be decomposed into parts. "
   ]
  },
  {
   "cell_type": "code",
   "execution_count": 43,
   "id": "d66671d6-7306-43c8-8f3e-8873be08aba0",
   "metadata": {},
   "outputs": [
    {
     "data": {
      "text/plain": [
       "'Lovelace'"
      ]
     },
     "execution_count": 43,
     "metadata": {},
     "output_type": "execute_result"
    }
   ],
   "source": [
    "names[0]"
   ]
  },
  {
   "cell_type": "code",
   "execution_count": 44,
   "id": "49473b67-e08d-49b3-ac49-9f46fdcc006e",
   "metadata": {},
   "outputs": [
    {
     "data": {
      "text/plain": [
       "'Darwin'"
      ]
     },
     "execution_count": 44,
     "metadata": {},
     "output_type": "execute_result"
    }
   ],
   "source": [
    "names[1]"
   ]
  },
  {
   "cell_type": "code",
   "execution_count": 45,
   "id": "8efa4ed1-4955-41d9-b47b-aa4e7022b9c5",
   "metadata": {},
   "outputs": [
    {
     "data": {
      "text/plain": [
       "'Noether'"
      ]
     },
     "execution_count": 45,
     "metadata": {},
     "output_type": "execute_result"
    }
   ],
   "source": [
    "names[2]"
   ]
  },
  {
   "cell_type": "code",
   "execution_count": 56,
   "id": "679b42ab-eab4-4a33-9023-93ec538ad089",
   "metadata": {},
   "outputs": [
    {
     "data": {
      "text/plain": [
       "'Hawking'"
      ]
     },
     "execution_count": 56,
     "metadata": {},
     "output_type": "execute_result"
    }
   ],
   "source": [
    "# Negative Indexing\n",
    "# You can use negative indices in Python like so:\n",
    "names[-1]"
   ]
  },
  {
   "cell_type": "markdown",
   "id": "9bf2f36f-604a-401c-b4eb-670a3694217d",
   "metadata": {},
   "source": [
    "Something like `my_list[-1]` represents the last element of a list, `my_list[-2]` represents the second last element and so on."
   ]
  },
  {
   "cell_type": "markdown",
   "id": "9a83fcb5-c404-4634-95fb-67c0b8a96368",
   "metadata": {},
   "source": [
    "#### Slicing\n",
    "We can also use index numbers to reference slices in a list. "
   ]
  },
  {
   "cell_type": "code",
   "execution_count": 47,
   "id": "17158f99-351e-4612-b7e6-93bdc16e10e6",
   "metadata": {},
   "outputs": [
    {
     "data": {
      "text/plain": [
       "['Lovelace', 'Darwin', 'Noether']"
      ]
     },
     "execution_count": 47,
     "metadata": {},
     "output_type": "execute_result"
    }
   ],
   "source": [
    "names[0:3]"
   ]
  },
  {
   "cell_type": "markdown",
   "id": "73385eb3-d77d-498d-a233-4940a081b1de",
   "metadata": {},
   "source": [
    "More info on slicing: https://stackoverflow.com/questions/509211/how-slicing-in-python-works\n",
    "\n",
    "A good visualisation can be found here: https://github.com/foerstner-lab/Bits_and_pieces_for_the_carpentries_workshops/blob/main/python/Python_Basics_de.ipynb\n"
   ]
  },
  {
   "cell_type": "code",
   "execution_count": 48,
   "id": "2efa90b5-f500-4b6c-8c55-c2fcce39ce03",
   "metadata": {},
   "outputs": [
    {
     "data": {
      "text/plain": [
       "['Lovelace', 'Darwin']"
      ]
     },
     "execution_count": 48,
     "metadata": {},
     "output_type": "execute_result"
    }
   ],
   "source": [
    "names[:2]"
   ]
  },
  {
   "cell_type": "code",
   "execution_count": 49,
   "id": "ebb23157-fd7d-471a-a2e0-3b2d35e966c4",
   "metadata": {},
   "outputs": [
    {
     "data": {
      "text/plain": [
       "['Noether', 'Hawking']"
      ]
     },
     "execution_count": 49,
     "metadata": {},
     "output_type": "execute_result"
    }
   ],
   "source": [
    "names[2:]"
   ]
  },
  {
   "cell_type": "markdown",
   "id": "00af849e-8760-4c28-a307-e3640e2d34bf",
   "metadata": {},
   "source": [
    "### Dictionaries"
   ]
  },
  {
   "cell_type": "markdown",
   "id": "5f4c961c-0303-425b-b9eb-4a1f98ad0804",
   "metadata": {},
   "source": [
    "One of Python's best features is its \"dictionary\" data structure. Whereas a list is simply a collection of elements, a dictionary supports key-value storage of data. Put into plain english, it lets you store and retrieve data values by name. \n",
    "\n",
    "Let's create and use a simple dictionary to illustrate this:"
   ]
  },
  {
   "cell_type": "code",
   "execution_count": 50,
   "id": "c2e43a5e-7f92-46a1-8299-8134204c4512",
   "metadata": {},
   "outputs": [],
   "source": [
    "authors_and_birth_years = {\"Lovelace\": 1815,\n",
    "                          \"Darwin\": 1809,\n",
    "                          \"Noether\": 1882,\n",
    "                          \"Hawking\": 1942}"
   ]
  },
  {
   "cell_type": "code",
   "execution_count": 55,
   "id": "57cd85f1-2796-471a-871a-3fd4edeeb6d2",
   "metadata": {},
   "outputs": [
    {
     "data": {
      "text/plain": [
       "1809"
      ]
     },
     "execution_count": 55,
     "metadata": {},
     "output_type": "execute_result"
    }
   ],
   "source": [
    "# Retrieve a value from the dictionary\n",
    "authors_and_birth_years[\"Darwin\"]"
   ]
  },
  {
   "cell_type": "code",
   "execution_count": 52,
   "id": "38ab0a16-8a69-4288-af6e-ec909c7d6db9",
   "metadata": {},
   "outputs": [
    {
     "ename": "KeyError",
     "evalue": "'DARWIN'",
     "output_type": "error",
     "traceback": [
      "\u001b[31m---------------------------------------------------------------------------\u001b[39m",
      "\u001b[31mKeyError\u001b[39m                                  Traceback (most recent call last)",
      "\u001b[36mCell\u001b[39m\u001b[36m \u001b[39m\u001b[32mIn[52]\u001b[39m\u001b[32m, line 2\u001b[39m\n\u001b[32m      1\u001b[39m \u001b[38;5;66;03m# Does not work: key is not defined\u001b[39;00m\n\u001b[32m----> \u001b[39m\u001b[32m2\u001b[39m \u001b[43mauthors_and_birth_years\u001b[49m\u001b[43m[\u001b[49m\u001b[33;43m\"\u001b[39;49m\u001b[33;43mDARWIN\u001b[39;49m\u001b[33;43m\"\u001b[39;49m\u001b[43m]\u001b[49m\n",
      "\u001b[31mKeyError\u001b[39m: 'DARWIN'"
     ]
    }
   ],
   "source": [
    "# Does not work: key is not defined\n",
    "authors_and_birth_years[\"DARWIN\"]"
   ]
  },
  {
   "cell_type": "markdown",
   "id": "6831cf02-d5bf-4d7a-aa93-ac3aff8ba985",
   "metadata": {},
   "source": [
    "### ✨ Exercise: Lists and Dictionaries\n",
    "1. Create a list of three city names.\n",
    "2. Add a fourth city. You can use the `append()` method to do this.\n",
    "3. Create a dictionary that assigns a country to each city.\n",
    "4. Print both using the `print()` function."
   ]
  },
  {
   "cell_type": "code",
   "execution_count": 54,
   "id": "643a81aa-cdf6-49c1-be9c-a9c4852c1a84",
   "metadata": {},
   "outputs": [
    {
     "name": "stdout",
     "output_type": "stream",
     "text": [
      "['Berlin', 'Paris', 'Rome', 'Madrid']\n",
      "{'Berlin': 'Germany', 'Paris': 'France', 'Rome': 'Italy', 'Madrid': 'Spain'}\n"
     ]
    }
   ],
   "source": [
    "# ✅ Solution\n",
    "cities = [\"Berlin\", \"Paris\", \"Rome\"]\n",
    "cities.append(\"Madrid\")\n",
    "countries = {\"Berlin\": \"Germany\",\n",
    "            \"Paris\": \"France\", \n",
    "            \"Rome\": \"Italy\",\n",
    "            \"Madrid\": \"Spain\"}\n",
    "print(cities)\n",
    "print(countries)"
   ]
  },
  {
   "cell_type": "markdown",
   "id": "70a1b168-4884-4fae-8e6a-5c3be98a4dab",
   "metadata": {},
   "source": [
    "## For Loops"
   ]
  },
  {
   "cell_type": "markdown",
   "id": "dd3b850e-f9bc-45d7-98cb-eaa7db03d3a7",
   "metadata": {},
   "source": [
    "A `for`loop repeats an operation once for each element it encounters in a collection. The general structure of a loop is:\n",
    "\n",
    "**for** variable **in** collection:\n",
    "    \n",
    "    # do things using variable, such as print\n",
    "\n",
    "**Notes:**\n",
    "- We can name the loop variable anything we like.\n",
    "- There must be a colon at the end of the line that starts the loop.\n",
    "- We must indent anything that we want to run inside the loop. Unlike in many other programming languages, there is no command to signify the end of the loop body. Anything indented after the `for`statement belongs to the loop."
   ]
  },
  {
   "cell_type": "code",
   "execution_count": 59,
   "id": "1aea588c-a02a-4e9a-b3cf-f92468d42925",
   "metadata": {},
   "outputs": [
    {
     "name": "stdout",
     "output_type": "stream",
     "text": [
      "Lovelace did awesome stuff.\n",
      "Darwin did awesome stuff.\n",
      "Noether did awesome stuff.\n",
      "Hawking did awesome stuff.\n"
     ]
    }
   ],
   "source": [
    "for person in names:\n",
    "    print(person + \" did awesome stuff.\")"
   ]
  },
  {
   "cell_type": "markdown",
   "id": "100bffef-1b09-405a-a187-72f4261e1c12",
   "metadata": {},
   "source": [
    "Loops are a more robust way of dealing with containers such as lists. Even if the values in the list change, the loop will still work.\n",
    "\n",
    "Loop variables are created when you define the loop and persist after it finishes. As with all variablee names, it is helpful to give for-loop variables meaningful names that you will understand as your code grows. For example, `for person in names` is easier to understand than `for kitten in names`. "
   ]
  },
  {
   "cell_type": "markdown",
   "id": "df4034a1-3118-4709-90dc-3dfad2f34cb0",
   "metadata": {},
   "source": [
    "### ✨ Exercise: For Loops\n",
    "You have the following list of numbers:\n",
    "\n",
    "`numbers = [3, 7, 1, 9, 2]`\n",
    "\n",
    "1. Write a loop that prints all of these numbers and calculates the sum of all the numbers.\n",
    "3. Print the result.\n",
    "\n",
    "**Hint:** \n",
    "If you want to calculate a sum, you first need to set a variable to 0, which is then incremented throughout the loop.\n",
    "\n",
    "The calculation works as follows:\n",
    "- At the beginning, sum = 0\n",
    "- For each number in the list, sum = sum + number is calculated\n",
    "- At the end, `sum` contains the total sum of all numbers"
   ]
  },
  {
   "cell_type": "code",
   "execution_count": 58,
   "id": "7f6b5f1c-ba04-49cb-9b45-08fdb31d5485",
   "metadata": {},
   "outputs": [
    {
     "name": "stdout",
     "output_type": "stream",
     "text": [
      "3\n",
      "7\n",
      "1\n",
      "9\n",
      "2\n",
      "Sum: 22\n"
     ]
    }
   ],
   "source": [
    "# ✅ Solution\n",
    "numbers = [3, 7, 1, 9, 2]\n",
    "sum = 0\n",
    "for number in numbers:\n",
    "    print(number)\n",
    "    sum = sum + number\n",
    "    # or sum += number\n",
    "print(\"Sum:\", sum)"
   ]
  },
  {
   "cell_type": "markdown",
   "id": "237448a1-6618-44e6-8e97-d21aebc30af6",
   "metadata": {},
   "source": [
    "## Conditions and If Statements"
   ]
  },
  {
   "cell_type": "markdown",
   "id": "d9e0e74c-7245-4b58-acc6-ef7d7fd7d14a",
   "metadata": {},
   "source": [
    "An `if`statement is a conditional statement that determines whether a block of code is executed. The syntax of an `if` statement is similar to that of a `for`statement:\n",
    "- The first line begins with `if`and ends with a colon.\n",
    "- The body is indented (usually by four spaces)."
   ]
  },
  {
   "cell_type": "code",
   "execution_count": 60,
   "id": "69e9040d-bedd-4336-9f52-df2938b8cfac",
   "metadata": {},
   "outputs": [
    {
     "name": "stdout",
     "output_type": "stream",
     "text": [
      "It's warm\n"
     ]
    }
   ],
   "source": [
    "temp = 20\n",
    "if temp > 15:\n",
    "    print(\"It's warm\")"
   ]
  },
  {
   "cell_type": "code",
   "execution_count": 61,
   "id": "d6b34924-5dfb-4f93-a53e-578a0ceef06c",
   "metadata": {},
   "outputs": [
    {
     "data": {
      "text/plain": [
       "True"
      ]
     },
     "execution_count": 61,
     "metadata": {},
     "output_type": "execute_result"
    }
   ],
   "source": [
    "20 > 15"
   ]
  },
  {
   "cell_type": "markdown",
   "id": "30bf0791-1a35-4d03-ad0b-4ec8d65290e5",
   "metadata": {},
   "source": [
    "We can use an `else` statement following an `if` statement to specify an alternative code block to execute when the `if` branch is not taken."
   ]
  },
  {
   "cell_type": "code",
   "execution_count": 63,
   "id": "190a66da-2aa2-4b05-bfa2-ea60cfac103f",
   "metadata": {},
   "outputs": [
    {
     "name": "stdout",
     "output_type": "stream",
     "text": [
      "It's cold\n"
     ]
    }
   ],
   "source": [
    "temp = 10\n",
    "if temp > 15:\n",
    "    print(\"It's warm\")\n",
    "else:\n",
    "    print(\"It's cold\")"
   ]
  },
  {
   "cell_type": "markdown",
   "id": "83106df3-f36e-4568-842c-b26576c3ec62",
   "metadata": {},
   "source": [
    "You can use `elif`(short for \"else if\") to provide several alternative choices, each with its own test. An `elif` statement must always be associated with an `if` statement and precede the `else` statement (the catch-all)."
   ]
  },
  {
   "cell_type": "code",
   "execution_count": 64,
   "id": "5daafbd8-c6f4-45ac-bc1c-ae90ad04f6da",
   "metadata": {},
   "outputs": [
    {
     "name": "stdout",
     "output_type": "stream",
     "text": [
      "It's warm\n"
     ]
    }
   ],
   "source": [
    "temp = 15\n",
    "if temp >= 25:\n",
    "    print(\"It's hot\")\n",
    "elif temp >= 15:\n",
    "    print(\"It's warm\")\n",
    "else:\n",
    "    print(\"It's cold\")"
   ]
  },
  {
   "cell_type": "markdown",
   "id": "ed8b216a-500a-4415-92f3-49f4f6c77ed7",
   "metadata": {},
   "source": [
    "Conditions are tested in order and only once; they are not re-evaluated if values change. Python steps through the branches of the conditional statement in order, testing each one in turn, so the order of your statements matter. "
   ]
  },
  {
   "cell_type": "markdown",
   "id": "87fdc5d6-cbfa-4dc4-b6bf-0316f7684ae7",
   "metadata": {},
   "source": [
    "### ✨ Exercise: Conditional Statements\n",
    "A movie ticket costs 10 €. Children under 12 years of age get a 50 % discount. Write a program that checks whether a person is eligible for the discount."
   ]
  },
  {
   "cell_type": "code",
   "execution_count": 66,
   "id": "f6f826dd-4e8f-4333-aea1-8a81148de530",
   "metadata": {},
   "outputs": [
    {
     "name": "stdout",
     "output_type": "stream",
     "text": [
      "Ticket price: 5.0 €\n"
     ]
    }
   ],
   "source": [
    "# ✅ Solution\n",
    "age = 10\n",
    "price = 10 # Test age\n",
    "\n",
    "if age < 12:\n",
    "    price *= 0.5 # 50 % discount\n",
    "\n",
    "print(\"Ticket price:\", price, \"€\")"
   ]
  }
 ],
 "metadata": {
  "kernelspec": {
   "display_name": "Python 3 (ipykernel)",
   "language": "python",
   "name": "python3"
  },
  "language_info": {
   "codemirror_mode": {
    "name": "ipython",
    "version": 3
   },
   "file_extension": ".py",
   "mimetype": "text/x-python",
   "name": "python",
   "nbconvert_exporter": "python",
   "pygments_lexer": "ipython3",
   "version": "3.13.3"
  }
 },
 "nbformat": 4,
 "nbformat_minor": 5
}
