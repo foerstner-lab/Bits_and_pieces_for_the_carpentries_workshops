{
 "cells": [
  {
   "cell_type": "markdown",
   "id": "f916d773-63b8-4611-aa7e-5e4cefc8b594",
   "metadata": {},
   "source": [
    "# Cleaning and validating ISBN numbers with Python\n",
    "\n",
    "**Description**  \n",
    "This notebook demonstrates how to clean and validate ISBN numbers using Python.  \n",
    "It introduces a simple workflow to identify and correct formatting inconsistencies in ISBN-10 and ISBN-13 numbers.  \n",
    "You will learn to use string methods, regular expressions, and conditional logic to ensure that ISBN data is accurate and standardized.\n",
    "\n",
    "**Learning goals**  \n",
    "After completing this notebook, you will be able to:\n",
    "- Identify and handle typical issues in ISBN datasets (missing digits, dashes, inconsistent lengths)  \n",
    "- Understand the difference between ISBN-10 and ISBN-13 formats  \n",
    "- Implement Python functions to clean and normalize ISBN strings   \n",
    "\n",
    "**Authors**  \n",
    "- Konrad Föstner, ORCID: [https://orcid.org/0000-0002-1481-2996](https://orcid.org/0000-0002-1481-2996)  \n",
    "- Rabea Müller, ORCID: [https://orcid.org/0000-0002-3096-8237](https://orcid.org/0000-0002-3096-8237)  \n",
    "\n",
    "**Affiliation**  \n",
    "Data Science and Services, ZB MED – Information Centre for Life Sciences, Cologne, NRW, Germany  \n",
    "Correspondence: [muellerr@zbmed.de](mailto:muellerr@zbmed.de)\n",
    "\n",
    "**Date**  \n",
    "Created: 2019-11-28\n",
    "Last updated: 2025-10-23  \n",
    "\n",
    "**Requirements**  \n",
    "- Python ≥ 3.10  \n",
    "- Jupyter Notebook or JupyterLab environment  \n",
    "\n",
    "**Licence for this notebook**  \n",
    "Creative Commons Attribution 4.0 International (CC BY 4.0)  \n",
    "https://creativecommons.org/licenses/by/4.0/\n"
   ]
  },
  {
   "cell_type": "markdown",
   "id": "af23329b-5b0f-4c7a-8c1a-c4c93588ea0d",
   "metadata": {},
   "source": [
    "In this step, a list with three entries is created. Each entry represents an ISBN number, with the entries containing different formats and spaces. The ISBN numbers are stored in strings."
   ]
  },
  {
   "cell_type": "code",
   "execution_count": 1,
   "id": "7f275300-edc6-4d1a-bf0f-652ce17ff251",
   "metadata": {},
   "outputs": [],
   "source": [
    "#dirty ISBNs\n",
    "dirty_isbns = [\n",
    "    \" 978-3-518-58773-7 \", \n",
    "    \"ISBN___978-1-491-94600-8 \",\n",
    "    \"ISBN 978-1-59327-603-4\"]"
   ]
  },
  {
   "cell_type": "markdown",
   "id": "dac5cfed-b106-4522-aca1-92e8d10af922",
   "metadata": {},
   "source": [
    "In the next step, we define the function, but do not yet obtain any output."
   ]
  },
  {
   "cell_type": "code",
   "execution_count": 4,
   "id": "cbbdec70-0432-4bed-bf4d-d8bc84bc858f",
   "metadata": {},
   "outputs": [],
   "source": [
    "def clean_isbn():\n",
    "    isbn = \" 978-3-518-58773-7 \"\n",
    "    print(isbn)\n",
    "# .. nothing happening (as the function is not called)"
   ]
  },
  {
   "cell_type": "markdown",
   "id": "0add056c-a1d7-4176-9201-fed142c44ee9",
   "metadata": {},
   "source": [
    "To obtain an output, we must call the defined function."
   ]
  },
  {
   "cell_type": "code",
   "execution_count": 5,
   "id": "94584b20-2b77-4a18-82f7-838c629b8166",
   "metadata": {},
   "outputs": [
    {
     "name": "stdout",
     "output_type": "stream",
     "text": [
      " 978-3-518-58773-7 \n"
     ]
    }
   ],
   "source": [
    "clean_isbn()"
   ]
  },
  {
   "cell_type": "markdown",
   "id": "9420ec41-57ec-48c4-9ea0-8734024a784e",
   "metadata": {},
   "source": [
    "Now let's clean up the ISBN within the function. We can see that there are spaces before and after the ISBN. To remove these, we can use the strip() method."
   ]
  },
  {
   "cell_type": "code",
   "execution_count": 8,
   "id": "4e062587-df82-4355-8d67-49e65a942bef",
   "metadata": {},
   "outputs": [
    {
     "name": "stdout",
     "output_type": "stream",
     "text": [
      "978-3-518-58773-7\n"
     ]
    }
   ],
   "source": [
    "def clean_isbn():\n",
    "    isbn = \" 978-3-518-58773-7 \"\n",
    "    isbn = isbn.strip()\n",
    "    print(isbn)\n",
    "clean_isbn()"
   ]
  },
  {
   "cell_type": "markdown",
   "id": "e6409704-d5e3-411a-9765-96ac7e997b0b",
   "metadata": {},
   "source": [
    "At the moment, the function only works for a specific ISBN, as it is hard-coded within the function. To change this, we define the function so that it expects an ISBN as input. "
   ]
  },
  {
   "cell_type": "code",
   "execution_count": 9,
   "id": "df714ae8-5716-4dbd-8094-0b65facac585",
   "metadata": {},
   "outputs": [
    {
     "name": "stdout",
     "output_type": "stream",
     "text": [
      "ISBN 978-1-59327-603-4\n"
     ]
    }
   ],
   "source": [
    "def clean_isbn(isbn):\n",
    "    isbn = isbn.strip()    \n",
    "    print(isbn) \n",
    "clean_isbn(\"ISBN 978-1-59327-603-4\")"
   ]
  },
  {
   "cell_type": "markdown",
   "id": "5610b15f-8f9b-4cd6-a6b2-e2f903f19ac9",
   "metadata": {},
   "source": [
    "Now we want to remove ‘ISBN’ as well. We can do this with the replace() method. "
   ]
  },
  {
   "cell_type": "code",
   "execution_count": 10,
   "id": "c0503545-d1f8-4393-86c0-422278f36afe",
   "metadata": {},
   "outputs": [
    {
     "name": "stdout",
     "output_type": "stream",
     "text": [
      "978-1-59327-603-4\n"
     ]
    }
   ],
   "source": [
    "def clean_isbn(isbn):\n",
    "    isbn = isbn.replace(\"ISBN\", \"\")\n",
    "    isbn = isbn.strip()    \n",
    "    print(isbn) \n",
    "clean_isbn(\"ISBN 978-1-59327-603-4\")"
   ]
  },
  {
   "cell_type": "markdown",
   "id": "de493e75-1027-4357-852c-46fda80b723e",
   "metadata": {},
   "source": [
    "The processed ISBN number is printed to the console with print. The return value of the function is None, as there is no explicit return statement. Therefore, the processed ISBN number is only printed to the console, but it is not returned as a value that we could store in another variable. To change this, we use return in the next step."
   ]
  },
  {
   "cell_type": "code",
   "execution_count": 11,
   "id": "d22e32cc-7243-4324-a856-1e902ca67366",
   "metadata": {},
   "outputs": [
    {
     "name": "stdout",
     "output_type": "stream",
     "text": [
      "978-1-59327-603-4\n"
     ]
    }
   ],
   "source": [
    "def clean_isbn(isbn):\n",
    "    isbn = isbn.replace(\"ISBN\", \"\")\n",
    "    isbn = isbn.strip()    \n",
    "    return isbn \n",
    "cleaned_isbn = clean_isbn(\"ISBN 978-1-59327-603-4\")\n",
    "print(cleaned_isbn)"
   ]
  },
  {
   "cell_type": "markdown",
   "id": "3b9905dd-2eb5-4cb1-b8a2-c75b0534cd43",
   "metadata": {},
   "source": [
    "The returned ISBN number is now stored in the cleaned_isbn variable and then output to the console using print. This means that we can reuse the processed ISBN number in other parts of our code, as it is stored as a value in the cleaned_isbn variable.\n",
    "\n",
    "The difference lies in the use of print versus return. The first code snippet only outputs the processed ISBN number to the console, while the second code snippet returns the processed ISBN number so that we can use it in other parts of your code."
   ]
  },
  {
   "cell_type": "markdown",
   "id": "b2be8766-e759-4f6f-a8d9-f350fcc3bbb9",
   "metadata": {},
   "source": [
    "Now let's apply the function to all our ISBNs. We can do this using a for loop that iterates through our list of ISBNs.\n",
    "."
   ]
  },
  {
   "cell_type": "code",
   "execution_count": 12,
   "id": "9a06df3e-ac30-42c9-aeb2-c57112d4e30a",
   "metadata": {},
   "outputs": [
    {
     "name": "stdout",
     "output_type": "stream",
     "text": [
      "978-3-518-58773-7\n",
      "___978-1-491-94600-8\n",
      "978-1-59327-603-4\n"
     ]
    }
   ],
   "source": [
    "for isbn in dirty_isbns:\n",
    "    cleaned_isbn = clean_isbn(isbn)\n",
    "    print(cleaned_isbn)"
   ]
  },
  {
   "cell_type": "markdown",
   "id": "7e2d1811-48eb-476e-9d17-825ed1129147",
   "metadata": {},
   "source": [
    "It looks quite good, but we still need to extend the function to remove the underscores."
   ]
  },
  {
   "cell_type": "code",
   "execution_count": 13,
   "id": "fc401792-63a1-4100-ac38-2bfec0955e3f",
   "metadata": {},
   "outputs": [
    {
     "name": "stdout",
     "output_type": "stream",
     "text": [
      "978-3-518-58773-7\n",
      "978-1-491-94600-8\n",
      "978-1-59327-603-4\n"
     ]
    }
   ],
   "source": [
    "def clean_isbn(isbn):\n",
    "    isbn = isbn.replace(\"ISBN\", \"\")\n",
    "    isbn = isbn.replace(\"_\", \"\")\n",
    "    isbn = isbn.strip()  \n",
    "    return isbn \n",
    "\n",
    "for isbn in dirty_isbns:\n",
    "    cleaned_isbn = clean_isbn(isbn)\n",
    "    print(cleaned_isbn)"
   ]
  },
  {
   "cell_type": "markdown",
   "id": "e2b042bc-7632-4c7c-8f4f-c04ff1eb1d6d",
   "metadata": {},
   "source": [
    "## Summary\n",
    "\n",
    "In this notebook you learned to:\n",
    "- Detect and correct formatting inconsistencies in ISBN numbers  \n",
    "- Differentiate between ISBN-10 and ISBN-13 formats  \n",
    "- Clean ISBN data using string manipulation and regular expressions  \n",
    "\n",
    "Accurate ISBN validation is a crucial step in preparing bibliographic or publishing metadata for analysis, cataloging, or data integration tasks.\n",
    "\n",
    "---\n",
    "\n",
    "## Further reading\n",
    "\n",
    "\n",
    "- [Python regular expressions documentation](https://docs.python.org/3/library/re.html)  \n",
    "- [pandas string handling guide](https://pandas.pydata.org/docs/user_guide/text.html)  \n",
    "- [Real Python – Regular Expressions in Python](https://realpython.com/regex-python/)\n",
    "\n",
    "---\n",
    "\n",
    "## Citation and licence\n",
    "\n",
    "Föstner, K.; Müller, R. (2025). *Cleaning and validating ISBN numbers with Python* [Jupyter Notebook].  \n",
    "Creative Commons Attribution 4.0 International (CC BY 4.0).\n"
   ]
  },
  {
   "cell_type": "code",
   "execution_count": null,
   "id": "221687ce-8880-4fa6-a823-25baf38c993b",
   "metadata": {},
   "outputs": [],
   "source": []
  }
 ],
 "metadata": {
  "kernelspec": {
   "display_name": "Python 3 (ipykernel)",
   "language": "python",
   "name": "python3"
  },
  "language_info": {
   "codemirror_mode": {
    "name": "ipython",
    "version": 3
   },
   "file_extension": ".py",
   "mimetype": "text/x-python",
   "name": "python",
   "nbconvert_exporter": "python",
   "pygments_lexer": "ipython3",
   "version": "3.10.12"
  }
 },
 "nbformat": 4,
 "nbformat_minor": 5
}
