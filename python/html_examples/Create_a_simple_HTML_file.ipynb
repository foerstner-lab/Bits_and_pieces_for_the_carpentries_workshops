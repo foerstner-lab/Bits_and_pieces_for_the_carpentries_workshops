{
 "cells": [
  {
   "cell_type": "markdown",
   "metadata": {},
   "source": [
    "## Create a simple HTML file (clean up of the Notebook is need)"
   ]
  },
  {
   "cell_type": "code",
   "execution_count": 1,
   "metadata": {},
   "outputs": [],
   "source": [
    "names = [\"Hawking\", \"Noether\", \"Curie\"]"
   ]
  },
  {
   "cell_type": "code",
   "execution_count": 2,
   "metadata": {},
   "outputs": [
    {
     "name": "stdout",
     "output_type": "stream",
     "text": [
      "Hawking\n",
      "Noether\n",
      "Curie\n"
     ]
    }
   ],
   "source": [
    "for name in names:\n",
    "    print(name)"
   ]
  },
  {
   "cell_type": "code",
   "execution_count": 3,
   "metadata": {},
   "outputs": [
    {
     "name": "stdout",
     "output_type": "stream",
     "text": [
      "Hawking was a great scientist.\n",
      "Noether was a great scientist.\n",
      "Curie was a great scientist.\n"
     ]
    }
   ],
   "source": [
    "for name in names:\n",
    "    print(f\"{name} was a great scientist.\")"
   ]
  },
  {
   "cell_type": "code",
   "execution_count": 4,
   "metadata": {},
   "outputs": [
    {
     "name": "stdout",
     "output_type": "stream",
     "text": [
      "Hawking was a great scientist.\n",
      "\n",
      "Noether was a great scientist.\n",
      "\n",
      "Curie was a great scientist.\n",
      "\n"
     ]
    }
   ],
   "source": [
    "for name in names:\n",
    "    print(f\"{name} was a great scientist.\\n\")"
   ]
  },
  {
   "cell_type": "code",
   "execution_count": 5,
   "metadata": {},
   "outputs": [],
   "source": [
    "authors_and_birth_years = {\"Lovelace\": 1882, \n",
    "                           \"Darwin\": 1809,\n",
    "                           \"Noether\": 1882 ,\n",
    "                           \"Hawking\": 1942}"
   ]
  },
  {
   "cell_type": "code",
   "execution_count": 6,
   "metadata": {},
   "outputs": [
    {
     "data": {
      "text/plain": [
       "dict_keys(['Lovelace', 'Darwin', 'Noether', 'Hawking'])"
      ]
     },
     "execution_count": 6,
     "metadata": {},
     "output_type": "execute_result"
    }
   ],
   "source": [
    "authors_and_birth_years.keys()"
   ]
  },
  {
   "cell_type": "code",
   "execution_count": 7,
   "metadata": {},
   "outputs": [
    {
     "data": {
      "text/plain": [
       "dict_items([('Lovelace', 1882), ('Darwin', 1809), ('Noether', 1882), ('Hawking', 1942)])"
      ]
     },
     "execution_count": 7,
     "metadata": {},
     "output_type": "execute_result"
    }
   ],
   "source": [
    "authors_and_birth_years.items()"
   ]
  },
  {
   "cell_type": "code",
   "execution_count": 8,
   "metadata": {},
   "outputs": [
    {
     "name": "stdout",
     "output_type": "stream",
     "text": [
      "Lovelace was born in 1882\n",
      "Darwin was born in 1809\n",
      "Noether was born in 1882\n",
      "Hawking was born in 1942\n"
     ]
    }
   ],
   "source": [
    "for name, year in authors_and_birth_years.items():\n",
    "    print(f\"{name} was born in {year}\")"
   ]
  },
  {
   "cell_type": "code",
   "execution_count": 9,
   "metadata": {},
   "outputs": [],
   "source": [
    "fh = open(\"authors.html\", \"w\")\n",
    "\n",
    "fh.write(\"Something nice\")\n",
    "\n",
    "fh.close()"
   ]
  },
  {
   "cell_type": "markdown",
   "metadata": {},
   "source": [
    "Now open the file authors.html in your web browser."
   ]
  },
  {
   "cell_type": "code",
   "execution_count": 10,
   "metadata": {},
   "outputs": [],
   "source": [
    "title = \"My awesome page\"\n",
    "text = \"The best web site every.\"\n",
    "\n",
    "fh = open(\"authors.html\", \"w\")\n",
    "\n",
    "fh.write(f\"Was nettes.\")\n",
    "\n",
    "fh.close()"
   ]
  },
  {
   "cell_type": "code",
   "execution_count": 11,
   "metadata": {},
   "outputs": [
    {
     "name": "stdout",
     "output_type": "stream",
     "text": [
      "blub\n",
      "bla\n",
      "blub\n",
      "\n"
     ]
    }
   ],
   "source": [
    "x = \"\"\"blub\n",
    "bla\n",
    "blub\n",
    "\"\"\"\n",
    "print(x)"
   ]
  },
  {
   "cell_type": "code",
   "execution_count": 12,
   "metadata": {},
   "outputs": [],
   "source": [
    "title = \"My awesome page\"\n",
    "text = \"The best web site every.\"\n",
    "\n",
    "fh = open(\"authors.html\", \"w\")\n",
    "\n",
    "fh.write(f\"\"\"\n",
    "<!doctype html>\n",
    "<html>\n",
    "<head>\n",
    "<title>{title}</title>\n",
    "</head>\n",
    "<body>\n",
    "<h1>{title}</h1>\n",
    "<p>{text}</p>\n",
    "</body>\n",
    "</html>\n",
    "\"\"\")\n",
    "\n",
    "fh.close()"
   ]
  },
  {
   "cell_type": "code",
   "execution_count": 13,
   "metadata": {},
   "outputs": [],
   "source": [
    "import urllib.request"
   ]
  },
  {
   "cell_type": "code",
   "execution_count": 14,
   "metadata": {},
   "outputs": [],
   "source": [
    "pub_list = \"https://raw.githubusercontent.com/foerstner-lab/Bits_and_pieces_for_the_carpentries_workshops/master/text_file_examples/DOIs_PMIDs_PubYears.tsv\"\n",
    "pub_list_file = \"pub_list.tsv\""
   ]
  },
  {
   "cell_type": "code",
   "execution_count": 15,
   "metadata": {},
   "outputs": [
    {
     "data": {
      "text/plain": [
       "('pub_list.tsv', <http.client.HTTPMessage at 0x7f41dc67f208>)"
      ]
     },
     "execution_count": 15,
     "metadata": {},
     "output_type": "execute_result"
    }
   ],
   "source": [
    "urllib.request.urlretrieve(pub_list, pub_list_file)"
   ]
  },
  {
   "cell_type": "code",
   "execution_count": 16,
   "metadata": {},
   "outputs": [
    {
     "name": "stdout",
     "output_type": "stream",
     "text": [
      "DOI\tPMID\tYear\n",
      "\n",
      "10.1186/s13326-017-0123-3\t28412964\t2017\n",
      "\n",
      "10.1093/bioinformatics/btw331\t27288493\t2016\n",
      "\n",
      "10.1007/s11306-018-1356-6\t29706851\t2018\n",
      "\n",
      "10.1371/journal.pcbi.1004447\t26335558\t2015\n",
      "\n",
      "10.1093/bioinformatics/btv363.\t26085503\t2015\n",
      "\n",
      "10.1371/journal.pbio.3000246\t31042704\t2019\n",
      "\n",
      "10.7717/peerj.6762\t30997295\t2019\n",
      "\n",
      "10.3389/fpsyg.2019.00564\t30949097\t2019\n",
      "\n"
     ]
    }
   ],
   "source": [
    "for line in open(pub_list_file):\n",
    "    print(line)"
   ]
  },
  {
   "cell_type": "code",
   "execution_count": 17,
   "metadata": {},
   "outputs": [],
   "source": [
    "my_text = \"This is some awesome text\""
   ]
  },
  {
   "cell_type": "code",
   "execution_count": 18,
   "metadata": {},
   "outputs": [
    {
     "data": {
      "text/plain": [
       "['This', 'is', 'some', 'awesome', 'text']"
      ]
     },
     "execution_count": 18,
     "metadata": {},
     "output_type": "execute_result"
    }
   ],
   "source": [
    "my_text.split()"
   ]
  },
  {
   "cell_type": "code",
   "execution_count": 19,
   "metadata": {},
   "outputs": [
    {
     "data": {
      "text/plain": [
       "['This is ', ' awe', ' text']"
      ]
     },
     "execution_count": 19,
     "metadata": {},
     "output_type": "execute_result"
    }
   ],
   "source": [
    "my_text.split(\"some\")"
   ]
  },
  {
   "cell_type": "code",
   "execution_count": 20,
   "metadata": {},
   "outputs": [
    {
     "name": "stdout",
     "output_type": "stream",
     "text": [
      "['DOI', 'PMID', 'Year']\n",
      "['10.1186/s13326-017-0123-3', '28412964', '2017']\n",
      "['10.1093/bioinformatics/btw331', '27288493', '2016']\n",
      "['10.1007/s11306-018-1356-6', '29706851', '2018']\n",
      "['10.1371/journal.pcbi.1004447', '26335558', '2015']\n",
      "['10.1093/bioinformatics/btv363.', '26085503', '2015']\n",
      "['10.1371/journal.pbio.3000246', '31042704', '2019']\n",
      "['10.7717/peerj.6762', '30997295', '2019']\n",
      "['10.3389/fpsyg.2019.00564', '30949097', '2019']\n"
     ]
    }
   ],
   "source": [
    "for line in open(pub_list_file):\n",
    "    print(line.split())"
   ]
  },
  {
   "cell_type": "code",
   "execution_count": 21,
   "metadata": {},
   "outputs": [
    {
     "name": "stdout",
     "output_type": "stream",
     "text": [
      "DOI\n",
      "10.1186/s13326-017-0123-3\n",
      "10.1093/bioinformatics/btw331\n",
      "10.1007/s11306-018-1356-6\n",
      "10.1371/journal.pcbi.1004447\n",
      "10.1093/bioinformatics/btv363.\n",
      "10.1371/journal.pbio.3000246\n",
      "10.7717/peerj.6762\n",
      "10.3389/fpsyg.2019.00564\n"
     ]
    }
   ],
   "source": [
    "for line in open(pub_list_file):\n",
    "    print(line.split()[0])"
   ]
  },
  {
   "cell_type": "code",
   "execution_count": 22,
   "metadata": {},
   "outputs": [
    {
     "name": "stdout",
     "output_type": "stream",
     "text": [
      "DOI\n",
      "10.1186/s13326-017-0123-3\n",
      "10.1093/bioinformatics/btw331\n",
      "10.1007/s11306-018-1356-6\n",
      "10.1371/journal.pcbi.1004447\n"
     ]
    }
   ],
   "source": [
    "line_counter = 0\n",
    "max_lines = 5\n",
    "for line in open(pub_list_file):\n",
    "    print(line.split()[0])\n",
    "    line_counter += 1\n",
    "    if line_counter == max_lines:\n",
    "        break"
   ]
  },
  {
   "cell_type": "code",
   "execution_count": 23,
   "metadata": {},
   "outputs": [
    {
     "name": "stdout",
     "output_type": "stream",
     "text": [
      "DOI\n",
      "10.1186/s13326-017-0123-3\n",
      "10.1093/bioinformatics/btw331\n",
      "10.1007/s11306-018-1356-6\n",
      "10.1371/journal.pcbi.1004447\n",
      "10.1093/bioinformatics/btv363.\n",
      "10.1371/journal.pbio.3000246\n",
      "10.7717/peerj.6762\n",
      "10.3389/fpsyg.2019.00564\n"
     ]
    }
   ],
   "source": [
    "for line in open(pub_list_file):\n",
    "    print(line.split()[0])"
   ]
  },
  {
   "cell_type": "code",
   "execution_count": 24,
   "metadata": {},
   "outputs": [],
   "source": [
    "fh = open(\"articles.html\", \"w\")\n",
    "\n",
    "fh.write(f\"\"\"\n",
    "<!doctype html>\n",
    "<html>\n",
    "<head>\n",
    "<title>Article</title>\n",
    "</head>\n",
    "<body>\n",
    "<ul>\n",
    "\"\"\")\n",
    "\n",
    "for line in open(pub_list_file):\n",
    "    doi = line.split()[0]\n",
    "    if doi != \"DOI\":\n",
    "        url = \"https://doi.org/\" + doi\n",
    "        fh.write(f\"<li><a href='{url}'>{doi}</a></li>\\n\")\n",
    "    \n",
    "fh.write(f\"\"\"\n",
    "</ul>\n",
    "</body>\n",
    "</html>\n",
    "\"\"\")\n",
    "\n",
    "fh.close()"
   ]
  },
  {
   "cell_type": "code",
   "execution_count": null,
   "metadata": {},
   "outputs": [],
   "source": []
  }
 ],
 "metadata": {
  "kernelspec": {
   "display_name": "Python 3",
   "language": "python",
   "name": "python3"
  },
  "language_info": {
   "codemirror_mode": {
    "name": "ipython",
    "version": 3
   },
   "file_extension": ".py",
   "mimetype": "text/x-python",
   "name": "python",
   "nbconvert_exporter": "python",
   "pygments_lexer": "ipython3",
   "version": "3.7.3"
  }
 },
 "nbformat": 4,
 "nbformat_minor": 2
}
