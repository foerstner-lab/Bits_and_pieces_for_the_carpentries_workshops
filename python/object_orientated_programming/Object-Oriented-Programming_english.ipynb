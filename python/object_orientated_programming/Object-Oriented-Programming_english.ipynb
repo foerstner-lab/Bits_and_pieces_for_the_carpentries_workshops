{
 "cells": [
  {
   "cell_type": "markdown",
   "metadata": {},
   "source": [
    "# Object Oriented Programming in Python\n",
    "**DOI**\n",
    "[10.5281/zenodo.17422702](https://doi.org/10.5281/zenodo.17422702)\n",
    "\n",
    "**Description**  \n",
    "This notebook introduces object oriented programming in Python with a focus on practical patterns for teaching and learning.  \n",
    "You will learn how to define classes, work with attributes and methods, and apply core concepts like inheritance, composition, and encapsulation.  \n",
    "Examples use plain Python and only the standard library.\n",
    "\n",
    "**Learning goals**  \n",
    "After completing this notebook, you will be able to  \n",
    "- Explain what a class and an object are  \n",
    "- Define classes with attributes and methods  \n",
    "- Use the `__init__` constructor to initialize state   \n",
    "\n",
    "**Authors**  \n",
    "- Till Sauerwein ORCID [https://orcid.org/0000-0001-5830-4208](https://orcid.org/0000-0001-5830-4208)  \n",
    "- Rabea Müller ORCID [https://orcid.org/0000-0002-3096-8237](https://orcid.org/0000-0002-3096-8237)  \n",
    "\n",
    "**Affiliation**  \n",
    "Data Science and Services, ZB MED – Information Centre for Life Sciences, Cologne, NRW, Germany  \n",
    "Correspondence: [muellerr@zbmed.de](mailto:muellerr@zbmed.de)\n",
    "\n",
    "**Citation and licence**\n",
    "\n",
    "If you use or adapt this notebook please cite it as\n",
    "\n",
    "> Sauerwein, T.; Müller, R. (2025). *Object Oriented Programming in Python* [Jupyter Notebook]. DOI: [10.5281/zenodo.17422702](https://doi.org/10.5281/zenodo.17422702) \n",
    "> Creative Commons Attribution 4.0 International ([CC BY 4.0](https://creativecommons.org/licenses/by/4.0/\n",
    ")).\n",
    "\n",
    "**Date**  \n",
    "Created 2021-05-06  \n",
    "Last updated 2025-10-23\n",
    "\n",
    "**Requirements**  \n",
    "- Python ≥ 3.10  \n",
    "- Jupyter Notebook or JupyterLab environment\n",
    "\n",
    "**Licence for this notebook**  \n",
    "Creative Commons Attribution 4.0 International CC BY 4.0  \n",
    "https://creativecommons.org/licenses/by/4.0/\n"
   ]
  },
  {
   "cell_type": "markdown",
   "metadata": {},
   "source": [
    "## Object-oriented programming (OOP)\n",
    "\n",
    "Object-oriented programming is a method of structuring programmes.\n",
    "\n",
    "It involves defining classes to create different objects whose properties and capabilities are similar to each other.\n",
    "\n",
    "- A class is a blueprint.\n",
    "\n",
    "- With the help of the blueprint, individual objects are created that are similar but represent their own individuals.\n",
    "\n",
    "- The objects created have properties and functions.\n",
    "\n",
    "Objects are also used to represent entities from the real world.\n",
    "\n",
    "For example, people:\n",
    "\n",
    "People have properties or attributes: height, age, names, and people have abilities: movement, speech.\n",
    "\n",
    "However, the exact height or how loud or quiet a person speaks differs.\n",
    "\n",
    "Objects could also be used to represent an email, for example. An email has properties such as a list of recipients, a sender, a subject line, and it has properties such as sending or attaching a file.\n",
    "\n",
    "\n",
    "#### Today, we produce robots\n",
    "\n",
    "Robots have similar properties and functionalities, but may differ in details.\n",
    "\n",
    "We create robots that have different colours and names, but similar functions.\n",
    "\n",
    "Our robots should:\n",
    "\n",
    "- Have a certain size\n",
    "- Make sounds\n",
    "- Have a colour\n",
    "- Have a name\n",
    "- Say their name\n",
    "\n",
    "To do this, we first create a robot class and then individual instances of this class:\n",
    "\n",
    "Translated with DeepL.com (free version)"
   ]
  },
  {
   "cell_type": "markdown",
   "metadata": {},
   "source": [
    "## Defining a class\n",
    "\n",
    "A class does not yet contain any data, but describes how an instance of this class should be created."
   ]
  },
  {
   "cell_type": "code",
   "execution_count": 4,
   "metadata": {},
   "outputs": [],
   "source": [
    "class Robot:\n",
    "    # Class attributes are the same for every instance of the class\n",
    "    size = 1.80\n",
    "    # The first parameter of a method is always the instance itself, represented by \"self\".\n",
    "    def make_noise(self):\n",
    "        print(\"Beep! Boop!\")"
   ]
  },
  {
   "cell_type": "markdown",
   "metadata": {},
   "source": [
    "## Eine erste Instanz erstellen"
   ]
  },
  {
   "cell_type": "code",
   "execution_count": 2,
   "metadata": {},
   "outputs": [],
   "source": [
    "Robot_Kim = Robot()"
   ]
  },
  {
   "cell_type": "code",
   "execution_count": 3,
   "metadata": {},
   "outputs": [
    {
     "data": {
      "text/plain": [
       "1.8"
      ]
     },
     "execution_count": 3,
     "metadata": {},
     "output_type": "execute_result"
    }
   ],
   "source": [
    "Robot_Kim.size"
   ]
  },
  {
   "cell_type": "code",
   "execution_count": 4,
   "metadata": {},
   "outputs": [
    {
     "name": "stdout",
     "output_type": "stream",
     "text": [
      "Bip! Bup!\n"
     ]
    }
   ],
   "source": [
    "Robot_Kim.make_noise()"
   ]
  },
  {
   "cell_type": "markdown",
   "metadata": {},
   "source": [
    "## The \\_\\_init\\_\\_ method\n",
    "The \\_\\_init\\_\\_ method is automatically called when an instance is created."
   ]
  },
  {
   "cell_type": "code",
   "execution_count": 6,
   "metadata": {},
   "outputs": [],
   "source": [
    "class Robot:\n",
    "    size = 1.80\n",
    "    # Instance attributes are defined individually when the instance is created\n",
    "    def __init__(self, name, color):\n",
    "        self.name = name\n",
    "        self.color = color\n",
    "    \n",
    "    def make_noise(self):\n",
    "        print(\"Beep! Boop!\")"
   ]
  },
  {
   "cell_type": "markdown",
   "metadata": {},
   "source": [
    "The arguments required by the \\_\\_init\\_\\_ method must be provided when creating the instance. An error will occur if this is not done."
   ]
  },
  {
   "cell_type": "code",
   "execution_count": 6,
   "metadata": {},
   "outputs": [
    {
     "ename": "TypeError",
     "evalue": "__init__() missing 2 required positional arguments: 'name' and 'color'",
     "output_type": "error",
     "traceback": [
      "\u001b[0;31m---------------------------------------------------------------------------\u001b[0m",
      "\u001b[0;31mTypeError\u001b[0m                                 Traceback (most recent call last)",
      "\u001b[0;32m<ipython-input-6-f53ff6d0d565>\u001b[0m in \u001b[0;36m<module>\u001b[0;34m\u001b[0m\n\u001b[0;32m----> 1\u001b[0;31m \u001b[0mRobot_Kim\u001b[0m \u001b[0;34m=\u001b[0m \u001b[0mRobot\u001b[0m\u001b[0;34m(\u001b[0m\u001b[0;34m)\u001b[0m\u001b[0;34m\u001b[0m\u001b[0;34m\u001b[0m\u001b[0m\n\u001b[0m",
      "\u001b[0;31mTypeError\u001b[0m: __init__() missing 2 required positional arguments: 'name' and 'color'"
     ]
    }
   ],
   "source": [
    "Robot_Kim = Robot()"
   ]
  },
  {
   "cell_type": "code",
   "execution_count": 7,
   "metadata": {},
   "outputs": [],
   "source": [
    "Robot_Kim = Robot(\"Kim\", \"Blue\")"
   ]
  },
  {
   "cell_type": "code",
   "execution_count": 8,
   "metadata": {},
   "outputs": [
    {
     "data": {
      "text/plain": [
       "'Blue'"
      ]
     },
     "execution_count": 8,
     "metadata": {},
     "output_type": "execute_result"
    }
   ],
   "source": [
    "Robot_Kim.color"
   ]
  },
  {
   "cell_type": "code",
   "execution_count": 9,
   "metadata": {},
   "outputs": [
    {
     "data": {
      "text/plain": [
       "'Kim'"
      ]
     },
     "execution_count": 9,
     "metadata": {},
     "output_type": "execute_result"
    }
   ],
   "source": [
    "Robot_Kim.name"
   ]
  },
  {
   "cell_type": "code",
   "execution_count": 10,
   "metadata": {},
   "outputs": [
    {
     "data": {
      "text/plain": [
       "1.8"
      ]
     },
     "execution_count": 10,
     "metadata": {},
     "output_type": "execute_result"
    }
   ],
   "source": [
    "Robot_Kim.size"
   ]
  },
  {
   "cell_type": "markdown",
   "metadata": {},
   "source": [
    "## Creating another instance"
   ]
  },
  {
   "cell_type": "code",
   "execution_count": 11,
   "metadata": {},
   "outputs": [],
   "source": [
    "Robot_Robin = Robot(\"Robin\", \"Red\")"
   ]
  },
  {
   "cell_type": "code",
   "execution_count": 12,
   "metadata": {},
   "outputs": [
    {
     "data": {
      "text/plain": [
       "'Red'"
      ]
     },
     "execution_count": 12,
     "metadata": {},
     "output_type": "execute_result"
    }
   ],
   "source": [
    "Robot_Robin.color"
   ]
  },
  {
   "cell_type": "code",
   "execution_count": 13,
   "metadata": {},
   "outputs": [
    {
     "data": {
      "text/plain": [
       "'Blue'"
      ]
     },
     "execution_count": 13,
     "metadata": {},
     "output_type": "execute_result"
    }
   ],
   "source": [
    "Robot_Kim.color"
   ]
  },
  {
   "cell_type": "markdown",
   "metadata": {},
   "source": [
    "## Methods can use attributes"
   ]
  },
  {
   "cell_type": "code",
   "execution_count": 14,
   "metadata": {},
   "outputs": [],
   "source": [
    "class Robot:\n",
    "    size = 1.80\n",
    "\n",
    "    def __init__(self, name, color):\n",
    "        self.name = name\n",
    "        self.color = color\n",
    "    \n",
    "    def make_noise(self):\n",
    "        print(\"Bip! Bup!\")\n",
    "    \n",
    "    def say_name(self):\n",
    "        print(f\"I am Robot {self.name}, nice to meet you!\")"
   ]
  },
  {
   "cell_type": "code",
   "execution_count": 15,
   "metadata": {},
   "outputs": [],
   "source": [
    "Charlie = Robot(\"Charlie\", \"Yellow\")"
   ]
  },
  {
   "cell_type": "code",
   "execution_count": 16,
   "metadata": {},
   "outputs": [
    {
     "name": "stdout",
     "output_type": "stream",
     "text": [
      "I am Robot Charlie, nice to meet you!\n"
     ]
    }
   ],
   "source": [
    "Charlie.say_name()"
   ]
  },
  {
   "cell_type": "markdown",
   "metadata": {},
   "source": [
    "## Methods can use arguments"
   ]
  },
  {
   "cell_type": "code",
   "execution_count": 17,
   "metadata": {},
   "outputs": [],
   "source": [
    "class Robot:\n",
    "    size = 1.80\n",
    "\n",
    "    def __init__(self, name, color):\n",
    "        self.name = name\n",
    "        self.color = color\n",
    "    \n",
    "    def make_noise(self):\n",
    "        print(\"Bip! Bup!\")\n",
    "    \n",
    "    def say_name(self, volume):\n",
    "        if volume == \"normal\":\n",
    "            print(f\"I am Robot {self.name}, nice to meet you!\")\n",
    "        elif volume == \"loud\":\n",
    "            print(f\"I AM ROBOT {self.name}, NICE TO MEEEEET YOU!!!!\")"
   ]
  },
  {
   "cell_type": "code",
   "execution_count": 18,
   "metadata": {},
   "outputs": [],
   "source": [
    "Toni = Robot(\"Toni\", \"Green\")"
   ]
  },
  {
   "cell_type": "code",
   "execution_count": 19,
   "metadata": {},
   "outputs": [
    {
     "name": "stdout",
     "output_type": "stream",
     "text": [
      "I am Robot Toni, nice to meet you!\n"
     ]
    }
   ],
   "source": [
    "Toni.say_name(\"normal\")"
   ]
  },
  {
   "cell_type": "code",
   "execution_count": 20,
   "metadata": {},
   "outputs": [
    {
     "name": "stdout",
     "output_type": "stream",
     "text": [
      "I AM ROBOT Toni, NICE TO MEEEEET YOU!!!!\n"
     ]
    }
   ],
   "source": [
    "Toni.say_name(\"loud\")"
   ]
  },
  {
   "cell_type": "markdown",
   "metadata": {},
   "source": [
    "## Method parameters can have default values"
   ]
  },
  {
   "cell_type": "code",
   "execution_count": 21,
   "metadata": {},
   "outputs": [],
   "source": [
    "class Robot:\n",
    "    size = 1.80\n",
    "\n",
    "    def __init__(self, name, color):\n",
    "        self.name = name\n",
    "        self.color = color\n",
    "    \n",
    "    def make_noise(self):\n",
    "        print(\"Bip! Bup!\")\n",
    "    \n",
    "    def say_name(self, volume=\"normal\"):\n",
    "        if volume == \"normal\":\n",
    "            print(f\"I am Robot {self.name}, nice to meet you!\")\n",
    "        elif volume == \"loud\":\n",
    "            print(f\"I AM ROBOT {self.name}, NICE TO MEEEEET YOU!!!!\")"
   ]
  },
  {
   "cell_type": "code",
   "execution_count": 22,
   "metadata": {},
   "outputs": [],
   "source": [
    "Sam = Robot(\"Sam\", \"Orange\")"
   ]
  },
  {
   "cell_type": "code",
   "execution_count": 23,
   "metadata": {},
   "outputs": [
    {
     "name": "stdout",
     "output_type": "stream",
     "text": [
      "I am Robot Sam, nice to meet you!\n"
     ]
    }
   ],
   "source": [
    "Sam.say_name()"
   ]
  },
  {
   "cell_type": "code",
   "execution_count": 24,
   "metadata": {},
   "outputs": [
    {
     "name": "stdout",
     "output_type": "stream",
     "text": [
      "I AM ROBOT Sam, NICE TO MEEEEET YOU!!!!\n"
     ]
    }
   ],
   "source": [
    "Sam.say_name(\"loud\")"
   ]
  },
  {
   "cell_type": "markdown",
   "metadata": {},
   "source": [
    "## Summary\n",
    "\n",
    "In this notebook you learned to  \n",
    "- Define Python classes and create instances  \n",
    "- Distinguish between instance attributes class attributes and methods  \n",
    "- Use the `__init__` constructor \n",
    "\n",
    "These skills give you a solid foundation for building maintainable Python code in applications data projects and libraries.\n",
    "\n",
    "---\n",
    "\n",
    "## Further reading\n",
    "\n",
    "- Official Python tutorial Classes  \n",
    "  https://docs.python.org/3/tutorial/classes.html  \n",
    "- Data model special methods like `__init__` and `__repr__`  \n",
    "  https://docs.python.org/3/reference/datamodel.html  \n",
    "- unittest unit testing framework  \n",
    "  https://docs.python.org/3/library/unittest.html  \n",
    "- Fluent Python by Luciano Ramalho  \n",
    "  https://www.oreilly.com/library/view/fluent-python/9781492056348/  \n",
    "- The Carpentries Programming with Python  \n",
    "  https://swcarpentry.github.io/python-novice-inflammation/"
   ]
  }
 ],
 "metadata": {
  "kernelspec": {
   "display_name": "Python 3 (ipykernel)",
   "language": "python",
   "name": "python3"
  },
  "language_info": {
   "codemirror_mode": {
    "name": "ipython",
    "version": 3
   },
   "file_extension": ".py",
   "mimetype": "text/x-python",
   "name": "python",
   "nbconvert_exporter": "python",
   "pygments_lexer": "ipython3",
   "version": "3.10.12"
  }
 },
 "nbformat": 4,
 "nbformat_minor": 4
}
