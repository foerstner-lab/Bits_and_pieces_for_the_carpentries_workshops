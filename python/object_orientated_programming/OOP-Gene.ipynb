{
 "cells": [
  {
   "cell_type": "markdown",
   "id": "e2c619ef",
   "metadata": {},
   "source": [
    "# Create a class of a gene that has attributes"
   ]
  },
  {
   "cell_type": "code",
   "execution_count": 1,
   "id": "08d66344",
   "metadata": {},
   "outputs": [],
   "source": [
    "class Gene():\n",
    "    def __init__(self, name, sequence):\n",
    "        self.name = name\n",
    "        self.sequence = sequence"
   ]
  },
  {
   "cell_type": "markdown",
   "id": "d9b80fad",
   "metadata": {},
   "source": [
    "# Create an instance of that class"
   ]
  },
  {
   "cell_type": "code",
   "execution_count": 2,
   "id": "b3160301",
   "metadata": {},
   "outputs": [],
   "source": [
    "gene_x = Gene(\"Gene X\", \"CGCGATTATTCGCGCGGAATTACGCACGCATC\")"
   ]
  },
  {
   "cell_type": "markdown",
   "id": "0d78eab1",
   "metadata": {},
   "source": [
    "# Call the attributes"
   ]
  },
  {
   "cell_type": "code",
   "execution_count": 3,
   "id": "300c37f2",
   "metadata": {},
   "outputs": [
    {
     "data": {
      "text/plain": [
       "'Gene X'"
      ]
     },
     "execution_count": 3,
     "metadata": {},
     "output_type": "execute_result"
    }
   ],
   "source": [
    "gene_x.name"
   ]
  },
  {
   "cell_type": "code",
   "execution_count": 4,
   "id": "21c483e9",
   "metadata": {},
   "outputs": [
    {
     "data": {
      "text/plain": [
       "'CGCGATTATTCGCGCGGAATTACGCACGCATC'"
      ]
     },
     "execution_count": 4,
     "metadata": {},
     "output_type": "execute_result"
    }
   ],
   "source": [
    "gene_x.sequence"
   ]
  },
  {
   "cell_type": "markdown",
   "id": "1889b58f",
   "metadata": {},
   "source": [
    "# Add a method to the class, that returns the length of the gene"
   ]
  },
  {
   "cell_type": "code",
   "execution_count": 5,
   "id": "54bed783",
   "metadata": {},
   "outputs": [],
   "source": [
    "class Gene():\n",
    "    def __init__(self, name, sequence):\n",
    "        self.name = name\n",
    "        self.sequence = sequence\n",
    "    \n",
    "    def length(self):\n",
    "        return len(self.sequence)"
   ]
  },
  {
   "cell_type": "markdown",
   "id": "b7518bd9",
   "metadata": {},
   "source": [
    "# Create a new gene of the modified class and call the new method"
   ]
  },
  {
   "cell_type": "code",
   "execution_count": 6,
   "id": "8a96d8e8",
   "metadata": {},
   "outputs": [],
   "source": [
    "gene_x = Gene(\"Gene X\", \"CGCGATTATTCGCGCGGAATTACGCACGCATC\")"
   ]
  },
  {
   "cell_type": "code",
   "execution_count": 7,
   "id": "4fd86e65",
   "metadata": {},
   "outputs": [
    {
     "data": {
      "text/plain": [
       "32"
      ]
     },
     "execution_count": 7,
     "metadata": {},
     "output_type": "execute_result"
    }
   ],
   "source": [
    "gene_x.length()"
   ]
  },
  {
   "cell_type": "markdown",
   "id": "7c0de303",
   "metadata": {},
   "source": [
    "# Add a method to the class, that returns the RNA of the gene"
   ]
  },
  {
   "cell_type": "code",
   "execution_count": 8,
   "id": "fedeba27",
   "metadata": {},
   "outputs": [],
   "source": [
    "class Gene():\n",
    "    def __init__(self, name, sequence):\n",
    "        self.name = name\n",
    "        self.sequence = sequence\n",
    "    \n",
    "    def length(self):\n",
    "        return len(self.sequence)\n",
    "    \n",
    "    def rna(self):\n",
    "        reversed_seq = self.sequence[::-1]\n",
    "        nuc_mapping = {\"A\": \"T\",\n",
    "                       \"T\": \"U\",\n",
    "                       \"G\": \"C\",\n",
    "                       \"C\": \"G\"}\n",
    "        transcribed_seq = \"\"\n",
    "        for nucleotide in reversed_seq:\n",
    "            transcribed_seq += nuc_mapping[nucleotide]\n",
    "            #transcribed_seq = transcribed_seq + nuc_mapping[nucleotide]\n",
    "        return transcribed_seq"
   ]
  },
  {
   "cell_type": "code",
   "execution_count": 9,
   "id": "41ba1496",
   "metadata": {},
   "outputs": [],
   "source": [
    "gene_y = Gene(\"Gene Y\", \"AACGT\")"
   ]
  },
  {
   "cell_type": "code",
   "execution_count": 10,
   "id": "da0b2ff8",
   "metadata": {},
   "outputs": [
    {
     "data": {
      "text/plain": [
       "'UCGTT'"
      ]
     },
     "execution_count": 10,
     "metadata": {},
     "output_type": "execute_result"
    }
   ],
   "source": [
    "gene_y.rna()"
   ]
  },
  {
   "cell_type": "markdown",
   "id": "cddd7765",
   "metadata": {},
   "source": [
    "# Add a method, that returns the protein sequence of the gene"
   ]
  },
  {
   "cell_type": "code",
   "execution_count": 11,
   "id": "e621d382",
   "metadata": {},
   "outputs": [],
   "source": [
    "class Gene():\n",
    "    def __init__(self, name, sequence):\n",
    "        self.name = name\n",
    "        self.sequence = sequence\n",
    "    \n",
    "    def length(self):\n",
    "        return len(self.sequence)\n",
    "    \n",
    "    def rna(self):\n",
    "        reversed_seq = self.sequence[::-1]\n",
    "        nuc_mapping = {\"A\": \"T\",\n",
    "                       \"T\": \"U\",\n",
    "                       \"G\": \"C\",\n",
    "                       \"C\": \"G\"}\n",
    "        transcribed_seq = \"\"\n",
    "        for nucleotide in reversed_seq:\n",
    "            transcribed_seq += nuc_mapping[nucleotide]\n",
    "        return transcribed_seq\n",
    "    \n",
    "    def translate(self):\n",
    "        seq = self.sequence\n",
    "        table = {\n",
    "            'ATA':'I', 'ATC':'I', 'ATT':'I', 'ATG':'M',\n",
    "            'ACA':'T', 'ACC':'T', 'ACG':'T', 'ACT':'T',\n",
    "            'AAC':'N', 'AAT':'N', 'AAA':'K', 'AAG':'K',\n",
    "            'AGC':'S', 'AGT':'S', 'AGA':'R', 'AGG':'R',                \n",
    "            'CTA':'L', 'CTC':'L', 'CTG':'L', 'CTT':'L',\n",
    "            'CCA':'P', 'CCC':'P', 'CCG':'P', 'CCT':'P',\n",
    "            'CAC':'H', 'CAT':'H', 'CAA':'Q', 'CAG':'Q',\n",
    "            'CGA':'R', 'CGC':'R', 'CGG':'R', 'CGT':'R',\n",
    "            'GTA':'V', 'GTC':'V', 'GTG':'V', 'GTT':'V',\n",
    "            'GCA':'A', 'GCC':'A', 'GCG':'A', 'GCT':'A',\n",
    "            'GAC':'D', 'GAT':'D', 'GAA':'E', 'GAG':'E',\n",
    "            'GGA':'G', 'GGC':'G', 'GGG':'G', 'GGT':'G',\n",
    "            'TCA':'S', 'TCC':'S', 'TCG':'S', 'TCT':'S',\n",
    "            'TTC':'F', 'TTT':'F', 'TTA':'L', 'TTG':'L',\n",
    "            'TAC':'Y', 'TAT':'Y', 'TAA':'_', 'TAG':'_',\n",
    "            'TGC':'C', 'TGT':'C', 'TGA':'_', 'TGG':'W',\n",
    "        }\n",
    "        protein = \"\"\n",
    "        if len(seq)%3 == 0:\n",
    "            for i in range(0, len(seq), 3):\n",
    "                codon = seq[i:i + 3]\n",
    "                protein+= table[codon]\n",
    "        return protein"
   ]
  },
  {
   "cell_type": "code",
   "execution_count": 12,
   "id": "ffb0980b",
   "metadata": {},
   "outputs": [],
   "source": [
    "gene_z = Gene(\"gene Z\", \"ACGCGTGGC\")"
   ]
  },
  {
   "cell_type": "code",
   "execution_count": 13,
   "id": "63635cbd",
   "metadata": {},
   "outputs": [
    {
     "data": {
      "text/plain": [
       "'TRG'"
      ]
     },
     "execution_count": 13,
     "metadata": {},
     "output_type": "execute_result"
    }
   ],
   "source": [
    "gene_z.translate()"
   ]
  },
  {
   "cell_type": "markdown",
   "id": "14621790",
   "metadata": {},
   "source": [
    "# Code snippets for the portein method"
   ]
  },
  {
   "cell_type": "code",
   "execution_count": 14,
   "id": "09716c32",
   "metadata": {},
   "outputs": [
    {
     "data": {
      "text/plain": [
       "range(0, 9, 3)"
      ]
     },
     "execution_count": 14,
     "metadata": {},
     "output_type": "execute_result"
    }
   ],
   "source": [
    "range(0,9,3)"
   ]
  },
  {
   "cell_type": "code",
   "execution_count": 15,
   "id": "c2e74886",
   "metadata": {},
   "outputs": [
    {
     "name": "stdout",
     "output_type": "stream",
     "text": [
      "(0, 3)\n",
      "(3, 6)\n",
      "(6, 9)\n"
     ]
    }
   ],
   "source": [
    "for i in range(0,9,3):\n",
    "    codon_pos = (i, i+3)\n",
    "    print(codon_pos)"
   ]
  },
  {
   "cell_type": "code",
   "execution_count": null,
   "id": "87e7d069",
   "metadata": {},
   "outputs": [],
   "source": []
  }
 ],
 "metadata": {
  "kernelspec": {
   "display_name": "Python 3",
   "language": "python",
   "name": "python3"
  },
  "language_info": {
   "codemirror_mode": {
    "name": "ipython",
    "version": 3
   },
   "file_extension": ".py",
   "mimetype": "text/x-python",
   "name": "python",
   "nbconvert_exporter": "python",
   "pygments_lexer": "ipython3",
   "version": "3.8.10"
  }
 },
 "nbformat": 4,
 "nbformat_minor": 5
}
