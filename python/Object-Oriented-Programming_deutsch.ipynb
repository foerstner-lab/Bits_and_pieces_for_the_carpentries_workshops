{
 "cells": [
  {
   "cell_type": "markdown",
   "metadata": {},
   "source": [
    "# Objektorientierte Programmierung (OOP)\n",
    "Englisch: object-oriented programming\n",
    "\n",
    "Objektorientierte Programmierung ist eine Methode um Programme zu strukturieren.\n",
    "\n",
    "Hierbei werden Klassen (Classes) definiert um verschiedene Objekte zu erstellen, deren Eigenschaften und Fähigkeiten zueinander ähnlich sind. \n",
    "\n",
    "- Eine Klasse ist ein Bauplan.\n",
    "\n",
    "- Mit Hilfe des Bauplans werden einzelne Objekte erstellt, die sich ähnlich sind, jedoch eigene Individuen darstellen\n",
    "\n",
    "- Die erstellten Objekte haben Eigenschaften und Funktionen\n",
    "\n",
    "Objekte werden auch verwendet, um Entitäten aus der realen Welt abzubilden.\n",
    "\n",
    "Zum Beispiel Menschen:\n",
    "\n",
    "Menschen haben Eigenschaften bzw. Attribute: Größe, Alter, Namen und Menschen haben Fähigkeiten: Bewegung, Reden.\n",
    "\n",
    "Die exakte Größe oder wie laut oder leise ein Mensch redet, unterscheidet sich allerdings.\n",
    "\n",
    "Objekte könnten auch verwendet werden um z. B. eine E-Mail abzubilden. Die E-mail hat Eigenschaften wie z. B. eine Liste von Empfängern, einen Versender, einen Betreff und sie hat Eigenschaften wie z. B. das Versenden oder das Anhängen einer Datei.\n",
    "\n",
    "\n",
    "#### Wir produzieren heute Roboter\n",
    "\n",
    "Die Roboter haben ähnliche Eigenschaften und Funktionalitäten, können sich in Details aber unterscheiden.\n",
    "\n",
    "Wir erschaffen Roboter, die unterschiedliche Farben und Bezeichnungen haben, aber ähnliche Funktionen besitzen.\n",
    "\n",
    "Unsere Roboter sollen:\n",
    "\n",
    "- Eine bestimmte Größe haben\n",
    "- Töne von sich geben\n",
    "- Eine Farbe haben\n",
    "- Einen Namen haben\n",
    "- Ihren Namen sagen\n",
    "\n",
    "Dazu kreieren wir erst eine Roboter-Klasse und danach einzelne Instanzen dieser Klasse:"
   ]
  },
  {
   "cell_type": "markdown",
   "metadata": {},
   "source": [
    "## Eine Klasse definieren\n",
    "\n",
    "Eine Klasse enthält noch keine Daten, beschreibt aber wie eine Instanz dieser Klasse erstellt werden soll."
   ]
  },
  {
   "cell_type": "code",
   "execution_count": 1,
   "metadata": {},
   "outputs": [],
   "source": [
    "class Robot:\n",
    "    # Klassen-Attribute sind für jede Instanz der Klasse gleich\n",
    "    size = 1.80\n",
    "    # Der erste Parameter einer Methode ist immer die Instanz selbst, sie wird durch \"self\" repräsentiert.\n",
    "    def make_noise(self):\n",
    "        print(\"Bip! Bup!\")\n"
   ]
  },
  {
   "cell_type": "markdown",
   "metadata": {},
   "source": [
    "## Eine erste Instanz erstellen"
   ]
  },
  {
   "cell_type": "code",
   "execution_count": 2,
   "metadata": {},
   "outputs": [],
   "source": [
    "Robot_Kim = Robot()"
   ]
  },
  {
   "cell_type": "code",
   "execution_count": 3,
   "metadata": {},
   "outputs": [
    {
     "data": {
      "text/plain": [
       "1.8"
      ]
     },
     "execution_count": 3,
     "metadata": {},
     "output_type": "execute_result"
    }
   ],
   "source": [
    "Robot_Kim.size"
   ]
  },
  {
   "cell_type": "code",
   "execution_count": 4,
   "metadata": {},
   "outputs": [
    {
     "name": "stdout",
     "output_type": "stream",
     "text": [
      "Bip! Bup!\n"
     ]
    }
   ],
   "source": [
    "Robot_Kim.make_noise()"
   ]
  },
  {
   "cell_type": "markdown",
   "metadata": {},
   "source": [
    "## Die \\_\\_init\\_\\_ Methode\n",
    "Die \\_\\_init\\_\\_ wird beim Erstellen einer Instanz automatisch aufgerufen."
   ]
  },
  {
   "cell_type": "code",
   "execution_count": 5,
   "metadata": {},
   "outputs": [],
   "source": [
    "class Robot:\n",
    "    size = 1.80\n",
    "    # Instanz Attribute werden beim Erstellen der Instanz individuell definiert\n",
    "    def __init__(self, name, color):\n",
    "        self.name = name\n",
    "        self.color = color\n",
    "    \n",
    "    def make_noise(self):\n",
    "        print(\"Bip! Bup!\")        "
   ]
  },
  {
   "cell_type": "markdown",
   "metadata": {},
   "source": [
    "Die von der \\_\\_init\\_\\_ Methode geforderten Argumente müssen beim Erstellen der Instanz mitgebeben werden. Ein Fehler entsteht, falls dies nicht gemacht wird."
   ]
  },
  {
   "cell_type": "code",
   "execution_count": 6,
   "metadata": {},
   "outputs": [
    {
     "ename": "TypeError",
     "evalue": "__init__() missing 2 required positional arguments: 'name' and 'color'",
     "output_type": "error",
     "traceback": [
      "\u001b[0;31m---------------------------------------------------------------------------\u001b[0m",
      "\u001b[0;31mTypeError\u001b[0m                                 Traceback (most recent call last)",
      "\u001b[0;32m<ipython-input-6-f53ff6d0d565>\u001b[0m in \u001b[0;36m<module>\u001b[0;34m\u001b[0m\n\u001b[0;32m----> 1\u001b[0;31m \u001b[0mRobot_Kim\u001b[0m \u001b[0;34m=\u001b[0m \u001b[0mRobot\u001b[0m\u001b[0;34m(\u001b[0m\u001b[0;34m)\u001b[0m\u001b[0;34m\u001b[0m\u001b[0;34m\u001b[0m\u001b[0m\n\u001b[0m",
      "\u001b[0;31mTypeError\u001b[0m: __init__() missing 2 required positional arguments: 'name' and 'color'"
     ]
    }
   ],
   "source": [
    "Robot_Kim = Robot()"
   ]
  },
  {
   "cell_type": "code",
   "execution_count": 7,
   "metadata": {},
   "outputs": [],
   "source": [
    "Robot_Kim = Robot(\"Kim\", \"Blue\")"
   ]
  },
  {
   "cell_type": "code",
   "execution_count": 8,
   "metadata": {},
   "outputs": [
    {
     "data": {
      "text/plain": [
       "'Blue'"
      ]
     },
     "execution_count": 8,
     "metadata": {},
     "output_type": "execute_result"
    }
   ],
   "source": [
    "Robot_Kim.color"
   ]
  },
  {
   "cell_type": "code",
   "execution_count": 9,
   "metadata": {},
   "outputs": [
    {
     "data": {
      "text/plain": [
       "'Kim'"
      ]
     },
     "execution_count": 9,
     "metadata": {},
     "output_type": "execute_result"
    }
   ],
   "source": [
    "Robot_Kim.name"
   ]
  },
  {
   "cell_type": "code",
   "execution_count": 10,
   "metadata": {},
   "outputs": [
    {
     "data": {
      "text/plain": [
       "1.8"
      ]
     },
     "execution_count": 10,
     "metadata": {},
     "output_type": "execute_result"
    }
   ],
   "source": [
    "Robot_Kim.size"
   ]
  },
  {
   "cell_type": "markdown",
   "metadata": {},
   "source": [
    "## Erstellen einer weiteren Instanz"
   ]
  },
  {
   "cell_type": "code",
   "execution_count": 11,
   "metadata": {},
   "outputs": [],
   "source": [
    "Robot_Robin = Robot(\"Robin\", \"Red\")"
   ]
  },
  {
   "cell_type": "code",
   "execution_count": 12,
   "metadata": {},
   "outputs": [
    {
     "data": {
      "text/plain": [
       "'Red'"
      ]
     },
     "execution_count": 12,
     "metadata": {},
     "output_type": "execute_result"
    }
   ],
   "source": [
    "Robot_Robin.color"
   ]
  },
  {
   "cell_type": "code",
   "execution_count": 13,
   "metadata": {},
   "outputs": [
    {
     "data": {
      "text/plain": [
       "'Blue'"
      ]
     },
     "execution_count": 13,
     "metadata": {},
     "output_type": "execute_result"
    }
   ],
   "source": [
    "Robot_Kim.color"
   ]
  },
  {
   "cell_type": "markdown",
   "metadata": {},
   "source": [
    "## Methoden können Attribute nutzen"
   ]
  },
  {
   "cell_type": "code",
   "execution_count": 14,
   "metadata": {},
   "outputs": [],
   "source": [
    "class Robot:\n",
    "    size = 1.80\n",
    "\n",
    "    def __init__(self, name, color):\n",
    "        self.name = name\n",
    "        self.color = color\n",
    "    \n",
    "    def make_noise(self):\n",
    "        print(\"Bip! Bup!\")\n",
    "    \n",
    "    def say_name(self):\n",
    "        print(f\"I am Robot {self.name}, nice to meet you!\")"
   ]
  },
  {
   "cell_type": "code",
   "execution_count": 15,
   "metadata": {},
   "outputs": [],
   "source": [
    "Charlie = Robot(\"Charlie\", \"Yellow\")"
   ]
  },
  {
   "cell_type": "code",
   "execution_count": 16,
   "metadata": {},
   "outputs": [
    {
     "name": "stdout",
     "output_type": "stream",
     "text": [
      "I am Robot Charlie, nice to meet you!\n"
     ]
    }
   ],
   "source": [
    "Charlie.say_name()"
   ]
  },
  {
   "cell_type": "markdown",
   "metadata": {},
   "source": [
    "## Methoden können Argumente nutzen"
   ]
  },
  {
   "cell_type": "code",
   "execution_count": 17,
   "metadata": {},
   "outputs": [],
   "source": [
    "class Robot:\n",
    "    size = 1.80\n",
    "\n",
    "    def __init__(self, name, color):\n",
    "        self.name = name\n",
    "        self.color = color\n",
    "    \n",
    "    def make_noise(self):\n",
    "        print(\"Bip! Bup!\")\n",
    "    \n",
    "    def say_name(self, volume):\n",
    "        if volume == \"normal\":\n",
    "            print(f\"I am Robot {self.name}, nice to meet you!\")\n",
    "        elif volume == \"loud\":\n",
    "            print(f\"I AM ROBOT {self.name}, NICE TO MEEEEET YOU!!!!\")"
   ]
  },
  {
   "cell_type": "code",
   "execution_count": 18,
   "metadata": {},
   "outputs": [],
   "source": [
    "Toni = Robot(\"Toni\", \"Green\")"
   ]
  },
  {
   "cell_type": "code",
   "execution_count": 19,
   "metadata": {},
   "outputs": [
    {
     "name": "stdout",
     "output_type": "stream",
     "text": [
      "I am Robot Toni, nice to meet you!\n"
     ]
    }
   ],
   "source": [
    "Toni.say_name(\"normal\")"
   ]
  },
  {
   "cell_type": "code",
   "execution_count": 20,
   "metadata": {},
   "outputs": [
    {
     "name": "stdout",
     "output_type": "stream",
     "text": [
      "I AM ROBOT Toni, NICE TO MEEEEET YOU!!!!\n"
     ]
    }
   ],
   "source": [
    "Toni.say_name(\"loud\")"
   ]
  },
  {
   "cell_type": "markdown",
   "metadata": {},
   "source": [
    "## Parameter von Methoden können Standardwerte besitzen"
   ]
  },
  {
   "cell_type": "code",
   "execution_count": 21,
   "metadata": {},
   "outputs": [],
   "source": [
    "class Robot:\n",
    "    size = 1.80\n",
    "\n",
    "    def __init__(self, name, color):\n",
    "        self.name = name\n",
    "        self.color = color\n",
    "    \n",
    "    def make_noise(self):\n",
    "        print(\"Bip! Bup!\")\n",
    "    \n",
    "    def say_name(self, volume=\"normal\"):\n",
    "        if volume == \"normal\":\n",
    "            print(f\"I am Robot {self.name}, nice to meet you!\")\n",
    "        elif volume == \"loud\":\n",
    "            print(f\"I AM ROBOT {self.name}, NICE TO MEEEEET YOU!!!!\")"
   ]
  },
  {
   "cell_type": "code",
   "execution_count": 22,
   "metadata": {},
   "outputs": [],
   "source": [
    "Sam = Robot(\"Sam\", \"Orange\")"
   ]
  },
  {
   "cell_type": "code",
   "execution_count": 23,
   "metadata": {},
   "outputs": [
    {
     "name": "stdout",
     "output_type": "stream",
     "text": [
      "I am Robot Sam, nice to meet you!\n"
     ]
    }
   ],
   "source": [
    "Sam.say_name()"
   ]
  },
  {
   "cell_type": "code",
   "execution_count": 24,
   "metadata": {},
   "outputs": [
    {
     "name": "stdout",
     "output_type": "stream",
     "text": [
      "I AM ROBOT Sam, NICE TO MEEEEET YOU!!!!\n"
     ]
    }
   ],
   "source": [
    "Sam.say_name(\"loud\")"
   ]
  }
 ],
 "metadata": {
  "kernelspec": {
   "display_name": "Python 3",
   "language": "python",
   "name": "python3"
  },
  "language_info": {
   "codemirror_mode": {
    "name": "ipython",
    "version": 3
   },
   "file_extension": ".py",
   "mimetype": "text/x-python",
   "name": "python",
   "nbconvert_exporter": "python",
   "pygments_lexer": "ipython3",
   "version": "3.8.5"
  }
 },
 "nbformat": 4,
 "nbformat_minor": 4
}
