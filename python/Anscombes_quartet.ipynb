{
 "cells": [
  {
   "cell_type": "markdown",
   "id": "f661bdf7",
   "metadata": {},
   "source": [
    "# Anscombe's quartet\n",
    "\n",
    "Background: https://en.wikipedia.org/wiki/Anscombe's_quartet"
   ]
  },
  {
   "cell_type": "code",
   "execution_count": 1,
   "id": "4b22ea79",
   "metadata": {},
   "outputs": [],
   "source": [
    "import pandas as pd\n",
    "import scipy\n",
    "import seaborn as sns"
   ]
  },
  {
   "cell_type": "code",
   "execution_count": 2,
   "id": "802ed628",
   "metadata": {},
   "outputs": [],
   "source": [
    "anscombe = pd.DataFrame(\n",
    "    {\"x_1\": [10, 8, 13, 9, 11, 14, 6, 4, 12, 7, 5],\n",
    "     \"y_1\": [8.04, 6.95, 7.58, 8.81, 8.33, 9.96, 7.24, 4.26, 10.84, 4.82, 5.68],\n",
    "     \"x_2\": [10, 8, 13, 9, 11, 14, 6, 4, 12, 7, 5],\n",
    "     \"y_2\": [9.14, 8.14, 8.74, 8.77, 9.26, 8.1, 6.13, 3.1, 9.13, 7.26, 4.74],\n",
    "     \"x_3\": [10, 8, 13, 9, 11, 14, 6, 4, 12, 7, 5],\n",
    "     \"y_3\": [7.46, 6.77, 12.74, 7.11, 7.81, 8.84, 6.08, 5.39, 8.15, 6.42, 5.73],\n",
    "     \"x_4\": [8, 8, 8, 8, 8, 8, 8, 19, 8, 8, 8],\n",
    "     \"y_4\": [6.58, 5.76, 7.71, 8.84, 8.47, 7.04, 5.25, 12.5, 5.56, 7.91, 6.89]\n",
    "        })"
   ]
  },
  {
   "cell_type": "code",
   "execution_count": 3,
   "id": "e327914a",
   "metadata": {},
   "outputs": [
    {
     "data": {
      "text/html": [
       "<div>\n",
       "<style scoped>\n",
       "    .dataframe tbody tr th:only-of-type {\n",
       "        vertical-align: middle;\n",
       "    }\n",
       "\n",
       "    .dataframe tbody tr th {\n",
       "        vertical-align: top;\n",
       "    }\n",
       "\n",
       "    .dataframe thead th {\n",
       "        text-align: right;\n",
       "    }\n",
       "</style>\n",
       "<table border=\"1\" class=\"dataframe\">\n",
       "  <thead>\n",
       "    <tr style=\"text-align: right;\">\n",
       "      <th></th>\n",
       "      <th>x_1</th>\n",
       "      <th>y_1</th>\n",
       "      <th>x_2</th>\n",
       "      <th>y_2</th>\n",
       "      <th>x_3</th>\n",
       "      <th>y_3</th>\n",
       "      <th>x_4</th>\n",
       "      <th>y_4</th>\n",
       "    </tr>\n",
       "  </thead>\n",
       "  <tbody>\n",
       "    <tr>\n",
       "      <th>0</th>\n",
       "      <td>10</td>\n",
       "      <td>8.04</td>\n",
       "      <td>10</td>\n",
       "      <td>9.14</td>\n",
       "      <td>10</td>\n",
       "      <td>7.46</td>\n",
       "      <td>8</td>\n",
       "      <td>6.58</td>\n",
       "    </tr>\n",
       "    <tr>\n",
       "      <th>1</th>\n",
       "      <td>8</td>\n",
       "      <td>6.95</td>\n",
       "      <td>8</td>\n",
       "      <td>8.14</td>\n",
       "      <td>8</td>\n",
       "      <td>6.77</td>\n",
       "      <td>8</td>\n",
       "      <td>5.76</td>\n",
       "    </tr>\n",
       "    <tr>\n",
       "      <th>2</th>\n",
       "      <td>13</td>\n",
       "      <td>7.58</td>\n",
       "      <td>13</td>\n",
       "      <td>8.74</td>\n",
       "      <td>13</td>\n",
       "      <td>12.74</td>\n",
       "      <td>8</td>\n",
       "      <td>7.71</td>\n",
       "    </tr>\n",
       "    <tr>\n",
       "      <th>3</th>\n",
       "      <td>9</td>\n",
       "      <td>8.81</td>\n",
       "      <td>9</td>\n",
       "      <td>8.77</td>\n",
       "      <td>9</td>\n",
       "      <td>7.11</td>\n",
       "      <td>8</td>\n",
       "      <td>8.84</td>\n",
       "    </tr>\n",
       "    <tr>\n",
       "      <th>4</th>\n",
       "      <td>11</td>\n",
       "      <td>8.33</td>\n",
       "      <td>11</td>\n",
       "      <td>9.26</td>\n",
       "      <td>11</td>\n",
       "      <td>7.81</td>\n",
       "      <td>8</td>\n",
       "      <td>8.47</td>\n",
       "    </tr>\n",
       "    <tr>\n",
       "      <th>5</th>\n",
       "      <td>14</td>\n",
       "      <td>9.96</td>\n",
       "      <td>14</td>\n",
       "      <td>8.10</td>\n",
       "      <td>14</td>\n",
       "      <td>8.84</td>\n",
       "      <td>8</td>\n",
       "      <td>7.04</td>\n",
       "    </tr>\n",
       "    <tr>\n",
       "      <th>6</th>\n",
       "      <td>6</td>\n",
       "      <td>7.24</td>\n",
       "      <td>6</td>\n",
       "      <td>6.13</td>\n",
       "      <td>6</td>\n",
       "      <td>6.08</td>\n",
       "      <td>8</td>\n",
       "      <td>5.25</td>\n",
       "    </tr>\n",
       "    <tr>\n",
       "      <th>7</th>\n",
       "      <td>4</td>\n",
       "      <td>4.26</td>\n",
       "      <td>4</td>\n",
       "      <td>3.10</td>\n",
       "      <td>4</td>\n",
       "      <td>5.39</td>\n",
       "      <td>19</td>\n",
       "      <td>12.50</td>\n",
       "    </tr>\n",
       "    <tr>\n",
       "      <th>8</th>\n",
       "      <td>12</td>\n",
       "      <td>10.84</td>\n",
       "      <td>12</td>\n",
       "      <td>9.13</td>\n",
       "      <td>12</td>\n",
       "      <td>8.15</td>\n",
       "      <td>8</td>\n",
       "      <td>5.56</td>\n",
       "    </tr>\n",
       "    <tr>\n",
       "      <th>9</th>\n",
       "      <td>7</td>\n",
       "      <td>4.82</td>\n",
       "      <td>7</td>\n",
       "      <td>7.26</td>\n",
       "      <td>7</td>\n",
       "      <td>6.42</td>\n",
       "      <td>8</td>\n",
       "      <td>7.91</td>\n",
       "    </tr>\n",
       "    <tr>\n",
       "      <th>10</th>\n",
       "      <td>5</td>\n",
       "      <td>5.68</td>\n",
       "      <td>5</td>\n",
       "      <td>4.74</td>\n",
       "      <td>5</td>\n",
       "      <td>5.73</td>\n",
       "      <td>8</td>\n",
       "      <td>6.89</td>\n",
       "    </tr>\n",
       "  </tbody>\n",
       "</table>\n",
       "</div>"
      ],
      "text/plain": [
       "    x_1    y_1  x_2   y_2  x_3    y_3  x_4    y_4\n",
       "0    10   8.04   10  9.14   10   7.46    8   6.58\n",
       "1     8   6.95    8  8.14    8   6.77    8   5.76\n",
       "2    13   7.58   13  8.74   13  12.74    8   7.71\n",
       "3     9   8.81    9  8.77    9   7.11    8   8.84\n",
       "4    11   8.33   11  9.26   11   7.81    8   8.47\n",
       "5    14   9.96   14  8.10   14   8.84    8   7.04\n",
       "6     6   7.24    6  6.13    6   6.08    8   5.25\n",
       "7     4   4.26    4  3.10    4   5.39   19  12.50\n",
       "8    12  10.84   12  9.13   12   8.15    8   5.56\n",
       "9     7   4.82    7  7.26    7   6.42    8   7.91\n",
       "10    5   5.68    5  4.74    5   5.73    8   6.89"
      ]
     },
     "execution_count": 3,
     "metadata": {},
     "output_type": "execute_result"
    }
   ],
   "source": [
    "anscombe"
   ]
  },
  {
   "cell_type": "code",
   "execution_count": 4,
   "id": "94ced23a",
   "metadata": {},
   "outputs": [
    {
     "data": {
      "text/html": [
       "<div>\n",
       "<style scoped>\n",
       "    .dataframe tbody tr th:only-of-type {\n",
       "        vertical-align: middle;\n",
       "    }\n",
       "\n",
       "    .dataframe tbody tr th {\n",
       "        vertical-align: top;\n",
       "    }\n",
       "\n",
       "    .dataframe thead th {\n",
       "        text-align: right;\n",
       "    }\n",
       "</style>\n",
       "<table border=\"1\" class=\"dataframe\">\n",
       "  <thead>\n",
       "    <tr style=\"text-align: right;\">\n",
       "      <th></th>\n",
       "      <th>x_1</th>\n",
       "      <th>y_1</th>\n",
       "      <th>x_2</th>\n",
       "      <th>y_2</th>\n",
       "      <th>x_3</th>\n",
       "      <th>y_3</th>\n",
       "      <th>x_4</th>\n",
       "      <th>y_4</th>\n",
       "    </tr>\n",
       "  </thead>\n",
       "  <tbody>\n",
       "    <tr>\n",
       "      <th>count</th>\n",
       "      <td>11.000000</td>\n",
       "      <td>11.000000</td>\n",
       "      <td>11.000000</td>\n",
       "      <td>11.000000</td>\n",
       "      <td>11.000000</td>\n",
       "      <td>11.000000</td>\n",
       "      <td>11.000000</td>\n",
       "      <td>11.000000</td>\n",
       "    </tr>\n",
       "    <tr>\n",
       "      <th>mean</th>\n",
       "      <td>9.000000</td>\n",
       "      <td>7.500909</td>\n",
       "      <td>9.000000</td>\n",
       "      <td>7.500909</td>\n",
       "      <td>9.000000</td>\n",
       "      <td>7.500000</td>\n",
       "      <td>9.000000</td>\n",
       "      <td>7.500909</td>\n",
       "    </tr>\n",
       "    <tr>\n",
       "      <th>std</th>\n",
       "      <td>3.316625</td>\n",
       "      <td>2.031568</td>\n",
       "      <td>3.316625</td>\n",
       "      <td>2.031657</td>\n",
       "      <td>3.316625</td>\n",
       "      <td>2.030424</td>\n",
       "      <td>3.316625</td>\n",
       "      <td>2.030579</td>\n",
       "    </tr>\n",
       "    <tr>\n",
       "      <th>min</th>\n",
       "      <td>4.000000</td>\n",
       "      <td>4.260000</td>\n",
       "      <td>4.000000</td>\n",
       "      <td>3.100000</td>\n",
       "      <td>4.000000</td>\n",
       "      <td>5.390000</td>\n",
       "      <td>8.000000</td>\n",
       "      <td>5.250000</td>\n",
       "    </tr>\n",
       "    <tr>\n",
       "      <th>25%</th>\n",
       "      <td>6.500000</td>\n",
       "      <td>6.315000</td>\n",
       "      <td>6.500000</td>\n",
       "      <td>6.695000</td>\n",
       "      <td>6.500000</td>\n",
       "      <td>6.250000</td>\n",
       "      <td>8.000000</td>\n",
       "      <td>6.170000</td>\n",
       "    </tr>\n",
       "    <tr>\n",
       "      <th>50%</th>\n",
       "      <td>9.000000</td>\n",
       "      <td>7.580000</td>\n",
       "      <td>9.000000</td>\n",
       "      <td>8.140000</td>\n",
       "      <td>9.000000</td>\n",
       "      <td>7.110000</td>\n",
       "      <td>8.000000</td>\n",
       "      <td>7.040000</td>\n",
       "    </tr>\n",
       "    <tr>\n",
       "      <th>75%</th>\n",
       "      <td>11.500000</td>\n",
       "      <td>8.570000</td>\n",
       "      <td>11.500000</td>\n",
       "      <td>8.950000</td>\n",
       "      <td>11.500000</td>\n",
       "      <td>7.980000</td>\n",
       "      <td>8.000000</td>\n",
       "      <td>8.190000</td>\n",
       "    </tr>\n",
       "    <tr>\n",
       "      <th>max</th>\n",
       "      <td>14.000000</td>\n",
       "      <td>10.840000</td>\n",
       "      <td>14.000000</td>\n",
       "      <td>9.260000</td>\n",
       "      <td>14.000000</td>\n",
       "      <td>12.740000</td>\n",
       "      <td>19.000000</td>\n",
       "      <td>12.500000</td>\n",
       "    </tr>\n",
       "  </tbody>\n",
       "</table>\n",
       "</div>"
      ],
      "text/plain": [
       "             x_1        y_1        x_2        y_2        x_3        y_3  \\\n",
       "count  11.000000  11.000000  11.000000  11.000000  11.000000  11.000000   \n",
       "mean    9.000000   7.500909   9.000000   7.500909   9.000000   7.500000   \n",
       "std     3.316625   2.031568   3.316625   2.031657   3.316625   2.030424   \n",
       "min     4.000000   4.260000   4.000000   3.100000   4.000000   5.390000   \n",
       "25%     6.500000   6.315000   6.500000   6.695000   6.500000   6.250000   \n",
       "50%     9.000000   7.580000   9.000000   8.140000   9.000000   7.110000   \n",
       "75%    11.500000   8.570000  11.500000   8.950000  11.500000   7.980000   \n",
       "max    14.000000  10.840000  14.000000   9.260000  14.000000  12.740000   \n",
       "\n",
       "             x_4        y_4  \n",
       "count  11.000000  11.000000  \n",
       "mean    9.000000   7.500909  \n",
       "std     3.316625   2.030579  \n",
       "min     8.000000   5.250000  \n",
       "25%     8.000000   6.170000  \n",
       "50%     8.000000   7.040000  \n",
       "75%     8.000000   8.190000  \n",
       "max    19.000000  12.500000  "
      ]
     },
     "execution_count": 4,
     "metadata": {},
     "output_type": "execute_result"
    }
   ],
   "source": [
    "# mean and standard deviation are basically the same for the x and y values\n",
    "anscombe.describe()"
   ]
  },
  {
   "cell_type": "code",
   "execution_count": 5,
   "id": "ebcb6a9b",
   "metadata": {},
   "outputs": [
    {
     "name": "stdout",
     "output_type": "stream",
     "text": [
      "Mean values\n",
      "x_1: 9.0\n",
      "y_1: 7.500909090909093\n",
      "x_2: 9.0\n",
      "y_2: 7.50090909090909\n",
      "x_3: 9.0\n",
      "y_3: 7.5\n",
      "x_4: 9.0\n",
      "y_4: 7.500909090909091\n",
      "\n",
      "\n",
      "Standard deviations\n",
      "x_1: 3.3166247903554\n",
      "y_1: 2.031568135925815\n",
      "x_2: 3.3166247903554\n",
      "y_2: 2.0316567355016177\n",
      "x_3: 3.3166247903554\n",
      "y_3: 2.030423601123667\n",
      "x_4: 3.3166247903554\n",
      "y_4: 2.0305785113876023\n"
     ]
    }
   ],
   "source": [
    "print(\"Mean values\")\n",
    "for series_name in anscombe.columns:\n",
    "    print(f\"{series_name}: {anscombe[series_name].mean()}\")\n",
    "print(\"\\n\")\n",
    "    \n",
    "print(\"Standard deviations\")    \n",
    "for series_name in anscombe.columns:\n",
    "    print(f\"{series_name}: {anscombe[series_name].std()}\")"
   ]
  },
  {
   "cell_type": "code",
   "execution_count": 6,
   "id": "fc34dd29",
   "metadata": {},
   "outputs": [
    {
     "data": {
      "text/html": [
       "<div>\n",
       "<style scoped>\n",
       "    .dataframe tbody tr th:only-of-type {\n",
       "        vertical-align: middle;\n",
       "    }\n",
       "\n",
       "    .dataframe tbody tr th {\n",
       "        vertical-align: top;\n",
       "    }\n",
       "\n",
       "    .dataframe thead th {\n",
       "        text-align: right;\n",
       "    }\n",
       "</style>\n",
       "<table border=\"1\" class=\"dataframe\">\n",
       "  <thead>\n",
       "    <tr style=\"text-align: right;\">\n",
       "      <th></th>\n",
       "      <th>x_1</th>\n",
       "      <th>y_1</th>\n",
       "      <th>x_2</th>\n",
       "      <th>y_2</th>\n",
       "      <th>x_3</th>\n",
       "      <th>y_3</th>\n",
       "      <th>x_4</th>\n",
       "      <th>y_4</th>\n",
       "    </tr>\n",
       "  </thead>\n",
       "  <tbody>\n",
       "    <tr>\n",
       "      <th>x_1</th>\n",
       "      <td>1.000000</td>\n",
       "      <td>0.816421</td>\n",
       "      <td>1.000000</td>\n",
       "      <td>0.816237</td>\n",
       "      <td>1.000000</td>\n",
       "      <td>0.816287</td>\n",
       "      <td>-0.500000</td>\n",
       "      <td>-0.314047</td>\n",
       "    </tr>\n",
       "    <tr>\n",
       "      <th>y_1</th>\n",
       "      <td>0.816421</td>\n",
       "      <td>1.000000</td>\n",
       "      <td>0.816421</td>\n",
       "      <td>0.750005</td>\n",
       "      <td>0.816421</td>\n",
       "      <td>0.468717</td>\n",
       "      <td>-0.529093</td>\n",
       "      <td>-0.489116</td>\n",
       "    </tr>\n",
       "    <tr>\n",
       "      <th>x_2</th>\n",
       "      <td>1.000000</td>\n",
       "      <td>0.816421</td>\n",
       "      <td>1.000000</td>\n",
       "      <td>0.816237</td>\n",
       "      <td>1.000000</td>\n",
       "      <td>0.816287</td>\n",
       "      <td>-0.500000</td>\n",
       "      <td>-0.314047</td>\n",
       "    </tr>\n",
       "    <tr>\n",
       "      <th>y_2</th>\n",
       "      <td>0.816237</td>\n",
       "      <td>0.750005</td>\n",
       "      <td>0.816237</td>\n",
       "      <td>1.000000</td>\n",
       "      <td>0.816237</td>\n",
       "      <td>0.587919</td>\n",
       "      <td>-0.718437</td>\n",
       "      <td>-0.478095</td>\n",
       "    </tr>\n",
       "    <tr>\n",
       "      <th>x_3</th>\n",
       "      <td>1.000000</td>\n",
       "      <td>0.816421</td>\n",
       "      <td>1.000000</td>\n",
       "      <td>0.816237</td>\n",
       "      <td>1.000000</td>\n",
       "      <td>0.816287</td>\n",
       "      <td>-0.500000</td>\n",
       "      <td>-0.314047</td>\n",
       "    </tr>\n",
       "    <tr>\n",
       "      <th>y_3</th>\n",
       "      <td>0.816287</td>\n",
       "      <td>0.468717</td>\n",
       "      <td>0.816287</td>\n",
       "      <td>0.587919</td>\n",
       "      <td>0.816287</td>\n",
       "      <td>1.000000</td>\n",
       "      <td>-0.344661</td>\n",
       "      <td>-0.155472</td>\n",
       "    </tr>\n",
       "    <tr>\n",
       "      <th>x_4</th>\n",
       "      <td>-0.500000</td>\n",
       "      <td>-0.529093</td>\n",
       "      <td>-0.500000</td>\n",
       "      <td>-0.718437</td>\n",
       "      <td>-0.500000</td>\n",
       "      <td>-0.344661</td>\n",
       "      <td>1.000000</td>\n",
       "      <td>0.816521</td>\n",
       "    </tr>\n",
       "    <tr>\n",
       "      <th>y_4</th>\n",
       "      <td>-0.314047</td>\n",
       "      <td>-0.489116</td>\n",
       "      <td>-0.314047</td>\n",
       "      <td>-0.478095</td>\n",
       "      <td>-0.314047</td>\n",
       "      <td>-0.155472</td>\n",
       "      <td>0.816521</td>\n",
       "      <td>1.000000</td>\n",
       "    </tr>\n",
       "  </tbody>\n",
       "</table>\n",
       "</div>"
      ],
      "text/plain": [
       "          x_1       y_1       x_2       y_2       x_3       y_3       x_4  \\\n",
       "x_1  1.000000  0.816421  1.000000  0.816237  1.000000  0.816287 -0.500000   \n",
       "y_1  0.816421  1.000000  0.816421  0.750005  0.816421  0.468717 -0.529093   \n",
       "x_2  1.000000  0.816421  1.000000  0.816237  1.000000  0.816287 -0.500000   \n",
       "y_2  0.816237  0.750005  0.816237  1.000000  0.816237  0.587919 -0.718437   \n",
       "x_3  1.000000  0.816421  1.000000  0.816237  1.000000  0.816287 -0.500000   \n",
       "y_3  0.816287  0.468717  0.816287  0.587919  0.816287  1.000000 -0.344661   \n",
       "x_4 -0.500000 -0.529093 -0.500000 -0.718437 -0.500000 -0.344661  1.000000   \n",
       "y_4 -0.314047 -0.489116 -0.314047 -0.478095 -0.314047 -0.155472  0.816521   \n",
       "\n",
       "          y_4  \n",
       "x_1 -0.314047  \n",
       "y_1 -0.489116  \n",
       "x_2 -0.314047  \n",
       "y_2 -0.478095  \n",
       "x_3 -0.314047  \n",
       "y_3 -0.155472  \n",
       "x_4  0.816521  \n",
       "y_4  1.000000  "
      ]
     },
     "execution_count": 6,
     "metadata": {},
     "output_type": "execute_result"
    }
   ],
   "source": [
    "# similar correlation between x and y series\n",
    "anscombe.corr()"
   ]
  },
  {
   "cell_type": "code",
   "execution_count": 7,
   "id": "d4ab7421",
   "metadata": {},
   "outputs": [
    {
     "name": "stdout",
     "output_type": "stream",
     "text": [
      "0.81642051634484\n",
      "0.8162365060002428\n",
      "0.8162867394895984\n",
      "0.8165214368885028\n"
     ]
    }
   ],
   "source": [
    "for number in [1, 2, 3 , 4]:\n",
    "    print(anscombe[f\"x_{number}\"].corr(anscombe[f\"y_{number}\"], method=\"pearson\"))"
   ]
  },
  {
   "cell_type": "code",
   "execution_count": 8,
   "id": "0edc2e7b",
   "metadata": {},
   "outputs": [
    {
     "data": {
      "text/plain": [
       "<AxesSubplot:xlabel='x_1', ylabel='y_1'>"
      ]
     },
     "execution_count": 8,
     "metadata": {},
     "output_type": "execute_result"
    },
    {
     "data": {
      "image/png": "[encoded data removed]",
      "text/plain": [
       "<Figure size 432x288 with 1 Axes>"
      ]
     },
     "metadata": {
      "needs_background": "light"
     },
     "output_type": "display_data"
    }
   ],
   "source": [
    "anscombe.plot.scatter(x=\"x_1\", y=\"y_1\")"
   ]
  },
  {
   "cell_type": "code",
   "execution_count": 9,
   "id": "90360944",
   "metadata": {},
   "outputs": [
    {
     "data": {
      "text/plain": [
       "<AxesSubplot:xlabel='x_2', ylabel='y_2'>"
      ]
     },
     "execution_count": 9,
     "metadata": {},
     "output_type": "execute_result"
    },
    {
     "data": {
      "image/png": "[encoded data removed]",
      "text/plain": [
       "<Figure size 432x288 with 1 Axes>"
      ]
     },
     "metadata": {
      "needs_background": "light"
     },
     "output_type": "display_data"
    }
   ],
   "source": [
    "anscombe.plot.scatter(x=\"x_2\", y=\"y_2\")"
   ]
  },
  {
   "cell_type": "code",
   "execution_count": 10,
   "id": "8c76f4c8",
   "metadata": {},
   "outputs": [
    {
     "data": {
      "text/plain": [
       "<AxesSubplot:xlabel='x_3', ylabel='y_3'>"
      ]
     },
     "execution_count": 10,
     "metadata": {},
     "output_type": "execute_result"
    },
    {
     "data": {
      "image/png": "[encoded data removed]",
      "text/plain": [
       "<Figure size 432x288 with 1 Axes>"
      ]
     },
     "metadata": {
      "needs_background": "light"
     },
     "output_type": "display_data"
    }
   ],
   "source": [
    "anscombe.plot.scatter(\"x_3\", \"y_3\")"
   ]
  },
  {
   "cell_type": "code",
   "execution_count": 11,
   "id": "74795b78",
   "metadata": {},
   "outputs": [
    {
     "data": {
      "text/plain": [
       "<AxesSubplot:xlabel='x_4', ylabel='y_4'>"
      ]
     },
     "execution_count": 11,
     "metadata": {},
     "output_type": "execute_result"
    },
    {
     "data": {
      "image/png": "[encoded data removed]",
      "text/plain": [
       "<Figure size 432x288 with 1 Axes>"
      ]
     },
     "metadata": {
      "needs_background": "light"
     },
     "output_type": "display_data"
    }
   ],
   "source": [
    "anscombe.plot.scatter(\"x_4\", \"y_4\")"
   ]
  },
  {
   "cell_type": "code",
   "execution_count": 12,
   "id": "8073e8a5",
   "metadata": {},
   "outputs": [
    {
     "data": {
      "text/plain": [
       "<seaborn.axisgrid.FacetGrid at 0x7fb1c3104880>"
      ]
     },
     "execution_count": 12,
     "metadata": {},
     "output_type": "execute_result"
    },
    {
     "data": {
      "image/png": "[encoded data removed]",
      "text/plain": [
       "<Figure size 360x360 with 1 Axes>"
      ]
     },
     "metadata": {
      "needs_background": "light"
     },
     "output_type": "display_data"
    }
   ],
   "source": [
    "sns.lmplot(data=anscombe, x=\"x_1\", y=\"y_1\", ci=None)"
   ]
  },
  {
   "cell_type": "code",
   "execution_count": 13,
   "id": "df1f95ec",
   "metadata": {},
   "outputs": [
    {
     "data": {
      "text/plain": [
       "<seaborn.axisgrid.FacetGrid at 0x7fb1c30f0cd0>"
      ]
     },
     "execution_count": 13,
     "metadata": {},
     "output_type": "execute_result"
    },
    {
     "data": {
      "image/png": "[encoded data removed]",
      "text/plain": [
       "<Figure size 360x360 with 1 Axes>"
      ]
     },
     "metadata": {
      "needs_background": "light"
     },
     "output_type": "display_data"
    }
   ],
   "source": [
    "sns.lmplot(data=anscombe, x=\"x_2\", y=\"y_2\", ci=None)"
   ]
  },
  {
   "cell_type": "code",
   "execution_count": 14,
   "id": "80328e80",
   "metadata": {},
   "outputs": [
    {
     "data": {
      "text/plain": [
       "<seaborn.axisgrid.FacetGrid at 0x7fb1c308e2e0>"
      ]
     },
     "execution_count": 14,
     "metadata": {},
     "output_type": "execute_result"
    },
    {
     "data": {
      "image/png": "[encoded data removed]",
      "text/plain": [
       "<Figure size 360x360 with 1 Axes>"
      ]
     },
     "metadata": {
      "needs_background": "light"
     },
     "output_type": "display_data"
    }
   ],
   "source": [
    "sns.lmplot(data=anscombe, x=\"x_3\", y=\"y_3\", ci=None)"
   ]
  },
  {
   "cell_type": "code",
   "execution_count": 15,
   "id": "f008b2b5",
   "metadata": {},
   "outputs": [
    {
     "data": {
      "text/plain": [
       "<seaborn.axisgrid.FacetGrid at 0x7fb1c3123040>"
      ]
     },
     "execution_count": 15,
     "metadata": {},
     "output_type": "execute_result"
    },
    {
     "data": {
      "image/png": "[encoded data removed]",
      "text/plain": [
       "<Figure size 360x360 with 1 Axes>"
      ]
     },
     "metadata": {
      "needs_background": "light"
     },
     "output_type": "display_data"
    }
   ],
   "source": [
    "sns.lmplot(data=anscombe, x=\"x_4\", y=\"y_4\", ci=None)"
   ]
  },
  {
   "cell_type": "code",
   "execution_count": null,
   "id": "16bc7037",
   "metadata": {},
   "outputs": [],
   "source": []
  }
 ],
 "metadata": {
  "kernelspec": {
   "display_name": "Python 3 (ipykernel)",
   "language": "python",
   "name": "python3"
  },
  "language_info": {
   "codemirror_mode": {
    "name": "ipython",
    "version": 3
   },
   "file_extension": ".py",
   "mimetype": "text/x-python",
   "name": "python",
   "nbconvert_exporter": "python",
   "pygments_lexer": "ipython3",
   "version": "3.9.10"
  }
 },
 "nbformat": 4,
 "nbformat_minor": 5
}
