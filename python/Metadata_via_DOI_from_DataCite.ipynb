{
 "cells": [
  {
   "cell_type": "markdown",
   "metadata": {},
   "source": [
    "# Metadaten via DOI von DataCite abfragen\n",
    "[DataCite Webseite](https://datacite.org/)  \n",
    "[Manuelle Suche](https://commons.datacite.org/)  \n",
    "\n",
    "- Suche nach git in \"Works\" \n",
    "    - Filter: Dataset\n",
    "- Unter **Downloads** DataCite JSON öffnen (unter Firefox)\n",
    "- Datenset anschauen\n",
    "\n",
    "[DataCite REST API](https://support.datacite.org/docs/api)  \n"
   ]
  },
  {
   "cell_type": "code",
   "execution_count": 46,
   "metadata": {},
   "outputs": [],
   "source": [
    "import urllib.request\n",
    "import json\n",
    "\n",
    "base_url = \"https://api.datacite.org/application/vnd.datacite.datacite+json/\"\n",
    "doi = \"10.5281/zenodo.5563162\"\n",
    "full_url = base_url + doi"
   ]
  },
  {
   "cell_type": "code",
   "execution_count": 47,
   "metadata": {},
   "outputs": [],
   "source": [
    "doi_json_dataset = urllib.request.urlopen(full_url).read()"
   ]
  },
  {
   "cell_type": "code",
   "execution_count": 48,
   "metadata": {},
   "outputs": [],
   "source": [
    "doi_dataset = json.loads(doi_json_dataset)"
   ]
  },
  {
   "cell_type": "code",
   "execution_count": 49,
   "metadata": {},
   "outputs": [
    {
     "data": {
      "text/plain": [
       "{'id': 'https://doi.org/10.5281/zenodo.5563162',\n",
       " 'doi': '10.5281/ZENODO.5563162',\n",
       " 'url': 'https://zenodo.org/record/5563162',\n",
       " 'types': {'ris': 'DATA',\n",
       "  'bibtex': 'misc',\n",
       "  'citeproc': 'dataset',\n",
       "  'schemaOrg': 'Dataset',\n",
       "  'resourceTypeGeneral': 'Dataset'},\n",
       " 'creators': [{'name': 'Banda, Juan M.',\n",
       "   'givenName': 'Juan M.',\n",
       "   'familyName': 'Banda',\n",
       "   'affiliation': [{'name': 'Georgia State University'}],\n",
       "   'nameIdentifiers': [{'schemeUri': 'https://orcid.org',\n",
       "     'nameIdentifier': 'https://orcid.org/0000-0001-8499-824X',\n",
       "     'nameIdentifierScheme': 'ORCID'}]},\n",
       "  {'name': 'Tekumalla, Ramya',\n",
       "   'givenName': 'Ramya',\n",
       "   'familyName': 'Tekumalla',\n",
       "   'affiliation': [{'name': 'Georgia State University'}],\n",
       "   'nameIdentifiers': [{'schemeUri': 'https://orcid.org',\n",
       "     'nameIdentifier': 'https://orcid.org/0000-0002-1606-4856',\n",
       "     'nameIdentifierScheme': 'ORCID'}]},\n",
       "  {'name': 'Wang, Guanyu',\n",
       "   'givenName': 'Guanyu',\n",
       "   'familyName': 'Wang',\n",
       "   'affiliation': [{'name': 'University of Missouri'}]},\n",
       "  {'name': 'Yu, Jingyuan',\n",
       "   'givenName': 'Jingyuan',\n",
       "   'familyName': 'Yu',\n",
       "   'affiliation': [{'name': 'Universitat Autònoma de Barcelona'}]},\n",
       "  {'name': 'Liu, Tuo',\n",
       "   'givenName': 'Tuo',\n",
       "   'familyName': 'Liu',\n",
       "   'affiliation': [{'name': 'Carl von Ossietzky Universität Oldenburg'}]},\n",
       "  {'name': 'Ding, Yuning',\n",
       "   'givenName': 'Yuning',\n",
       "   'familyName': 'Ding',\n",
       "   'affiliation': [{'name': 'Universität Duisburg-Essen'}]},\n",
       "  {'name': 'Artemova, Katya',\n",
       "   'givenName': 'Katya',\n",
       "   'familyName': 'Artemova',\n",
       "   'affiliation': [{'name': 'NRU HSE'}]},\n",
       "  {'name': 'Tutubalina, Elena',\n",
       "   'givenName': 'Elena',\n",
       "   'familyName': 'Tutubalina',\n",
       "   'affiliation': [{'name': 'KFU'}]},\n",
       "  {'name': 'Chowell, Gerardo',\n",
       "   'givenName': 'Gerardo',\n",
       "   'familyName': 'Chowell',\n",
       "   'affiliation': [{'name': 'Georgia State University'}],\n",
       "   'nameIdentifiers': [{'schemeUri': 'https://orcid.org',\n",
       "     'nameIdentifier': 'https://orcid.org/0000-0003-2194-2251',\n",
       "     'nameIdentifierScheme': 'ORCID'}]}],\n",
       " 'titles': [{'title': 'A large-scale COVID-19 Twitter chatter dataset for open scientific research - an international collaboration'}],\n",
       " 'publisher': 'Zenodo',\n",
       " 'container': {'type': 'DataRepository',\n",
       "  'identifier': 'https://zenodo.org/communities/biohackathon',\n",
       "  'identifierType': 'URL'},\n",
       " 'subjects': [{'subject': 'social media'},\n",
       "  {'subject': 'twitter'},\n",
       "  {'subject': 'nlp'},\n",
       "  {'subject': 'covid-19'},\n",
       "  {'subject': 'covid19'}],\n",
       " 'contributors': [],\n",
       " 'dates': [{'date': '2021-10-10', 'dateType': 'Issued'}],\n",
       " 'publicationYear': 2021,\n",
       " 'language': 'en',\n",
       " 'identifiers': [{'identifier': 'https://github.com/thepanacealab/covid19_twitter',\n",
       "   'identifierType': 'URL'},\n",
       "  {'identifier': 'https://zenodo.org/record/5563162',\n",
       "   'identifierType': 'URL'}],\n",
       " 'sizes': [],\n",
       " 'formats': [],\n",
       " 'version': '83',\n",
       " 'rightsList': [{'rights': 'Open Access',\n",
       "   'rightsUri': 'info:eu-repo/semantics/openAccess'}],\n",
       " 'descriptions': [{'description': '<em><strong>Version 83 of the dataset. The peer-reviewed publication for this dataset has now been published in Epidemiologia an MDPI journal, and can be accessed here: https://doi.org/10.3390/epidemiologia2030024. Please cite this when using the dataset.</strong></em> <strong>Due to the relevance of the COVID-19 global pandemic, we are releasing our dataset of tweets acquired from the Twitter Stream related to COVID-19 chatter. Since our first release we have received additional data from our new collaborators, allowing this resource to grow to its current size. Dedicated data gathering started from March 11th yielding over 4 million tweets a day. We have added additional data provided by our new collaborators from January 27th to March 27th, to provide extra longitudinal coverage. Version 10 added ~1.5 million tweets in the Russian language collected between January 1st and May 8th, gracefully provided to us by: Katya Artemova (NRU HSE) and Elena Tutubalina (KFU). From version 12 we have included daily hashtags, mentions and emoijis and their frequencies the respective zip files. From version 14 <em>we</em> have included the tweet identifiers and their respective language for the clean version of the dataset. Since version 20 we have included language and place location for all tweets.</strong> <strong>The data collected from the stream captures all languages, but the higher prevalence are: English, Spanish, and French. We release all tweets and retweets on the full_dataset.tsv file (1,222,981,652 unique tweets), and a cleaned version with no retweets on the full_dataset-clean.tsv file (313,558,225 unique tweets). There are several practical reasons for us to leave the retweets, tracing important tweets and their dissemination is one of them. For NLP tasks we provide the top 1000 frequent terms in frequent_terms.csv, the top 1000 bigrams in frequent_bigrams.csv, and the top 1000 trigrams in frequent_trigrams.csv. Some general statistics per day are included for both datasets in the full_dataset-statistics.tsv and full_dataset-clean-statistics.tsv files. For more statistics and some visualizations visit: http://www.panacealab.org/covid19/ </strong> <strong>More details can be found (and will be updated faster at: https://github.com/thepanacealab/covid19_twitter) and our pre-print about the dataset (https://arxiv.org/abs/2004.03688) </strong> <strong>As always, the tweets distributed here are only tweet identifiers (with date and time added) due to the terms and conditions of Twitter to re-distribute Twitter data ONLY for research purposes. They need to be hydrated to be used.</strong>',\n",
       "   'descriptionType': 'Abstract'},\n",
       "  {'description': 'This dataset will be updated bi-weekly at least with additional tweets, look at the github repo for these updates. Release: We have standardized the name of the resource to match our pre-print manuscript and to not have to update it every week.',\n",
       "   'descriptionType': 'Other'}],\n",
       " 'geoLocations': [],\n",
       " 'fundingReferences': [],\n",
       " 'relatedIdentifiers': [{'relationType': 'IsContinuedBy',\n",
       "   'relatedIdentifier': 'http://www.panacealab.org/covid19/',\n",
       "   'resourceTypeGeneral': 'Other',\n",
       "   'relatedIdentifierType': 'URL'},\n",
       "  {'relationType': 'IsSupplementTo',\n",
       "   'relatedIdentifier': 'https://arxiv.org/abs/2004.03688',\n",
       "   'resourceTypeGeneral': 'Preprint',\n",
       "   'relatedIdentifierType': 'URL'},\n",
       "  {'relationType': 'IsVersionOf',\n",
       "   'relatedIdentifier': '10.5281/zenodo.3723939',\n",
       "   'relatedIdentifierType': 'DOI'},\n",
       "  {'relationType': 'IsPartOf',\n",
       "   'relatedIdentifier': 'https://zenodo.org/communities/biohackathon',\n",
       "   'relatedIdentifierType': 'URL'},\n",
       "  {'relationType': 'IsPartOf',\n",
       "   'relatedIdentifier': 'https://zenodo.org/communities/covid-19',\n",
       "   'relatedIdentifierType': 'URL'},\n",
       "  {'relationType': 'IsPartOf',\n",
       "   'relatedIdentifier': 'https://zenodo.org/communities/zenodo',\n",
       "   'relatedIdentifierType': 'URL'}],\n",
       " 'relatedItems': [],\n",
       " 'schemaVersion': 'http://datacite.org/schema/kernel-4',\n",
       " 'providerId': 'cern',\n",
       " 'clientId': 'cern.zenodo',\n",
       " 'agency': 'datacite',\n",
       " 'state': 'findable'}"
      ]
     },
     "execution_count": 49,
     "metadata": {},
     "output_type": "execute_result"
    }
   ],
   "source": [
    "doi_dataset"
   ]
  },
  {
   "cell_type": "code",
   "execution_count": 32,
   "metadata": {},
   "outputs": [
    {
     "data": {
      "text/plain": [
       "dict"
      ]
     },
     "execution_count": 32,
     "metadata": {},
     "output_type": "execute_result"
    }
   ],
   "source": [
    "type(doi_dataset)"
   ]
  },
  {
   "cell_type": "code",
   "execution_count": 33,
   "metadata": {},
   "outputs": [
    {
     "data": {
      "text/plain": [
       "dict_keys(['id', 'doi', 'url', 'types', 'creators', 'titles', 'publisher', 'container', 'subjects', 'contributors', 'dates', 'publicationYear', 'language', 'identifiers', 'sizes', 'formats', 'rightsList', 'descriptions', 'geoLocations', 'fundingReferences', 'relatedIdentifiers', 'schemaVersion', 'providerId', 'clientId', 'agency', 'state'])"
      ]
     },
     "execution_count": 33,
     "metadata": {},
     "output_type": "execute_result"
    }
   ],
   "source": [
    "doi_dataset.keys()"
   ]
  },
  {
   "cell_type": "code",
   "execution_count": 34,
   "metadata": {},
   "outputs": [
    {
     "name": "stdout",
     "output_type": "stream",
     "text": [
      "2020\n"
     ]
    }
   ],
   "source": [
    "# Access the year of the publication\n",
    "print(doi_dataset[\"publicationYear\"])"
   ]
  },
  {
   "cell_type": "code",
   "execution_count": 64,
   "metadata": {},
   "outputs": [
    {
     "name": "stdout",
     "output_type": "stream",
     "text": [
      "Banda, Juan M.\n"
     ]
    }
   ],
   "source": [
    "# Access creator of the publication\n",
    "print(doi_dataset[\"creators\"][0][\"name\"])"
   ]
  },
  {
   "cell_type": "code",
   "execution_count": 65,
   "metadata": {},
   "outputs": [
    {
     "name": "stdout",
     "output_type": "stream",
     "text": [
      "Tekumalla, Ramya\n"
     ]
    }
   ],
   "source": [
    "# next creator\n",
    "print(doi_dataset[\"creators\"][1][\"name\"])"
   ]
  },
  {
   "cell_type": "code",
   "execution_count": null,
   "metadata": {},
   "outputs": [],
   "source": [
    "print(doi_dataset[\"creators\"][0][\"giveName\"])"
   ]
  },
  {
   "cell_type": "code",
   "execution_count": 52,
   "metadata": {},
   "outputs": [
    {
     "name": "stdout",
     "output_type": "stream",
     "text": [
      "Banda, Juan M.\n",
      "Tekumalla, Ramya\n",
      "Wang, Guanyu\n",
      "Yu, Jingyuan\n",
      "Liu, Tuo\n",
      "Ding, Yuning\n",
      "Artemova, Katya\n",
      "Tutubalina, Elena\n",
      "Chowell, Gerardo\n"
     ]
    }
   ],
   "source": [
    "# just in case someone asks for all creators\n",
    "for creator in doi_dataset[\"creators\"]:\n",
    "    print(creator[\"name\"])"
   ]
  },
  {
   "cell_type": "code",
   "execution_count": 58,
   "metadata": {},
   "outputs": [],
   "source": [
    "creator_names = []\n",
    "for creator in doi_dataset[\"creators\"]:\n",
    "    creator_names.append(creator[\"name\"])"
   ]
  },
  {
   "cell_type": "code",
   "execution_count": 62,
   "metadata": {},
   "outputs": [],
   "source": [
    "# list comprehension\n",
    "creator_names = [creator[\"name\"] for creator in doi_dataset[\"creators\"]]"
   ]
  },
  {
   "cell_type": "markdown",
   "metadata": {},
   "source": [
    "## Access the title of the publication"
   ]
  },
  {
   "cell_type": "code",
   "execution_count": 9,
   "metadata": {},
   "outputs": [
    {
     "name": "stdout",
     "output_type": "stream",
     "text": [
      "[{'title': 'git repository for paper on git and reproducible science'}]\n"
     ]
    }
   ],
   "source": [
    "## Getting title within a list with a dictionary inside\n",
    "print(doi_dataset[\"titles\"])"
   ]
  },
  {
   "cell_type": "code",
   "execution_count": 10,
   "metadata": {},
   "outputs": [
    {
     "name": "stdout",
     "output_type": "stream",
     "text": [
      "{'title': 'git repository for paper on git and reproducible science'}\n"
     ]
    }
   ],
   "source": [
    "## Getting the first element out of the list, which is the dictionary\n",
    "print(doi_dataset[\"titles\"][0])"
   ]
  },
  {
   "cell_type": "code",
   "execution_count": 11,
   "metadata": {},
   "outputs": [
    {
     "name": "stdout",
     "output_type": "stream",
     "text": [
      "git repository for paper on git and reproducible science\n"
     ]
    }
   ],
   "source": [
    "# Access the key of the dictionary which is the title of the publication\n",
    "print(doi_dataset[\"titles\"][0][\"title\"])"
   ]
  },
  {
   "cell_type": "code",
   "execution_count": 18,
   "metadata": {},
   "outputs": [
    {
     "name": "stdout",
     "output_type": "stream",
     "text": [
      "git repository for paper on git and reproducible science\n",
      "- 10.6084/m9.figshare.155613\n",
      "- Dataset\n",
      "- figshare\n",
      "- 2013\n",
      "-----------------\n",
      "git can facilitate greater reproducibility and increased transparency in science\n",
      "- 10.6084/m9.figshare.153821.v1\n",
      "- Dataset\n",
      "- figshare\n",
      "- 2013\n",
      "-----------------\n",
      "The role of the German National Library for Life Sciences ZB MED in the approach to a FAIR Research Data Infrastructure in Agricultural Science embedded in the Life Sciences\n",
      "- 10.7490/f1000research.1115338.1\n",
      "- Other\n",
      "- F1000 Research Limited\n",
      "- 2018\n",
      "-----------------\n",
      "Nachnutzbare Awarenessmaterialien für Forschungsdatenmanagement (FDM)\n",
      "- 10.5281/zenodo.2599866\n",
      "- Other\n",
      "- Zenodo\n",
      "- 2019\n",
      "-----------------\n"
     ]
    }
   ],
   "source": [
    "# Same approach as above for a larger set of DOIs\n",
    "# Exercise: Show doi, resourceTypeGeneral, title, publisher\n",
    "# Bonus exercise: publicationYear \n",
    "dois = [\"10.6084/m9.figshare.155613\",\n",
    "        \"10.6084/m9.figshare.153821.v1\",\n",
    "        \"10.7490/f1000research.1115338.1\",\n",
    "        \"10.5281/zenodo.2599866\"]\n",
    "\n",
    "for doi in dois:\n",
    "    doi_json_dataset = urllib.request.urlopen(base_url + doi).read()\n",
    "    doi_dataset = json.loads(doi_json_dataset)\n",
    "    print(doi_dataset[\"titles\"][0][\"title\"])\n",
    "    print(\"- \" + doi)\n",
    "    print(\"- \" + doi_dataset[\"types\"][\"resourceTypeGeneral\"])\n",
    "    print(\"- \" + doi_dataset[\"publisher\"])\n",
    "    print(\"- \" + str(doi_dataset[\"publicationYear\"]))\n",
    "    print(\"-----------------\")"
   ]
  },
  {
   "cell_type": "code",
   "execution_count": null,
   "metadata": {},
   "outputs": [],
   "source": []
  }
 ],
 "metadata": {
  "kernelspec": {
   "display_name": "Python 3",
   "language": "python",
   "name": "python3"
  },
  "language_info": {
   "codemirror_mode": {
    "name": "ipython",
    "version": 3
   },
   "file_extension": ".py",
   "mimetype": "text/x-python",
   "name": "python",
   "nbconvert_exporter": "python",
   "pygments_lexer": "ipython3",
   "version": "3.7.6"
  }
 },
 "nbformat": 4,
 "nbformat_minor": 4
}
