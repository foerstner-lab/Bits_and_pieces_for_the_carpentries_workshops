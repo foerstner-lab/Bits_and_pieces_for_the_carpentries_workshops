{
 "cells": [
  {
   "cell_type": "code",
   "execution_count": 9,
   "metadata": {},
   "outputs": [
    {
     "name": "stdout",
     "output_type": "stream",
     "text": [
      "New phone!\n",
      "black\n",
      "Ring Ring\n"
     ]
    }
   ],
   "source": [
    "class Phone():\n",
    "\n",
    "    def __init__(self, color):\n",
    "        self.phone_color = color\n",
    "        print(f\"New phone!\")\n",
    "        \n",
    "    def give_color(self):\n",
    "        print(self.phone_color)\n",
    "        \n",
    "    def ring(self):\n",
    "        self.__check_battery()\n",
    "        print(\"Ring Ring\")\n",
    "        \n",
    "    def __check_battery(self):\n",
    "        pass\n",
    "    \n",
    "konrads_phone = Phone(\"black\")\n",
    "konrads_phone.give_color()\n",
    "konrads_phone.ring()"
   ]
  },
  {
   "cell_type": "code",
   "execution_count": 7,
   "metadata": {},
   "outputs": [
    {
     "data": {
      "text/plain": [
       "__main__.Phone"
      ]
     },
     "execution_count": 7,
     "metadata": {},
     "output_type": "execute_result"
    }
   ],
   "source": [
    "type(konrads_phone)"
   ]
  },
  {
   "cell_type": "code",
   "execution_count": 8,
   "metadata": {},
   "outputs": [
    {
     "name": "stdout",
     "output_type": "stream",
     "text": [
      "New phone!\n"
     ]
    }
   ],
   "source": [
    "nicoles_phone = Phone(\"red\")"
   ]
  },
  {
   "cell_type": "code",
   "execution_count": null,
   "metadata": {},
   "outputs": [],
   "source": []
  }
 ],
 "metadata": {
  "kernelspec": {
   "display_name": "Python 3",
   "language": "python",
   "name": "python3"
  },
  "language_info": {
   "codemirror_mode": {
    "name": "ipython",
    "version": 3
   },
   "file_extension": ".py",
   "mimetype": "text/x-python",
   "name": "python",
   "nbconvert_exporter": "python",
   "pygments_lexer": "ipython3",
   "version": "3.7.3"
  }
 },
 "nbformat": 4,
 "nbformat_minor": 2
}
