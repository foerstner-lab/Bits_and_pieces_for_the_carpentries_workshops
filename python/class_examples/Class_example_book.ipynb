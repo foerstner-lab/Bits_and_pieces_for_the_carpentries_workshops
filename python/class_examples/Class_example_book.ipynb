{
 "cells": [
  {
   "cell_type": "code",
   "execution_count": 1,
   "metadata": {},
   "outputs": [
    {
     "data": {
      "text/plain": [
       "'BLUB'"
      ]
     },
     "execution_count": 1,
     "metadata": {},
     "output_type": "execute_result"
    }
   ],
   "source": [
    "\"blub\".upper()"
   ]
  },
  {
   "cell_type": "code",
   "execution_count": 3,
   "metadata": {},
   "outputs": [],
   "source": [
    "# Programmierparadigmen:\n",
    "# - proceduale Programmierung\n",
    "# - Objektorientierte Programmierung\n",
    "# - funktionen Programmierung"
   ]
  },
  {
   "cell_type": "code",
   "execution_count": null,
   "metadata": {},
   "outputs": [],
   "source": []
  },
  {
   "cell_type": "code",
   "execution_count": 5,
   "metadata": {},
   "outputs": [],
   "source": [
    "class Book:\n",
    "    title = \"\"\n",
    "    \n",
    "gulliver = Book()"
   ]
  },
  {
   "cell_type": "code",
   "execution_count": 6,
   "metadata": {},
   "outputs": [
    {
     "data": {
      "text/plain": [
       "__main__.Book"
      ]
     },
     "execution_count": 6,
     "metadata": {},
     "output_type": "execute_result"
    }
   ],
   "source": [
    "type(gulliver)"
   ]
  },
  {
   "cell_type": "code",
   "execution_count": 7,
   "metadata": {},
   "outputs": [],
   "source": [
    "class Book:\n",
    "    title = \"Gulliver\"\n",
    "    \n",
    "gulliver = Book()"
   ]
  },
  {
   "cell_type": "code",
   "execution_count": 8,
   "metadata": {},
   "outputs": [
    {
     "data": {
      "text/plain": [
       "'Gulliver'"
      ]
     },
     "execution_count": 8,
     "metadata": {},
     "output_type": "execute_result"
    }
   ],
   "source": [
    "gulliver.title"
   ]
  },
  {
   "cell_type": "code",
   "execution_count": 11,
   "metadata": {},
   "outputs": [
    {
     "ename": "TypeError",
     "evalue": "print_title() takes 0 positional arguments but 1 was given",
     "output_type": "error",
     "traceback": [
      "\u001b[0;31m---------------------------------------------------------------------------\u001b[0m",
      "\u001b[0;31mTypeError\u001b[0m                                 Traceback (most recent call last)",
      "\u001b[0;32m<ipython-input-11-6eac6f703b0c>\u001b[0m in \u001b[0;36m<module>\u001b[0;34m\u001b[0m\n\u001b[1;32m      6\u001b[0m \u001b[0;34m\u001b[0m\u001b[0m\n\u001b[1;32m      7\u001b[0m \u001b[0mgulliver\u001b[0m \u001b[0;34m=\u001b[0m \u001b[0mBook\u001b[0m\u001b[0;34m(\u001b[0m\u001b[0;34m)\u001b[0m\u001b[0;34m\u001b[0m\u001b[0;34m\u001b[0m\u001b[0m\n\u001b[0;32m----> 8\u001b[0;31m \u001b[0mgulliver\u001b[0m\u001b[0;34m.\u001b[0m\u001b[0mprint_title\u001b[0m\u001b[0;34m(\u001b[0m\u001b[0;34m)\u001b[0m\u001b[0;34m\u001b[0m\u001b[0;34m\u001b[0m\u001b[0m\n\u001b[0m",
      "\u001b[0;31mTypeError\u001b[0m: print_title() takes 0 positional arguments but 1 was given"
     ]
    }
   ],
   "source": [
    "class Book:\n",
    "    title = \"\"\n",
    "    \n",
    "    def print_title():\n",
    "        print(\"\")\n",
    "    \n",
    "gulliver = Book()\n",
    "gulliver.print_title()"
   ]
  },
  {
   "cell_type": "code",
   "execution_count": 13,
   "metadata": {},
   "outputs": [
    {
     "name": "stdout",
     "output_type": "stream",
     "text": [
      "\n"
     ]
    }
   ],
   "source": [
    "class Book:\n",
    "    title = \"\"\n",
    "    \n",
    "    def print_title(self):\n",
    "        print(\"\")\n",
    "    \n",
    "gulliver = Book()\n",
    "gulliver.print_title()"
   ]
  },
  {
   "cell_type": "code",
   "execution_count": 14,
   "metadata": {},
   "outputs": [
    {
     "name": "stdout",
     "output_type": "stream",
     "text": [
      "Gullivers Reisen\n",
      "\n"
     ]
    }
   ],
   "source": [
    "class Book:\n",
    "    title = \"\"\n",
    "    \n",
    "    def __init__(self, title):\n",
    "        print(title)\n",
    "    \n",
    "    def print_title(self):\n",
    "        print(\"\")\n",
    "    \n",
    "gulliver = Book(\"Gullivers Reisen\")\n",
    "gulliver.print_title()"
   ]
  },
  {
   "cell_type": "code",
   "execution_count": 15,
   "metadata": {},
   "outputs": [
    {
     "name": "stdout",
     "output_type": "stream",
     "text": [
      "\n"
     ]
    }
   ],
   "source": [
    "class Book:\n",
    "    title = \"\"\n",
    "    \n",
    "    def __init__(self, title):\n",
    "        self.title = title\n",
    "    \n",
    "    def print_title(self):\n",
    "        print(\"\")\n",
    "    \n",
    "gulliver = Book(\"Gullivers Reisen\")\n",
    "gulliver.print_title()"
   ]
  },
  {
   "cell_type": "code",
   "execution_count": 16,
   "metadata": {},
   "outputs": [
    {
     "name": "stdout",
     "output_type": "stream",
     "text": [
      "Gullivers Reisen\n"
     ]
    }
   ],
   "source": [
    "print(gulliver.title)"
   ]
  },
  {
   "cell_type": "code",
   "execution_count": 19,
   "metadata": {},
   "outputs": [
    {
     "name": "stdout",
     "output_type": "stream",
     "text": [
      "Book title: Gullivers Reisen\n"
     ]
    }
   ],
   "source": [
    "class Book:\n",
    "    \n",
    "    def __init__(self, title):\n",
    "        self.title = title\n",
    "    \n",
    "    def print_title(self):\n",
    "        print(f\"Book title: {self.title}\")\n",
    "    \n",
    "gulliver = Book(\"Gullivers Reisen\")\n",
    "gulliver.print_title()"
   ]
  },
  {
   "cell_type": "code",
   "execution_count": 21,
   "metadata": {},
   "outputs": [
    {
     "name": "stdout",
     "output_type": "stream",
     "text": [
      "Book title: Gullivers Reisen\n",
      "Status: ausgeliehen\n"
     ]
    }
   ],
   "source": [
    "class Book:\n",
    "    \n",
    "    def __init__(self, title, status):\n",
    "        self.title = title\n",
    "        self.status = status\n",
    "    \n",
    "    def print_title(self):\n",
    "        print(f\"Book title: {self.title}\")\n",
    "        \n",
    "    def print_status(self):\n",
    "        print(f\"Status: {self.status}\")\n",
    "    \n",
    "gulliver = Book(\"Gullivers Reisen\", \"ausgeliehen\")\n",
    "gulliver.print_title()\n",
    "gulliver.print_status()"
   ]
  },
  {
   "cell_type": "code",
   "execution_count": 24,
   "metadata": {},
   "outputs": [
    {
     "name": "stdout",
     "output_type": "stream",
     "text": [
      "Book title: Gullivers Reisen\n",
      "Status: undefined\n"
     ]
    }
   ],
   "source": [
    "class Book:\n",
    "    \n",
    "    def __init__(self, title):\n",
    "        self.title = title\n",
    "        self.status = \"undefined\"\n",
    "    \n",
    "    def print_title(self):\n",
    "        print(f\"Book title: {self.title}\")\n",
    "        \n",
    "    def print_status(self):\n",
    "        print(f\"Status: {self.status}\")\n",
    "        \n",
    "    def set_lent(self):\n",
    "        self.status = \"borrowed\"\n",
    "        \n",
    "    def set_available(self):\n",
    "        self.status = \"available\"\n",
    "    \n",
    "gulliver = Book(\"Gullivers Reisen\")\n",
    "gulliver.print_title()\n",
    "gulliver.print_status()"
   ]
  },
  {
   "cell_type": "code",
   "execution_count": 28,
   "metadata": {},
   "outputs": [
    {
     "name": "stdout",
     "output_type": "stream",
     "text": [
      "Book title: Gullivers Reisen\n",
      "Status: undefined\n",
      "Status: lent\n",
      "Status: available\n"
     ]
    }
   ],
   "source": [
    "class Book:\n",
    "    \n",
    "    def __init__(self, title):\n",
    "        self.title = title\n",
    "        self.status = \"undefined\"\n",
    "    \n",
    "    def print_title(self):\n",
    "        print(f\"Book title: {self.title}\")\n",
    "        \n",
    "    def print_status(self):\n",
    "        print(f\"Status: {self.status}\")\n",
    "        \n",
    "    def set_lent(self):\n",
    "        self.status = \"lent\"\n",
    "        \n",
    "    def set_available(self):\n",
    "        self.status = \"available\"\n",
    "    \n",
    "gulliver = Book(\"Gullivers Reisen\")\n",
    "gulliver.print_title()\n",
    "gulliver.print_status()\n",
    "gulliver.set_lent()\n",
    "gulliver.print_status()\n",
    "gulliver.set_available()\n",
    "gulliver.print_status()"
   ]
  },
  {
   "cell_type": "code",
   "execution_count": 33,
   "metadata": {},
   "outputs": [
    {
     "name": "stdout",
     "output_type": "stream",
     "text": [
      "Book title: Origins of species\n",
      "Status: available\n"
     ]
    }
   ],
   "source": [
    "origins = Book(\"Origins of species\")\n",
    "origins.print_title()\n",
    "origins.set_available()\n",
    "origins.print_status()"
   ]
  },
  {
   "cell_type": "code",
   "execution_count": 35,
   "metadata": {},
   "outputs": [
    {
     "name": "stdout",
     "output_type": "stream",
     "text": [
      "Book title: Blaaaaaa\n"
     ]
    }
   ],
   "source": [
    "origins.title = \"Blaaaaaa\"\n",
    "origins.print_title()"
   ]
  },
  {
   "cell_type": "code",
   "execution_count": 36,
   "metadata": {},
   "outputs": [
    {
     "name": "stdout",
     "output_type": "stream",
     "text": [
      "Book title: Gullivers Reisen\n",
      "Status: undefined\n",
      "Status: lent\n",
      "Status: available\n"
     ]
    }
   ],
   "source": [
    "class Book:\n",
    "    \n",
    "    def __init__(self, title):\n",
    "        self.__title = title\n",
    "        self.__status = \"undefined\"\n",
    "    \n",
    "    def print_title(self):\n",
    "        print(f\"Book title: {self.__title}\")\n",
    "        \n",
    "    def print_status(self):\n",
    "        print(f\"Status: {self.__status}\")\n",
    "        \n",
    "    def set_lent(self):\n",
    "        self.__status = \"lent\"\n",
    "        \n",
    "    def set_available(self):\n",
    "        self.__status = \"available\"\n",
    "    \n",
    "gulliver = Book(\"Gullivers Reisen\")\n",
    "gulliver.print_title()\n",
    "gulliver.print_status()\n",
    "gulliver.set_lent()\n",
    "gulliver.print_status()\n",
    "gulliver.set_available()\n",
    "gulliver.print_status()"
   ]
  },
  {
   "cell_type": "code",
   "execution_count": 37,
   "metadata": {},
   "outputs": [],
   "source": [
    "gulliver.__status = \"blub\""
   ]
  },
  {
   "cell_type": "code",
   "execution_count": 38,
   "metadata": {},
   "outputs": [
    {
     "name": "stdout",
     "output_type": "stream",
     "text": [
      "Status: available\n"
     ]
    }
   ],
   "source": [
    "gulliver.print_status()"
   ]
  },
  {
   "cell_type": "code",
   "execution_count": 39,
   "metadata": {},
   "outputs": [
    {
     "ename": "NameError",
     "evalue": "name 'remove_isbn_prefix' is not defined",
     "output_type": "error",
     "traceback": [
      "\u001b[0;31m---------------------------------------------------------------------------\u001b[0m",
      "\u001b[0;31mNameError\u001b[0m                                 Traceback (most recent call last)",
      "\u001b[0;32m<ipython-input-39-72a04547c783>\u001b[0m in \u001b[0;36m<module>\u001b[0;34m\u001b[0m\n\u001b[1;32m      1\u001b[0m \u001b[0misbn\u001b[0m \u001b[0;34m=\u001b[0m \u001b[0;34m\"XXXXX\"\u001b[0m\u001b[0;34m\u001b[0m\u001b[0;34m\u001b[0m\u001b[0m\n\u001b[0;32m----> 2\u001b[0;31m \u001b[0misbn\u001b[0m \u001b[0;34m=\u001b[0m \u001b[0mremove_isbn_prefix\u001b[0m\u001b[0;34m(\u001b[0m\u001b[0misbn\u001b[0m\u001b[0;34m)\u001b[0m\u001b[0;34m\u001b[0m\u001b[0;34m\u001b[0m\u001b[0m\n\u001b[0m\u001b[1;32m      3\u001b[0m \u001b[0misbn\u001b[0m \u001b[0;34m=\u001b[0m \u001b[0mremove_underscores\u001b[0m\u001b[0;34m(\u001b[0m\u001b[0misbn\u001b[0m\u001b[0;34m)\u001b[0m\u001b[0;34m\u001b[0m\u001b[0;34m\u001b[0m\u001b[0m\n\u001b[1;32m      4\u001b[0m \u001b[0misbn\u001b[0m \u001b[0;34m=\u001b[0m \u001b[0mremove_whits\u001b[0m\u001b[0;34m(\u001b[0m\u001b[0misnb\u001b[0m\u001b[0;34m)\u001b[0m\u001b[0;34m\u001b[0m\u001b[0;34m\u001b[0m\u001b[0m\n\u001b[1;32m      5\u001b[0m \u001b[0mavailabilit\u001b[0m \u001b[0;34m=\u001b[0m \u001b[0mcheck_availabilit\u001b[0m\u001b[0;34m(\u001b[0m\u001b[0misbn\u001b[0m\u001b[0;34m)\u001b[0m\u001b[0;34m\u001b[0m\u001b[0;34m\u001b[0m\u001b[0m\n",
      "\u001b[0;31mNameError\u001b[0m: name 'remove_isbn_prefix' is not defined"
     ]
    }
   ],
   "source": [
    "isbn = \"XXXXX\"\n",
    "isbn = remove_isbn_prefix(isbn)\n",
    "isbn = remove_underscores(isbn)\n",
    "isbn = remove_whits(isnb)\n",
    "availabilit = check_availabilit(isbn)"
   ]
  },
  {
   "cell_type": "code",
   "execution_count": 41,
   "metadata": {},
   "outputs": [
    {
     "name": "stdout",
     "output_type": "stream",
     "text": [
      "Status: available\n"
     ]
    }
   ],
   "source": [
    "gulliver.print_status()"
   ]
  },
  {
   "cell_type": "code",
   "execution_count": null,
   "metadata": {},
   "outputs": [],
   "source": [
    "class Fahrzeug():\n",
    "    anzahl_an_raedern = 0\n",
    "    \n",
    "    def beweg(self):\n",
    "        pass\n",
    "    \n",
    "class Fahrrad(Fahrzeug):\n",
    "    \n",
    "    def nutze_klingel(self):\n",
    "        print(\"ringring\")\n",
    "\n",
    "class Roller(Fahrzeug):\n",
    "    pass"
   ]
  }
 ],
 "metadata": {
  "kernelspec": {
   "display_name": "Python 3",
   "language": "python",
   "name": "python3"
  },
  "language_info": {
   "codemirror_mode": {
    "name": "ipython",
    "version": 3
   },
   "file_extension": ".py",
   "mimetype": "text/x-python",
   "name": "python",
   "nbconvert_exporter": "python",
   "pygments_lexer": "ipython3",
   "version": "3.7.6"
  }
 },
 "nbformat": 4,
 "nbformat_minor": 4
}
