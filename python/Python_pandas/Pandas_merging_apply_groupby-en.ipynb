{
 "cells": [
  {
   "cell_type": "markdown",
   "id": "26eef269-23ed-42fa-a1c2-cb1de8006481",
   "metadata": {},
   "source": [
    "# Working with pandas: merging, apply, and groupby\n",
    "\n",
    "**Description**  \n",
    "This notebook demonstrates how to combine and manipulate tabular data with pandas.  \n",
    "It covers the most commonly used methods for joining DataFrames (`merge`), applying functions to columns (`apply`), and grouping data (`groupby`).  \n",
    "All examples use synthetic data created directly within the notebook for demonstration purposes.\n",
    "\n",
    "**Learning goals**  \n",
    "After completing this notebook, you will be able to:\n",
    "- Merge pandas DataFrames using different join types (`left`, `right`, `inner`, `outer`)  \n",
    "- Apply custom functions to DataFrames or columns using `apply`  \n",
    "- Aggregate and summarize data with `groupby`  \n",
    "- Understand how missing values (`NaN`) are introduced and handled during merging  \n",
    "- Interpret merge results and debug mismatched keys  \n",
    "\n",
    "**Authors**  \n",
    " \n",
    "- Till Sauerwein, ORCID: [https://orcid.org/0000-0001-5830-4208](https://orcid.org/0000-0001-5830-4208)  \n",
    "- Rabea Müller, ORCID: [https://orcid.org/0000-0002-3096-8237](https://orcid.org/0000-0002-3096-8237)  \n",
    "\n",
    "**Affiliation**  \n",
    "Data Science and Services, ZB MED – Information Centre for Life Sciences, Cologne, NRW, Germany  \n",
    "Correspondence: [muellerr@zbmed.de](mailto:muellerr@zbmed.de)\n",
    "\n",
    "**Date**  \n",
    "Created: 2021-05-07  \n",
    "Last updated: 2025-10-23  \n",
    "\n",
    "**Requirements**  \n",
    "- Python ≥ 3.10  \n",
    "- pandas ≥ 2.1   \n",
    "- Jupyter Notebook or JupyterLab environment  \n",
    "\n",
    "**Licence for this notebook**  \n",
    "Creative Commons Attribution 4.0 International (CC BY 4.0)  \n",
    "https://creativecommons.org/licenses/by/4.0/\n"
   ]
  },
  {
   "cell_type": "markdown",
   "id": "dcb15852-9319-4a28-913d-f328a2680b05",
   "metadata": {},
   "source": [
    "# Merging Dataframes\n",
    "\n",
    "We create two DataFrames one containing DOIs and journal names, the other containing DOIs and first author names. Some DOIs appear in both DataFrames, others in only one. We will merge the DataFrames based on the DOI column."
   ]
  },
  {
   "cell_type": "code",
   "execution_count": 1,
   "id": "8896320f-30ac-431b-a2fa-f82ddd82a3f3",
   "metadata": {},
   "outputs": [],
   "source": [
    "import pandas as pd"
   ]
  },
  {
   "cell_type": "code",
   "execution_count": 2,
   "id": "0bae24a6-f560-42f7-b416-ac736301567b",
   "metadata": {},
   "outputs": [],
   "source": [
    "doi_df_journal = pd.DataFrame({\n",
    "    \"DOI\": [\n",
    "        \"10.1371/journal.pcbi.1004668\",\n",
    "        \"10.21105/joss.01035\",\n",
    "        \"10.12688/f1000research.18866.2\",\n",
    "        \"10.1038/s41598-019-52881-4\",\n",
    "        \"10.1186/s12859-019-3171-0\"],\n",
    "    \"journal\": [\n",
    "        \"PLoS Comput Biol\",\n",
    "        \"JOSS\",\n",
    "        \"F1000Res\",\n",
    "        \"Sci Rep\",\n",
    "        \"BMC Bioinformatics\"]})\n",
    "\n",
    "doi_df_first_author = pd.DataFrame({\n",
    "    \"DOI\": [\n",
    "        \"10.1371/journal.pcbi.1004668\",\n",
    "        \"10.21105/joss.01035\",\n",
    "        \"10.21105/joss.01006\",\n",
    "        \"10.12688/f1000research.18866.2\",\n",
    "        \"10.1186/s12859-019-3171-0\"],\n",
    "    \"first_author\": [\n",
    "        \"Blischak\",\n",
    "        \"Sparks\",\n",
    "        \"Granger\",\n",
    "        \"Thang\",\n",
    "        \"Chen\"]})"
   ]
  },
  {
   "cell_type": "code",
   "execution_count": 3,
   "id": "a2652909-9b2a-4d73-bb9c-b3f0fc600923",
   "metadata": {},
   "outputs": [
    {
     "data": {
      "text/html": [
       "<div>\n",
       "<style scoped>\n",
       "    .dataframe tbody tr th:only-of-type {\n",
       "        vertical-align: middle;\n",
       "    }\n",
       "\n",
       "    .dataframe tbody tr th {\n",
       "        vertical-align: top;\n",
       "    }\n",
       "\n",
       "    .dataframe thead th {\n",
       "        text-align: right;\n",
       "    }\n",
       "</style>\n",
       "<table border=\"1\" class=\"dataframe\">\n",
       "  <thead>\n",
       "    <tr style=\"text-align: right;\">\n",
       "      <th></th>\n",
       "      <th>DOI</th>\n",
       "      <th>first_author</th>\n",
       "    </tr>\n",
       "  </thead>\n",
       "  <tbody>\n",
       "    <tr>\n",
       "      <th>0</th>\n",
       "      <td>10.1371/journal.pcbi.1004668</td>\n",
       "      <td>Blischak</td>\n",
       "    </tr>\n",
       "    <tr>\n",
       "      <th>1</th>\n",
       "      <td>10.21105/joss.01035</td>\n",
       "      <td>Sparks</td>\n",
       "    </tr>\n",
       "    <tr>\n",
       "      <th>2</th>\n",
       "      <td>10.21105/joss.01006</td>\n",
       "      <td>Granger</td>\n",
       "    </tr>\n",
       "    <tr>\n",
       "      <th>3</th>\n",
       "      <td>10.12688/f1000research.18866.2</td>\n",
       "      <td>Thang</td>\n",
       "    </tr>\n",
       "    <tr>\n",
       "      <th>4</th>\n",
       "      <td>10.1186/s12859-019-3171-0</td>\n",
       "      <td>Chen</td>\n",
       "    </tr>\n",
       "  </tbody>\n",
       "</table>\n",
       "</div>"
      ],
      "text/plain": [
       "                              DOI first_author\n",
       "0    10.1371/journal.pcbi.1004668     Blischak\n",
       "1             10.21105/joss.01035       Sparks\n",
       "2             10.21105/joss.01006      Granger\n",
       "3  10.12688/f1000research.18866.2        Thang\n",
       "4       10.1186/s12859-019-3171-0         Chen"
      ]
     },
     "execution_count": 3,
     "metadata": {},
     "output_type": "execute_result"
    }
   ],
   "source": [
    "doi_df_first_author"
   ]
  },
  {
   "cell_type": "code",
   "execution_count": 4,
   "id": "fa054178-8730-44f2-909b-5fa28323ddb7",
   "metadata": {},
   "outputs": [
    {
     "data": {
      "text/html": [
       "<div>\n",
       "<style scoped>\n",
       "    .dataframe tbody tr th:only-of-type {\n",
       "        vertical-align: middle;\n",
       "    }\n",
       "\n",
       "    .dataframe tbody tr th {\n",
       "        vertical-align: top;\n",
       "    }\n",
       "\n",
       "    .dataframe thead th {\n",
       "        text-align: right;\n",
       "    }\n",
       "</style>\n",
       "<table border=\"1\" class=\"dataframe\">\n",
       "  <thead>\n",
       "    <tr style=\"text-align: right;\">\n",
       "      <th></th>\n",
       "      <th>DOI</th>\n",
       "      <th>journal</th>\n",
       "    </tr>\n",
       "  </thead>\n",
       "  <tbody>\n",
       "    <tr>\n",
       "      <th>0</th>\n",
       "      <td>10.1371/journal.pcbi.1004668</td>\n",
       "      <td>PLoS Comput Biol</td>\n",
       "    </tr>\n",
       "    <tr>\n",
       "      <th>1</th>\n",
       "      <td>10.21105/joss.01035</td>\n",
       "      <td>JOSS</td>\n",
       "    </tr>\n",
       "    <tr>\n",
       "      <th>2</th>\n",
       "      <td>10.12688/f1000research.18866.2</td>\n",
       "      <td>F1000Res</td>\n",
       "    </tr>\n",
       "    <tr>\n",
       "      <th>3</th>\n",
       "      <td>10.1038/s41598-019-52881-4</td>\n",
       "      <td>Sci Rep</td>\n",
       "    </tr>\n",
       "    <tr>\n",
       "      <th>4</th>\n",
       "      <td>10.1186/s12859-019-3171-0</td>\n",
       "      <td>BMC Bioinformatics</td>\n",
       "    </tr>\n",
       "  </tbody>\n",
       "</table>\n",
       "</div>"
      ],
      "text/plain": [
       "                              DOI             journal\n",
       "0    10.1371/journal.pcbi.1004668    PLoS Comput Biol\n",
       "1             10.21105/joss.01035                JOSS\n",
       "2  10.12688/f1000research.18866.2            F1000Res\n",
       "3      10.1038/s41598-019-52881-4             Sci Rep\n",
       "4       10.1186/s12859-019-3171-0  BMC Bioinformatics"
      ]
     },
     "execution_count": 4,
     "metadata": {},
     "output_type": "execute_result"
    }
   ],
   "source": [
    "doi_df_journal"
   ]
  },
  {
   "cell_type": "markdown",
   "id": "bf4bfbc7-43f7-4029-8396-e353023ae4ff",
   "metadata": {},
   "source": [
    "### Left merge\n",
    "Includes all DOIs that appear in the left (first) DataFrame. If a DOI is missing from the right DataFrame, its corresponding columns will contain `NaN` values."
   ]
  },
  {
   "cell_type": "code",
   "execution_count": 5,
   "id": "2e174f54-c827-4e08-a561-eb097cde66b5",
   "metadata": {},
   "outputs": [
    {
     "data": {
      "text/html": [
       "<div>\n",
       "<style scoped>\n",
       "    .dataframe tbody tr th:only-of-type {\n",
       "        vertical-align: middle;\n",
       "    }\n",
       "\n",
       "    .dataframe tbody tr th {\n",
       "        vertical-align: top;\n",
       "    }\n",
       "\n",
       "    .dataframe thead th {\n",
       "        text-align: right;\n",
       "    }\n",
       "</style>\n",
       "<table border=\"1\" class=\"dataframe\">\n",
       "  <thead>\n",
       "    <tr style=\"text-align: right;\">\n",
       "      <th></th>\n",
       "      <th>DOI</th>\n",
       "      <th>first_author</th>\n",
       "      <th>journal</th>\n",
       "    </tr>\n",
       "  </thead>\n",
       "  <tbody>\n",
       "    <tr>\n",
       "      <th>0</th>\n",
       "      <td>10.1371/journal.pcbi.1004668</td>\n",
       "      <td>Blischak</td>\n",
       "      <td>PLoS Comput Biol</td>\n",
       "    </tr>\n",
       "    <tr>\n",
       "      <th>1</th>\n",
       "      <td>10.21105/joss.01035</td>\n",
       "      <td>Sparks</td>\n",
       "      <td>JOSS</td>\n",
       "    </tr>\n",
       "    <tr>\n",
       "      <th>2</th>\n",
       "      <td>10.21105/joss.01006</td>\n",
       "      <td>Granger</td>\n",
       "      <td>NaN</td>\n",
       "    </tr>\n",
       "    <tr>\n",
       "      <th>3</th>\n",
       "      <td>10.12688/f1000research.18866.2</td>\n",
       "      <td>Thang</td>\n",
       "      <td>F1000Res</td>\n",
       "    </tr>\n",
       "    <tr>\n",
       "      <th>4</th>\n",
       "      <td>10.1186/s12859-019-3171-0</td>\n",
       "      <td>Chen</td>\n",
       "      <td>BMC Bioinformatics</td>\n",
       "    </tr>\n",
       "  </tbody>\n",
       "</table>\n",
       "</div>"
      ],
      "text/plain": [
       "                              DOI first_author             journal\n",
       "0    10.1371/journal.pcbi.1004668     Blischak    PLoS Comput Biol\n",
       "1             10.21105/joss.01035       Sparks                JOSS\n",
       "2             10.21105/joss.01006      Granger                 NaN\n",
       "3  10.12688/f1000research.18866.2        Thang            F1000Res\n",
       "4       10.1186/s12859-019-3171-0         Chen  BMC Bioinformatics"
      ]
     },
     "execution_count": 5,
     "metadata": {},
     "output_type": "execute_result"
    }
   ],
   "source": [
    "doi_df_first_author.merge(doi_df_journal, on=\"DOI\", how=\"left\")"
   ]
  },
  {
   "cell_type": "markdown",
   "id": "6d20b4e3-a38a-450b-8ab0-1349cf45937b",
   "metadata": {},
   "source": [
    "In this case, the journal column shows `NaN` for Granger, and the journal *Sci Rep* is not displayed, since its DOI appears only in the right DataFrame."
   ]
  },
  {
   "cell_type": "markdown",
   "id": "28862079-cb13-4567-a849-4067cfc89147",
   "metadata": {},
   "source": [
    "### Right merge\n",
    "All DOIs located in the right-hand or second data frame are listed.\n",
    "\n",
    "If the left-hand or first data frame does not contain the DOI of the right-hand data frame, `NaN` is inserted in the columns of the left-hand data frame instead of a value."
   ]
  },
  {
   "cell_type": "code",
   "execution_count": 6,
   "id": "95301752-c6cf-460c-8da4-05fe0dc0cf81",
   "metadata": {},
   "outputs": [
    {
     "data": {
      "text/html": [
       "<div>\n",
       "<style scoped>\n",
       "    .dataframe tbody tr th:only-of-type {\n",
       "        vertical-align: middle;\n",
       "    }\n",
       "\n",
       "    .dataframe tbody tr th {\n",
       "        vertical-align: top;\n",
       "    }\n",
       "\n",
       "    .dataframe thead th {\n",
       "        text-align: right;\n",
       "    }\n",
       "</style>\n",
       "<table border=\"1\" class=\"dataframe\">\n",
       "  <thead>\n",
       "    <tr style=\"text-align: right;\">\n",
       "      <th></th>\n",
       "      <th>DOI</th>\n",
       "      <th>first_author</th>\n",
       "      <th>journal</th>\n",
       "    </tr>\n",
       "  </thead>\n",
       "  <tbody>\n",
       "    <tr>\n",
       "      <th>0</th>\n",
       "      <td>10.1371/journal.pcbi.1004668</td>\n",
       "      <td>Blischak</td>\n",
       "      <td>PLoS Comput Biol</td>\n",
       "    </tr>\n",
       "    <tr>\n",
       "      <th>1</th>\n",
       "      <td>10.21105/joss.01035</td>\n",
       "      <td>Sparks</td>\n",
       "      <td>JOSS</td>\n",
       "    </tr>\n",
       "    <tr>\n",
       "      <th>2</th>\n",
       "      <td>10.12688/f1000research.18866.2</td>\n",
       "      <td>Thang</td>\n",
       "      <td>F1000Res</td>\n",
       "    </tr>\n",
       "    <tr>\n",
       "      <th>3</th>\n",
       "      <td>10.1038/s41598-019-52881-4</td>\n",
       "      <td>NaN</td>\n",
       "      <td>Sci Rep</td>\n",
       "    </tr>\n",
       "    <tr>\n",
       "      <th>4</th>\n",
       "      <td>10.1186/s12859-019-3171-0</td>\n",
       "      <td>Chen</td>\n",
       "      <td>BMC Bioinformatics</td>\n",
       "    </tr>\n",
       "  </tbody>\n",
       "</table>\n",
       "</div>"
      ],
      "text/plain": [
       "                              DOI first_author             journal\n",
       "0    10.1371/journal.pcbi.1004668     Blischak    PLoS Comput Biol\n",
       "1             10.21105/joss.01035       Sparks                JOSS\n",
       "2  10.12688/f1000research.18866.2        Thang            F1000Res\n",
       "3      10.1038/s41598-019-52881-4          NaN             Sci Rep\n",
       "4       10.1186/s12859-019-3171-0         Chen  BMC Bioinformatics"
      ]
     },
     "execution_count": 6,
     "metadata": {},
     "output_type": "execute_result"
    }
   ],
   "source": [
    "doi_df_first_author.merge(doi_df_journal, on=\"DOI\", how=\"right\")"
   ]
  },
  {
   "cell_type": "markdown",
   "id": "8d44c1c4-2db1-49a6-b9e2-48324aa01915",
   "metadata": {},
   "source": [
    "Now we see a `NaN` for the first author for the journal *Sci Rep*, and Granger is no longer displayed because it does not appear in the second DataFrame."
   ]
  },
  {
   "cell_type": "markdown",
   "id": "6523e549-be53-44de-8a9a-e7e39cb10361",
   "metadata": {},
   "source": [
    "### Inner merge\n",
    "Only entries that appear in both original DataFrames (matching DOIs) are included in the new DataFrame."
   ]
  },
  {
   "cell_type": "code",
   "execution_count": 7,
   "id": "885db863-1608-4fde-96a5-a09c7856b946",
   "metadata": {},
   "outputs": [
    {
     "data": {
      "text/html": [
       "<div>\n",
       "<style scoped>\n",
       "    .dataframe tbody tr th:only-of-type {\n",
       "        vertical-align: middle;\n",
       "    }\n",
       "\n",
       "    .dataframe tbody tr th {\n",
       "        vertical-align: top;\n",
       "    }\n",
       "\n",
       "    .dataframe thead th {\n",
       "        text-align: right;\n",
       "    }\n",
       "</style>\n",
       "<table border=\"1\" class=\"dataframe\">\n",
       "  <thead>\n",
       "    <tr style=\"text-align: right;\">\n",
       "      <th></th>\n",
       "      <th>DOI</th>\n",
       "      <th>first_author</th>\n",
       "      <th>journal</th>\n",
       "    </tr>\n",
       "  </thead>\n",
       "  <tbody>\n",
       "    <tr>\n",
       "      <th>0</th>\n",
       "      <td>10.1371/journal.pcbi.1004668</td>\n",
       "      <td>Blischak</td>\n",
       "      <td>PLoS Comput Biol</td>\n",
       "    </tr>\n",
       "    <tr>\n",
       "      <th>1</th>\n",
       "      <td>10.21105/joss.01035</td>\n",
       "      <td>Sparks</td>\n",
       "      <td>JOSS</td>\n",
       "    </tr>\n",
       "    <tr>\n",
       "      <th>2</th>\n",
       "      <td>10.12688/f1000research.18866.2</td>\n",
       "      <td>Thang</td>\n",
       "      <td>F1000Res</td>\n",
       "    </tr>\n",
       "    <tr>\n",
       "      <th>3</th>\n",
       "      <td>10.1186/s12859-019-3171-0</td>\n",
       "      <td>Chen</td>\n",
       "      <td>BMC Bioinformatics</td>\n",
       "    </tr>\n",
       "  </tbody>\n",
       "</table>\n",
       "</div>"
      ],
      "text/plain": [
       "                              DOI first_author             journal\n",
       "0    10.1371/journal.pcbi.1004668     Blischak    PLoS Comput Biol\n",
       "1             10.21105/joss.01035       Sparks                JOSS\n",
       "2  10.12688/f1000research.18866.2        Thang            F1000Res\n",
       "3       10.1186/s12859-019-3171-0         Chen  BMC Bioinformatics"
      ]
     },
     "execution_count": 7,
     "metadata": {},
     "output_type": "execute_result"
    }
   ],
   "source": [
    "doi_df_first_author.merge(doi_df_journal, on=\"DOI\", how=\"inner\")"
   ]
  },
  {
   "cell_type": "markdown",
   "id": "eb505266-4ead-470d-be77-c68fbb710e6a",
   "metadata": {},
   "source": [
    "`Granger` and `Sci Rep` are excluded."
   ]
  },
  {
   "cell_type": "markdown",
   "id": "e7680391-2ba9-42fa-bbbb-b24f955f05b8",
   "metadata": {},
   "source": [
    "### Outer merge\n",
    "All DOIs from both DataFrames are included. Missing values are filled with `NaN`."
   ]
  },
  {
   "cell_type": "code",
   "execution_count": 8,
   "id": "d61bfae9-a4e6-4dc9-86e9-49990b88b77f",
   "metadata": {},
   "outputs": [
    {
     "data": {
      "text/html": [
       "<div>\n",
       "<style scoped>\n",
       "    .dataframe tbody tr th:only-of-type {\n",
       "        vertical-align: middle;\n",
       "    }\n",
       "\n",
       "    .dataframe tbody tr th {\n",
       "        vertical-align: top;\n",
       "    }\n",
       "\n",
       "    .dataframe thead th {\n",
       "        text-align: right;\n",
       "    }\n",
       "</style>\n",
       "<table border=\"1\" class=\"dataframe\">\n",
       "  <thead>\n",
       "    <tr style=\"text-align: right;\">\n",
       "      <th></th>\n",
       "      <th>DOI</th>\n",
       "      <th>first_author</th>\n",
       "      <th>journal</th>\n",
       "    </tr>\n",
       "  </thead>\n",
       "  <tbody>\n",
       "    <tr>\n",
       "      <th>0</th>\n",
       "      <td>10.1371/journal.pcbi.1004668</td>\n",
       "      <td>Blischak</td>\n",
       "      <td>PLoS Comput Biol</td>\n",
       "    </tr>\n",
       "    <tr>\n",
       "      <th>1</th>\n",
       "      <td>10.21105/joss.01035</td>\n",
       "      <td>Sparks</td>\n",
       "      <td>JOSS</td>\n",
       "    </tr>\n",
       "    <tr>\n",
       "      <th>2</th>\n",
       "      <td>10.21105/joss.01006</td>\n",
       "      <td>Granger</td>\n",
       "      <td>NaN</td>\n",
       "    </tr>\n",
       "    <tr>\n",
       "      <th>3</th>\n",
       "      <td>10.12688/f1000research.18866.2</td>\n",
       "      <td>Thang</td>\n",
       "      <td>F1000Res</td>\n",
       "    </tr>\n",
       "    <tr>\n",
       "      <th>4</th>\n",
       "      <td>10.1186/s12859-019-3171-0</td>\n",
       "      <td>Chen</td>\n",
       "      <td>BMC Bioinformatics</td>\n",
       "    </tr>\n",
       "    <tr>\n",
       "      <th>5</th>\n",
       "      <td>10.1038/s41598-019-52881-4</td>\n",
       "      <td>NaN</td>\n",
       "      <td>Sci Rep</td>\n",
       "    </tr>\n",
       "  </tbody>\n",
       "</table>\n",
       "</div>"
      ],
      "text/plain": [
       "                              DOI first_author             journal\n",
       "0    10.1371/journal.pcbi.1004668     Blischak    PLoS Comput Biol\n",
       "1             10.21105/joss.01035       Sparks                JOSS\n",
       "2             10.21105/joss.01006      Granger                 NaN\n",
       "3  10.12688/f1000research.18866.2        Thang            F1000Res\n",
       "4       10.1186/s12859-019-3171-0         Chen  BMC Bioinformatics\n",
       "5      10.1038/s41598-019-52881-4          NaN             Sci Rep"
      ]
     },
     "execution_count": 8,
     "metadata": {},
     "output_type": "execute_result"
    }
   ],
   "source": [
    "doi_df_first_author.merge(doi_df_journal, on=\"DOI\", how=\"outer\")"
   ]
  },
  {
   "cell_type": "markdown",
   "id": "429dd55e-dd9a-4309-8165-26dbcb1e7a79",
   "metadata": {},
   "source": [
    "## Apply\n",
    "A function is applied to the entire DataFrame or a single column.\n",
    "\n",
    "We create a DataFrame with inconsistent author names."
   ]
  },
  {
   "cell_type": "code",
   "execution_count": 9,
   "id": "956768ec-c93d-4534-8da9-37cfba9d75d3",
   "metadata": {},
   "outputs": [],
   "source": [
    "doi_df_first_author_2 = pd.DataFrame({\n",
    "    \"DOIs\": [\n",
    "        \"10.1371/journal.pcbi.1004668\",\n",
    "        \"10.21105/joss.01035\",\n",
    "        \"10.21105/joss.01006\",\n",
    "        \"10.12688/f1000research.18866.2\",\n",
    "        \"10.1186/s12859-019-3171-0\"],\n",
    "    \"first_author\": [\n",
    "        \"Blischak J.\",\n",
    "        \"Sparks Adam H.\",\n",
    "        \"Granger Nicolas\",\n",
    "        \"Thang\",\n",
    "        \"Chen Danze\"]})"
   ]
  },
  {
   "cell_type": "code",
   "execution_count": 10,
   "id": "7db81f08-57d5-4437-9e36-941ac7541271",
   "metadata": {},
   "outputs": [
    {
     "data": {
      "text/html": [
       "<div>\n",
       "<style scoped>\n",
       "    .dataframe tbody tr th:only-of-type {\n",
       "        vertical-align: middle;\n",
       "    }\n",
       "\n",
       "    .dataframe tbody tr th {\n",
       "        vertical-align: top;\n",
       "    }\n",
       "\n",
       "    .dataframe thead th {\n",
       "        text-align: right;\n",
       "    }\n",
       "</style>\n",
       "<table border=\"1\" class=\"dataframe\">\n",
       "  <thead>\n",
       "    <tr style=\"text-align: right;\">\n",
       "      <th></th>\n",
       "      <th>DOIs</th>\n",
       "      <th>first_author</th>\n",
       "    </tr>\n",
       "  </thead>\n",
       "  <tbody>\n",
       "    <tr>\n",
       "      <th>0</th>\n",
       "      <td>10.1371/journal.pcbi.1004668</td>\n",
       "      <td>Blischak J.</td>\n",
       "    </tr>\n",
       "    <tr>\n",
       "      <th>1</th>\n",
       "      <td>10.21105/joss.01035</td>\n",
       "      <td>Sparks Adam H.</td>\n",
       "    </tr>\n",
       "    <tr>\n",
       "      <th>2</th>\n",
       "      <td>10.21105/joss.01006</td>\n",
       "      <td>Granger Nicolas</td>\n",
       "    </tr>\n",
       "    <tr>\n",
       "      <th>3</th>\n",
       "      <td>10.12688/f1000research.18866.2</td>\n",
       "      <td>Thang</td>\n",
       "    </tr>\n",
       "    <tr>\n",
       "      <th>4</th>\n",
       "      <td>10.1186/s12859-019-3171-0</td>\n",
       "      <td>Chen Danze</td>\n",
       "    </tr>\n",
       "  </tbody>\n",
       "</table>\n",
       "</div>"
      ],
      "text/plain": [
       "                             DOIs     first_author\n",
       "0    10.1371/journal.pcbi.1004668      Blischak J.\n",
       "1             10.21105/joss.01035   Sparks Adam H.\n",
       "2             10.21105/joss.01006  Granger Nicolas\n",
       "3  10.12688/f1000research.18866.2            Thang\n",
       "4       10.1186/s12859-019-3171-0       Chen Danze"
      ]
     },
     "execution_count": 10,
     "metadata": {},
     "output_type": "execute_result"
    }
   ],
   "source": [
    "doi_df_first_author_2"
   ]
  },
  {
   "cell_type": "markdown",
   "id": "d962d143-0028-4180-8e8b-b91c662060aa",
   "metadata": {},
   "source": [
    "## The split function (method)"
   ]
  },
  {
   "cell_type": "code",
   "execution_count": 11,
   "id": "e7123d1e-7229-43cd-99d0-e012b6817ce4",
   "metadata": {},
   "outputs": [
    {
     "data": {
      "text/plain": [
       "['Rosalind', 'Franklin']"
      ]
     },
     "execution_count": 11,
     "metadata": {},
     "output_type": "execute_result"
    }
   ],
   "source": [
    "# With split, we can separate a contiguous string at a specific point and convert it into a list.\n",
    "\"Rosalind Franklin\".split(\" \")"
   ]
  },
  {
   "cell_type": "code",
   "execution_count": 12,
   "id": "7cc69411-0d3f-4a46-8392-940980f2395e",
   "metadata": {},
   "outputs": [
    {
     "data": {
      "text/plain": [
       "'Rosalind'"
      ]
     },
     "execution_count": 12,
     "metadata": {},
     "output_type": "execute_result"
    }
   ],
   "source": [
    "# We can then address a position from this list. \n",
    "\"Rosalind Franklin\".split(\" \")[0]"
   ]
  },
  {
   "cell_type": "markdown",
   "id": "a4ef7164-7435-438a-84fd-aaeefdcc9abe",
   "metadata": {},
   "source": [
    "### The “split” function is applied to a column.\n",
    "First, let's separate the authors' first names from their surnames."
   ]
  },
  {
   "cell_type": "code",
   "execution_count": 13,
   "id": "16f95944-00a2-4eb7-a4be-86a82f83c39e",
   "metadata": {},
   "outputs": [
    {
     "data": {
      "text/plain": [
       "0    Blischak\n",
       "1      Sparks\n",
       "2     Granger\n",
       "3       Thang\n",
       "4        Chen\n",
       "Name: first_author, dtype: object"
      ]
     },
     "execution_count": 13,
     "metadata": {},
     "output_type": "execute_result"
    }
   ],
   "source": [
    "doi_df_first_author_2[\"first_author\"].apply(lambda author: author.split(\" \")[0])"
   ]
  },
  {
   "cell_type": "markdown",
   "id": "a65d8c6d-93e4-4400-98eb-0023fba56880",
   "metadata": {},
   "source": [
    ".apply(lambda author: author.split(‘ ’)[0]): This part of the expression applies the apply function to the selected column. The apply function allows you to apply a function to each row or element in the selected column.\n",
    "\n",
    "lambda author: author.split(‘ ’)[0]: Here, an anonymous function (lambda function) is defined that is applied to each element (in this case, the author name) in the ‘first_author’ column. This function splits the author name at the space (at the spaces) and returns the first element of the resulting split list, which represents the author's first name.\n",
    "\n",
    "The split(‘ ’)[0] part splits the name into words (using the space) and returns the first word (the first name)."
   ]
  },
  {
   "cell_type": "markdown",
   "id": "a436b36e-5e76-4b79-9f15-460d9f33ad9d",
   "metadata": {},
   "source": [
    "### The result (the surname) is assigned to a column.\n",
    "To store the result in a new column, we can define it as a column and assign it a value using the function."
   ]
  },
  {
   "cell_type": "code",
   "execution_count": 14,
   "id": "32a6d506-bbd2-41f2-9372-1a7632668140",
   "metadata": {},
   "outputs": [],
   "source": [
    "doi_df_first_author_2[\"last_name\"] = doi_df_first_author_2[\"first_author\"].apply(lambda author: author.split(\" \")[0])"
   ]
  },
  {
   "cell_type": "code",
   "execution_count": 15,
   "id": "7aaf4ee9-ea84-418a-93b6-876e2b14bf6c",
   "metadata": {},
   "outputs": [
    {
     "data": {
      "text/html": [
       "<div>\n",
       "<style scoped>\n",
       "    .dataframe tbody tr th:only-of-type {\n",
       "        vertical-align: middle;\n",
       "    }\n",
       "\n",
       "    .dataframe tbody tr th {\n",
       "        vertical-align: top;\n",
       "    }\n",
       "\n",
       "    .dataframe thead th {\n",
       "        text-align: right;\n",
       "    }\n",
       "</style>\n",
       "<table border=\"1\" class=\"dataframe\">\n",
       "  <thead>\n",
       "    <tr style=\"text-align: right;\">\n",
       "      <th></th>\n",
       "      <th>DOIs</th>\n",
       "      <th>first_author</th>\n",
       "      <th>last_name</th>\n",
       "    </tr>\n",
       "  </thead>\n",
       "  <tbody>\n",
       "    <tr>\n",
       "      <th>0</th>\n",
       "      <td>10.1371/journal.pcbi.1004668</td>\n",
       "      <td>Blischak J.</td>\n",
       "      <td>Blischak</td>\n",
       "    </tr>\n",
       "    <tr>\n",
       "      <th>1</th>\n",
       "      <td>10.21105/joss.01035</td>\n",
       "      <td>Sparks Adam H.</td>\n",
       "      <td>Sparks</td>\n",
       "    </tr>\n",
       "    <tr>\n",
       "      <th>2</th>\n",
       "      <td>10.21105/joss.01006</td>\n",
       "      <td>Granger Nicolas</td>\n",
       "      <td>Granger</td>\n",
       "    </tr>\n",
       "    <tr>\n",
       "      <th>3</th>\n",
       "      <td>10.12688/f1000research.18866.2</td>\n",
       "      <td>Thang</td>\n",
       "      <td>Thang</td>\n",
       "    </tr>\n",
       "    <tr>\n",
       "      <th>4</th>\n",
       "      <td>10.1186/s12859-019-3171-0</td>\n",
       "      <td>Chen Danze</td>\n",
       "      <td>Chen</td>\n",
       "    </tr>\n",
       "  </tbody>\n",
       "</table>\n",
       "</div>"
      ],
      "text/plain": [
       "                             DOIs     first_author last_name\n",
       "0    10.1371/journal.pcbi.1004668      Blischak J.  Blischak\n",
       "1             10.21105/joss.01035   Sparks Adam H.    Sparks\n",
       "2             10.21105/joss.01006  Granger Nicolas   Granger\n",
       "3  10.12688/f1000research.18866.2            Thang     Thang\n",
       "4       10.1186/s12859-019-3171-0       Chen Danze      Chen"
      ]
     },
     "execution_count": 15,
     "metadata": {},
     "output_type": "execute_result"
    }
   ],
   "source": [
    "doi_df_first_author_2"
   ]
  },
  {
   "cell_type": "markdown",
   "id": "8840cf73-39af-4cff-b538-ab5d336406e7",
   "metadata": {},
   "source": [
    "The surnames are now stored in a new column, but are still in the first_author column. Now we want to filter out the first names by addressing the second position."
   ]
  },
  {
   "cell_type": "code",
   "execution_count": 16,
   "id": "d422a7c7-fb5d-4671-a3a4-b122ad2dd054",
   "metadata": {},
   "outputs": [
    {
     "data": {
      "text/plain": [
       "0          [J.]\n",
       "1    [Adam, H.]\n",
       "2     [Nicolas]\n",
       "3            []\n",
       "4       [Danze]\n",
       "Name: first_author, dtype: object"
      ]
     },
     "execution_count": 16,
     "metadata": {},
     "output_type": "execute_result"
    }
   ],
   "source": [
    "doi_df_first_author_2[\"first_author\"].apply(lambda author: author.split(\" \")[1:])"
   ]
  },
  {
   "cell_type": "markdown",
   "id": "3189c0a7-c248-4747-a76e-74104baa4bfe",
   "metadata": {},
   "source": [
    "Our goal is to display the first names so that the initial of the first name is output and written in a new column. This means we first have to clean up the first names using a function, as they are currently different."
   ]
  },
  {
   "cell_type": "code",
   "execution_count": 17,
   "id": "03a86862-97d7-49ab-85b7-2005523083c5",
   "metadata": {},
   "outputs": [],
   "source": [
    "def first_name_initial(full_name):\n",
    "    return full_name.split(\" \")[1:]"
   ]
  },
  {
   "cell_type": "markdown",
   "id": "0bff1c08-d7a4-4f3d-8f3c-98725a287f53",
   "metadata": {},
   "source": [
    "The function is then passed to apply."
   ]
  },
  {
   "cell_type": "code",
   "execution_count": 18,
   "id": "790136ec-e47f-42c9-9afc-3db3a381c806",
   "metadata": {},
   "outputs": [
    {
     "data": {
      "text/plain": [
       "0          [J.]\n",
       "1    [Adam, H.]\n",
       "2     [Nicolas]\n",
       "3            []\n",
       "4       [Danze]\n",
       "Name: first_author, dtype: object"
      ]
     },
     "execution_count": 18,
     "metadata": {},
     "output_type": "execute_result"
    }
   ],
   "source": [
    "doi_df_first_author_2[\"first_author\"].apply(first_name_initial)"
   ]
  },
  {
   "cell_type": "markdown",
   "id": "43bfa0cd-d0f0-4da6-a0f6-e5620306dc16",
   "metadata": {},
   "source": [
    "The function can now separate the surname. Now we extend the function so that we only get back the initial of the first first name. If no first name exists, a NaN is returned."
   ]
  },
  {
   "cell_type": "code",
   "execution_count": 19,
   "id": "99feeb1c-0848-43bf-a565-c7cfe62e16f7",
   "metadata": {},
   "outputs": [],
   "source": [
    "first_name = \"Sparks Adam, H.\".split(\" \")[1:]   "
   ]
  },
  {
   "cell_type": "code",
   "execution_count": 20,
   "id": "a95eb76a-94a1-4617-a558-795ad52caac7",
   "metadata": {},
   "outputs": [
    {
     "data": {
      "text/plain": [
       "'Adam,'"
      ]
     },
     "execution_count": 20,
     "metadata": {},
     "output_type": "execute_result"
    }
   ],
   "source": [
    "first_name[0]"
   ]
  },
  {
   "cell_type": "code",
   "execution_count": 21,
   "id": "dc2ba717-6709-4dbe-8e11-87de85e5698e",
   "metadata": {},
   "outputs": [
    {
     "data": {
      "text/plain": [
       "'A'"
      ]
     },
     "execution_count": 21,
     "metadata": {},
     "output_type": "execute_result"
    }
   ],
   "source": [
    "first_name[0][0]"
   ]
  },
  {
   "cell_type": "code",
   "execution_count": 22,
   "id": "4da3c8eb-e005-4bab-93da-fdddf1416261",
   "metadata": {},
   "outputs": [
    {
     "data": {
      "text/plain": [
       "'A.'"
      ]
     },
     "execution_count": 22,
     "metadata": {},
     "output_type": "execute_result"
    }
   ],
   "source": [
    "first_name[0][0] + \".\""
   ]
  },
  {
   "cell_type": "code",
   "execution_count": 24,
   "id": "26329bd0-96d2-44e4-a23d-b725250568ae",
   "metadata": {},
   "outputs": [],
   "source": [
    "def first_name_initial(full_name):\n",
    "    # Split the full name into parts\n",
    "    parts = full_name.split(' ')\n",
    "    \n",
    "    # If the name has at least two parts (first and last name)\n",
    "    if len(parts) > 1:\n",
    "        # Take the first letter of the first name and add a dot\n",
    "        return parts[0][0] + '.'\n",
    "    else:\n",
    "        # If no first name could be extracted, return 'NaN'\n",
    "        return 'NaN'\n"
   ]
  },
  {
   "cell_type": "code",
   "execution_count": 25,
   "id": "4b817db0-671b-4446-b5a8-58f63d2f2bb8",
   "metadata": {},
   "outputs": [
    {
     "data": {
      "text/plain": [
       "0     B.\n",
       "1     S.\n",
       "2     G.\n",
       "3    NaN\n",
       "4     C.\n",
       "Name: first_author, dtype: object"
      ]
     },
     "execution_count": 25,
     "metadata": {},
     "output_type": "execute_result"
    }
   ],
   "source": [
    "### The function is passed to apply again\n",
    "doi_df_first_author_2[\"first_author\"].apply(first_name_initial)"
   ]
  },
  {
   "cell_type": "markdown",
   "id": "8f567e81-7002-4595-84f6-3f23b6994209",
   "metadata": {},
   "source": [
    "### The initial is stored in a new column."
   ]
  },
  {
   "cell_type": "code",
   "execution_count": 26,
   "id": "740df5d9-9b7e-44fd-863d-885a49e42b2e",
   "metadata": {},
   "outputs": [],
   "source": [
    "doi_df_first_author_2[\"first_name\"] = doi_df_first_author_2[\"first_author\"].apply(first_name_initial)"
   ]
  },
  {
   "cell_type": "code",
   "execution_count": 27,
   "id": "48050628-736a-4e1b-b3bb-3d82b6d51189",
   "metadata": {},
   "outputs": [
    {
     "data": {
      "text/html": [
       "<div>\n",
       "<style scoped>\n",
       "    .dataframe tbody tr th:only-of-type {\n",
       "        vertical-align: middle;\n",
       "    }\n",
       "\n",
       "    .dataframe tbody tr th {\n",
       "        vertical-align: top;\n",
       "    }\n",
       "\n",
       "    .dataframe thead th {\n",
       "        text-align: right;\n",
       "    }\n",
       "</style>\n",
       "<table border=\"1\" class=\"dataframe\">\n",
       "  <thead>\n",
       "    <tr style=\"text-align: right;\">\n",
       "      <th></th>\n",
       "      <th>DOIs</th>\n",
       "      <th>first_author</th>\n",
       "      <th>last_name</th>\n",
       "      <th>first_name</th>\n",
       "    </tr>\n",
       "  </thead>\n",
       "  <tbody>\n",
       "    <tr>\n",
       "      <th>0</th>\n",
       "      <td>10.1371/journal.pcbi.1004668</td>\n",
       "      <td>Blischak J.</td>\n",
       "      <td>Blischak</td>\n",
       "      <td>B.</td>\n",
       "    </tr>\n",
       "    <tr>\n",
       "      <th>1</th>\n",
       "      <td>10.21105/joss.01035</td>\n",
       "      <td>Sparks Adam H.</td>\n",
       "      <td>Sparks</td>\n",
       "      <td>S.</td>\n",
       "    </tr>\n",
       "    <tr>\n",
       "      <th>2</th>\n",
       "      <td>10.21105/joss.01006</td>\n",
       "      <td>Granger Nicolas</td>\n",
       "      <td>Granger</td>\n",
       "      <td>G.</td>\n",
       "    </tr>\n",
       "    <tr>\n",
       "      <th>3</th>\n",
       "      <td>10.12688/f1000research.18866.2</td>\n",
       "      <td>Thang</td>\n",
       "      <td>Thang</td>\n",
       "      <td>NaN</td>\n",
       "    </tr>\n",
       "    <tr>\n",
       "      <th>4</th>\n",
       "      <td>10.1186/s12859-019-3171-0</td>\n",
       "      <td>Chen Danze</td>\n",
       "      <td>Chen</td>\n",
       "      <td>C.</td>\n",
       "    </tr>\n",
       "  </tbody>\n",
       "</table>\n",
       "</div>"
      ],
      "text/plain": [
       "                             DOIs     first_author last_name first_name\n",
       "0    10.1371/journal.pcbi.1004668      Blischak J.  Blischak         B.\n",
       "1             10.21105/joss.01035   Sparks Adam H.    Sparks         S.\n",
       "2             10.21105/joss.01006  Granger Nicolas   Granger         G.\n",
       "3  10.12688/f1000research.18866.2            Thang     Thang        NaN\n",
       "4       10.1186/s12859-019-3171-0       Chen Danze      Chen         C."
      ]
     },
     "execution_count": 27,
     "metadata": {},
     "output_type": "execute_result"
    }
   ],
   "source": [
    "doi_df_first_author_2"
   ]
  },
  {
   "cell_type": "markdown",
   "id": "a670718a-6c32-435f-afa6-3eb17b65827e",
   "metadata": {},
   "source": [
    "### Apply is applied line by line to the entire data frame\n",
    "Now let's use first_name and last_name to introduce a new column in which the cleaned author names are specified. \n",
    "To do this, we combine the columns first_name and last_name with a space in a new column. Here, too, we can use the anonymous function lambda again"
   ]
  },
  {
   "cell_type": "code",
   "execution_count": 28,
   "id": "d1da7f31-2ccb-4a24-af5a-38b2257e6a1f",
   "metadata": {},
   "outputs": [],
   "source": [
    "doi_df_first_author_2[\"first_author_cleaned\"] = doi_df_first_author_2.apply(\n",
    "    lambda df: df[\"last_name\"] + \" \" + df[\"first_name\"], axis=1)"
   ]
  },
  {
   "cell_type": "markdown",
   "id": "da9b50df-7d32-4ea8-967b-aad1bed2f51b",
   "metadata": {},
   "source": [
    "axis=1: This parameter specifies that the apply function should be applied row by row. This means that the lambda function is executed for each row in the DataFrame, and the result is stored in the new column ‘first_author_cleaned’ in the same row."
   ]
  },
  {
   "cell_type": "code",
   "execution_count": 29,
   "id": "e6d273d6-02fa-41ca-9fad-c7317503b03a",
   "metadata": {},
   "outputs": [
    {
     "data": {
      "text/html": [
       "<div>\n",
       "<style scoped>\n",
       "    .dataframe tbody tr th:only-of-type {\n",
       "        vertical-align: middle;\n",
       "    }\n",
       "\n",
       "    .dataframe tbody tr th {\n",
       "        vertical-align: top;\n",
       "    }\n",
       "\n",
       "    .dataframe thead th {\n",
       "        text-align: right;\n",
       "    }\n",
       "</style>\n",
       "<table border=\"1\" class=\"dataframe\">\n",
       "  <thead>\n",
       "    <tr style=\"text-align: right;\">\n",
       "      <th></th>\n",
       "      <th>DOIs</th>\n",
       "      <th>first_author</th>\n",
       "      <th>last_name</th>\n",
       "      <th>first_name</th>\n",
       "      <th>first_author_cleaned</th>\n",
       "    </tr>\n",
       "  </thead>\n",
       "  <tbody>\n",
       "    <tr>\n",
       "      <th>0</th>\n",
       "      <td>10.1371/journal.pcbi.1004668</td>\n",
       "      <td>Blischak J.</td>\n",
       "      <td>Blischak</td>\n",
       "      <td>B.</td>\n",
       "      <td>Blischak B.</td>\n",
       "    </tr>\n",
       "    <tr>\n",
       "      <th>1</th>\n",
       "      <td>10.21105/joss.01035</td>\n",
       "      <td>Sparks Adam H.</td>\n",
       "      <td>Sparks</td>\n",
       "      <td>S.</td>\n",
       "      <td>Sparks S.</td>\n",
       "    </tr>\n",
       "    <tr>\n",
       "      <th>2</th>\n",
       "      <td>10.21105/joss.01006</td>\n",
       "      <td>Granger Nicolas</td>\n",
       "      <td>Granger</td>\n",
       "      <td>G.</td>\n",
       "      <td>Granger G.</td>\n",
       "    </tr>\n",
       "    <tr>\n",
       "      <th>3</th>\n",
       "      <td>10.12688/f1000research.18866.2</td>\n",
       "      <td>Thang</td>\n",
       "      <td>Thang</td>\n",
       "      <td>NaN</td>\n",
       "      <td>Thang NaN</td>\n",
       "    </tr>\n",
       "    <tr>\n",
       "      <th>4</th>\n",
       "      <td>10.1186/s12859-019-3171-0</td>\n",
       "      <td>Chen Danze</td>\n",
       "      <td>Chen</td>\n",
       "      <td>C.</td>\n",
       "      <td>Chen C.</td>\n",
       "    </tr>\n",
       "  </tbody>\n",
       "</table>\n",
       "</div>"
      ],
      "text/plain": [
       "                             DOIs     first_author last_name first_name  \\\n",
       "0    10.1371/journal.pcbi.1004668      Blischak J.  Blischak         B.   \n",
       "1             10.21105/joss.01035   Sparks Adam H.    Sparks         S.   \n",
       "2             10.21105/joss.01006  Granger Nicolas   Granger         G.   \n",
       "3  10.12688/f1000research.18866.2            Thang     Thang        NaN   \n",
       "4       10.1186/s12859-019-3171-0       Chen Danze      Chen         C.   \n",
       "\n",
       "  first_author_cleaned  \n",
       "0          Blischak B.  \n",
       "1            Sparks S.  \n",
       "2           Granger G.  \n",
       "3            Thang NaN  \n",
       "4              Chen C.  "
      ]
     },
     "execution_count": 29,
     "metadata": {},
     "output_type": "execute_result"
    }
   ],
   "source": [
    "doi_df_first_author_2"
   ]
  },
  {
   "cell_type": "markdown",
   "id": "79f97550-43ff-4734-804a-f12ef6c16746",
   "metadata": {},
   "source": [
    "It looks almost perfect. The only thing missing is that the NaN values are processed correctly.\n",
    "To do this, we add another condition."
   ]
  },
  {
   "cell_type": "code",
   "execution_count": 30,
   "id": "5142fe5f-c2e0-4da0-96cb-9cc424526fcd",
   "metadata": {},
   "outputs": [],
   "source": [
    "doi_df_first_author_2[\"first_author_cleaned\"] = doi_df_first_author_2.apply(\n",
    "    lambda df: df[\"last_name\"] + \" \" + df[\"first_name\"] if df[\"first_name\"] != \"NaN\" else df[\"last_name\"], axis=1)"
   ]
  },
  {
   "cell_type": "markdown",
   "id": "41cafbf3-5052-420c-b1a5-b00d777e3c4e",
   "metadata": {},
   "source": [
    "With the condition that the values should be linked if no NaN is contained. Otherwise, only the surname should be stored in the column."
   ]
  },
  {
   "cell_type": "code",
   "execution_count": 31,
   "id": "08b41ba3-86d6-49a3-a5ef-62d6f0c37801",
   "metadata": {},
   "outputs": [
    {
     "data": {
      "text/html": [
       "<div>\n",
       "<style scoped>\n",
       "    .dataframe tbody tr th:only-of-type {\n",
       "        vertical-align: middle;\n",
       "    }\n",
       "\n",
       "    .dataframe tbody tr th {\n",
       "        vertical-align: top;\n",
       "    }\n",
       "\n",
       "    .dataframe thead th {\n",
       "        text-align: right;\n",
       "    }\n",
       "</style>\n",
       "<table border=\"1\" class=\"dataframe\">\n",
       "  <thead>\n",
       "    <tr style=\"text-align: right;\">\n",
       "      <th></th>\n",
       "      <th>DOIs</th>\n",
       "      <th>first_author</th>\n",
       "      <th>last_name</th>\n",
       "      <th>first_name</th>\n",
       "      <th>first_author_cleaned</th>\n",
       "    </tr>\n",
       "  </thead>\n",
       "  <tbody>\n",
       "    <tr>\n",
       "      <th>0</th>\n",
       "      <td>10.1371/journal.pcbi.1004668</td>\n",
       "      <td>Blischak J.</td>\n",
       "      <td>Blischak</td>\n",
       "      <td>B.</td>\n",
       "      <td>Blischak B.</td>\n",
       "    </tr>\n",
       "    <tr>\n",
       "      <th>1</th>\n",
       "      <td>10.21105/joss.01035</td>\n",
       "      <td>Sparks Adam H.</td>\n",
       "      <td>Sparks</td>\n",
       "      <td>S.</td>\n",
       "      <td>Sparks S.</td>\n",
       "    </tr>\n",
       "    <tr>\n",
       "      <th>2</th>\n",
       "      <td>10.21105/joss.01006</td>\n",
       "      <td>Granger Nicolas</td>\n",
       "      <td>Granger</td>\n",
       "      <td>G.</td>\n",
       "      <td>Granger G.</td>\n",
       "    </tr>\n",
       "    <tr>\n",
       "      <th>3</th>\n",
       "      <td>10.12688/f1000research.18866.2</td>\n",
       "      <td>Thang</td>\n",
       "      <td>Thang</td>\n",
       "      <td>NaN</td>\n",
       "      <td>Thang</td>\n",
       "    </tr>\n",
       "    <tr>\n",
       "      <th>4</th>\n",
       "      <td>10.1186/s12859-019-3171-0</td>\n",
       "      <td>Chen Danze</td>\n",
       "      <td>Chen</td>\n",
       "      <td>C.</td>\n",
       "      <td>Chen C.</td>\n",
       "    </tr>\n",
       "  </tbody>\n",
       "</table>\n",
       "</div>"
      ],
      "text/plain": [
       "                             DOIs     first_author last_name first_name  \\\n",
       "0    10.1371/journal.pcbi.1004668      Blischak J.  Blischak         B.   \n",
       "1             10.21105/joss.01035   Sparks Adam H.    Sparks         S.   \n",
       "2             10.21105/joss.01006  Granger Nicolas   Granger         G.   \n",
       "3  10.12688/f1000research.18866.2            Thang     Thang        NaN   \n",
       "4       10.1186/s12859-019-3171-0       Chen Danze      Chen         C.   \n",
       "\n",
       "  first_author_cleaned  \n",
       "0          Blischak B.  \n",
       "1            Sparks S.  \n",
       "2           Granger G.  \n",
       "3                Thang  \n",
       "4              Chen C.  "
      ]
     },
     "execution_count": 31,
     "metadata": {},
     "output_type": "execute_result"
    }
   ],
   "source": [
    "doi_df_first_author_2"
   ]
  },
  {
   "cell_type": "markdown",
   "id": "1a490aaf-44eb-4a8f-a491-a5fd61a64e11",
   "metadata": {},
   "source": [
    "## Groupby"
   ]
  },
  {
   "cell_type": "markdown",
   "id": "273ef973-28d5-4edc-af43-e7761594250c",
   "metadata": {},
   "source": [
    "With the groupby function in Pandas, we can group data based on one or more columns and then apply various aggregation functions to these groups. "
   ]
  },
  {
   "cell_type": "code",
   "execution_count": 32,
   "id": "a9d5d889-f29c-42ad-8fd9-2ebdf3165dc9",
   "metadata": {},
   "outputs": [],
   "source": [
    "\n",
    "df_doi_journal_price = pd.DataFrame({\n",
    "    \"DOI\": [\n",
    "        \"10.1371/journal.pcbi.1004668\",\n",
    "        \"10.21105/joss.01035\",\n",
    "        \"10.12688/f1000research.18866.2\",\n",
    "        \"10.1038/s41598-019-52881-4\",\n",
    "        \"10.1186/s12859-019-3171-0\",\n",
    "        \"10.1186/s12859-019-3171-1\",\n",
    "        \"10.1186/s12859-019-3171-3\"],\n",
    "    \"journal\": [\n",
    "        \"PLoS Comput Biol\",\n",
    "        \"BMC Bioinformatics\",\n",
    "        \"F1000Res\",\n",
    "        \"Sci Rep\",\n",
    "        \"BMC Bioinformatics\",\n",
    "        \"PLoS Comput Biol\",\n",
    "        \"BMC Bioinformatics\"],\n",
    "    \"price\": [\n",
    "        2000,\n",
    "        2000,\n",
    "        1500,\n",
    "        1000,\n",
    "        1500,\n",
    "        1500,\n",
    "        1600\n",
    "    ]})"
   ]
  },
  {
   "cell_type": "code",
   "execution_count": 33,
   "id": "fed068ab-4f83-45c2-972f-36d11f7019ac",
   "metadata": {},
   "outputs": [
    {
     "data": {
      "text/html": [
       "<div>\n",
       "<style scoped>\n",
       "    .dataframe tbody tr th:only-of-type {\n",
       "        vertical-align: middle;\n",
       "    }\n",
       "\n",
       "    .dataframe tbody tr th {\n",
       "        vertical-align: top;\n",
       "    }\n",
       "\n",
       "    .dataframe thead th {\n",
       "        text-align: right;\n",
       "    }\n",
       "</style>\n",
       "<table border=\"1\" class=\"dataframe\">\n",
       "  <thead>\n",
       "    <tr style=\"text-align: right;\">\n",
       "      <th></th>\n",
       "      <th>DOI</th>\n",
       "      <th>journal</th>\n",
       "      <th>price</th>\n",
       "    </tr>\n",
       "  </thead>\n",
       "  <tbody>\n",
       "    <tr>\n",
       "      <th>0</th>\n",
       "      <td>10.1371/journal.pcbi.1004668</td>\n",
       "      <td>PLoS Comput Biol</td>\n",
       "      <td>2000</td>\n",
       "    </tr>\n",
       "    <tr>\n",
       "      <th>1</th>\n",
       "      <td>10.21105/joss.01035</td>\n",
       "      <td>BMC Bioinformatics</td>\n",
       "      <td>2000</td>\n",
       "    </tr>\n",
       "    <tr>\n",
       "      <th>2</th>\n",
       "      <td>10.12688/f1000research.18866.2</td>\n",
       "      <td>F1000Res</td>\n",
       "      <td>1500</td>\n",
       "    </tr>\n",
       "    <tr>\n",
       "      <th>3</th>\n",
       "      <td>10.1038/s41598-019-52881-4</td>\n",
       "      <td>Sci Rep</td>\n",
       "      <td>1000</td>\n",
       "    </tr>\n",
       "    <tr>\n",
       "      <th>4</th>\n",
       "      <td>10.1186/s12859-019-3171-0</td>\n",
       "      <td>BMC Bioinformatics</td>\n",
       "      <td>1500</td>\n",
       "    </tr>\n",
       "    <tr>\n",
       "      <th>5</th>\n",
       "      <td>10.1186/s12859-019-3171-1</td>\n",
       "      <td>PLoS Comput Biol</td>\n",
       "      <td>1500</td>\n",
       "    </tr>\n",
       "    <tr>\n",
       "      <th>6</th>\n",
       "      <td>10.1186/s12859-019-3171-3</td>\n",
       "      <td>BMC Bioinformatics</td>\n",
       "      <td>1600</td>\n",
       "    </tr>\n",
       "  </tbody>\n",
       "</table>\n",
       "</div>"
      ],
      "text/plain": [
       "                              DOI             journal  price\n",
       "0    10.1371/journal.pcbi.1004668    PLoS Comput Biol   2000\n",
       "1             10.21105/joss.01035  BMC Bioinformatics   2000\n",
       "2  10.12688/f1000research.18866.2            F1000Res   1500\n",
       "3      10.1038/s41598-019-52881-4             Sci Rep   1000\n",
       "4       10.1186/s12859-019-3171-0  BMC Bioinformatics   1500\n",
       "5       10.1186/s12859-019-3171-1    PLoS Comput Biol   1500\n",
       "6       10.1186/s12859-019-3171-3  BMC Bioinformatics   1600"
      ]
     },
     "execution_count": 33,
     "metadata": {},
     "output_type": "execute_result"
    }
   ],
   "source": [
    "df_doi_journal_price"
   ]
  },
  {
   "cell_type": "markdown",
   "id": "1b89ba33-6118-4d4f-9cd0-1d1395ed3486",
   "metadata": {},
   "source": [
    "Create a groupby object. We want to group the DataFrame df_doi_journal_price according to the column ‘journal’. This means that all rows with the same value in the column ‘journal’ are combined into one group. In this case, the articles are grouped by journal."
   ]
  },
  {
   "cell_type": "code",
   "execution_count": 34,
   "id": "e091c534-b245-42ad-b405-6ce9c040cbda",
   "metadata": {},
   "outputs": [],
   "source": [
    "grp_journal = df_doi_journal_price.groupby([\"journal\"])"
   ]
  },
  {
   "cell_type": "code",
   "execution_count": 35,
   "id": "39bff09f-05ce-478a-94ee-0115ca322d36",
   "metadata": {},
   "outputs": [
    {
     "data": {
      "text/plain": [
       "<pandas.core.groupby.generic.DataFrameGroupBy object at 0x7d35938f2e90>"
      ]
     },
     "execution_count": 35,
     "metadata": {},
     "output_type": "execute_result"
    }
   ],
   "source": [
    "grp_journal"
   ]
  },
  {
   "cell_type": "markdown",
   "id": "6591f38c-55e1-4965-b13a-018e6da6295a",
   "metadata": {},
   "source": [
    "In Pandas, the GroupBy object grp_journal is not automatically displayed when we evaluate it. Instead, we must apply an aggregation function or method to display or use the results of the grouping."
   ]
  },
  {
   "cell_type": "code",
   "execution_count": 36,
   "id": "e0106758-1b66-4035-98b4-fc514e475456",
   "metadata": {},
   "outputs": [
    {
     "data": {
      "text/html": [
       "<div>\n",
       "<style scoped>\n",
       "    .dataframe tbody tr th:only-of-type {\n",
       "        vertical-align: middle;\n",
       "    }\n",
       "\n",
       "    .dataframe tbody tr th {\n",
       "        vertical-align: top;\n",
       "    }\n",
       "\n",
       "    .dataframe thead th {\n",
       "        text-align: right;\n",
       "    }\n",
       "</style>\n",
       "<table border=\"1\" class=\"dataframe\">\n",
       "  <thead>\n",
       "    <tr style=\"text-align: right;\">\n",
       "      <th></th>\n",
       "      <th>DOI</th>\n",
       "      <th>journal</th>\n",
       "      <th>price</th>\n",
       "    </tr>\n",
       "  </thead>\n",
       "  <tbody>\n",
       "    <tr>\n",
       "      <th>1</th>\n",
       "      <td>10.21105/joss.01035</td>\n",
       "      <td>BMC Bioinformatics</td>\n",
       "      <td>2000</td>\n",
       "    </tr>\n",
       "    <tr>\n",
       "      <th>4</th>\n",
       "      <td>10.1186/s12859-019-3171-0</td>\n",
       "      <td>BMC Bioinformatics</td>\n",
       "      <td>1500</td>\n",
       "    </tr>\n",
       "    <tr>\n",
       "      <th>6</th>\n",
       "      <td>10.1186/s12859-019-3171-3</td>\n",
       "      <td>BMC Bioinformatics</td>\n",
       "      <td>1600</td>\n",
       "    </tr>\n",
       "  </tbody>\n",
       "</table>\n",
       "</div>"
      ],
      "text/plain": [
       "                         DOI             journal  price\n",
       "1        10.21105/joss.01035  BMC Bioinformatics   2000\n",
       "4  10.1186/s12859-019-3171-0  BMC Bioinformatics   1500\n",
       "6  10.1186/s12859-019-3171-3  BMC Bioinformatics   1600"
      ]
     },
     "metadata": {},
     "output_type": "display_data"
    },
    {
     "data": {
      "text/html": [
       "<div>\n",
       "<style scoped>\n",
       "    .dataframe tbody tr th:only-of-type {\n",
       "        vertical-align: middle;\n",
       "    }\n",
       "\n",
       "    .dataframe tbody tr th {\n",
       "        vertical-align: top;\n",
       "    }\n",
       "\n",
       "    .dataframe thead th {\n",
       "        text-align: right;\n",
       "    }\n",
       "</style>\n",
       "<table border=\"1\" class=\"dataframe\">\n",
       "  <thead>\n",
       "    <tr style=\"text-align: right;\">\n",
       "      <th></th>\n",
       "      <th>DOI</th>\n",
       "      <th>journal</th>\n",
       "      <th>price</th>\n",
       "    </tr>\n",
       "  </thead>\n",
       "  <tbody>\n",
       "    <tr>\n",
       "      <th>2</th>\n",
       "      <td>10.12688/f1000research.18866.2</td>\n",
       "      <td>F1000Res</td>\n",
       "      <td>1500</td>\n",
       "    </tr>\n",
       "  </tbody>\n",
       "</table>\n",
       "</div>"
      ],
      "text/plain": [
       "                              DOI   journal  price\n",
       "2  10.12688/f1000research.18866.2  F1000Res   1500"
      ]
     },
     "metadata": {},
     "output_type": "display_data"
    },
    {
     "data": {
      "text/html": [
       "<div>\n",
       "<style scoped>\n",
       "    .dataframe tbody tr th:only-of-type {\n",
       "        vertical-align: middle;\n",
       "    }\n",
       "\n",
       "    .dataframe tbody tr th {\n",
       "        vertical-align: top;\n",
       "    }\n",
       "\n",
       "    .dataframe thead th {\n",
       "        text-align: right;\n",
       "    }\n",
       "</style>\n",
       "<table border=\"1\" class=\"dataframe\">\n",
       "  <thead>\n",
       "    <tr style=\"text-align: right;\">\n",
       "      <th></th>\n",
       "      <th>DOI</th>\n",
       "      <th>journal</th>\n",
       "      <th>price</th>\n",
       "    </tr>\n",
       "  </thead>\n",
       "  <tbody>\n",
       "    <tr>\n",
       "      <th>0</th>\n",
       "      <td>10.1371/journal.pcbi.1004668</td>\n",
       "      <td>PLoS Comput Biol</td>\n",
       "      <td>2000</td>\n",
       "    </tr>\n",
       "    <tr>\n",
       "      <th>5</th>\n",
       "      <td>10.1186/s12859-019-3171-1</td>\n",
       "      <td>PLoS Comput Biol</td>\n",
       "      <td>1500</td>\n",
       "    </tr>\n",
       "  </tbody>\n",
       "</table>\n",
       "</div>"
      ],
      "text/plain": [
       "                            DOI           journal  price\n",
       "0  10.1371/journal.pcbi.1004668  PLoS Comput Biol   2000\n",
       "5     10.1186/s12859-019-3171-1  PLoS Comput Biol   1500"
      ]
     },
     "metadata": {},
     "output_type": "display_data"
    },
    {
     "data": {
      "text/html": [
       "<div>\n",
       "<style scoped>\n",
       "    .dataframe tbody tr th:only-of-type {\n",
       "        vertical-align: middle;\n",
       "    }\n",
       "\n",
       "    .dataframe tbody tr th {\n",
       "        vertical-align: top;\n",
       "    }\n",
       "\n",
       "    .dataframe thead th {\n",
       "        text-align: right;\n",
       "    }\n",
       "</style>\n",
       "<table border=\"1\" class=\"dataframe\">\n",
       "  <thead>\n",
       "    <tr style=\"text-align: right;\">\n",
       "      <th></th>\n",
       "      <th>DOI</th>\n",
       "      <th>journal</th>\n",
       "      <th>price</th>\n",
       "    </tr>\n",
       "  </thead>\n",
       "  <tbody>\n",
       "    <tr>\n",
       "      <th>3</th>\n",
       "      <td>10.1038/s41598-019-52881-4</td>\n",
       "      <td>Sci Rep</td>\n",
       "      <td>1000</td>\n",
       "    </tr>\n",
       "  </tbody>\n",
       "</table>\n",
       "</div>"
      ],
      "text/plain": [
       "                          DOI  journal  price\n",
       "3  10.1038/s41598-019-52881-4  Sci Rep   1000"
      ]
     },
     "metadata": {},
     "output_type": "display_data"
    },
    {
     "data": {
      "text/html": [
       "<div>\n",
       "<style scoped>\n",
       "    .dataframe tbody tr th:only-of-type {\n",
       "        vertical-align: middle;\n",
       "    }\n",
       "\n",
       "    .dataframe tbody tr th {\n",
       "        vertical-align: top;\n",
       "    }\n",
       "\n",
       "    .dataframe thead th {\n",
       "        text-align: right;\n",
       "    }\n",
       "</style>\n",
       "<table border=\"1\" class=\"dataframe\">\n",
       "  <thead>\n",
       "    <tr style=\"text-align: right;\">\n",
       "      <th></th>\n",
       "    </tr>\n",
       "  </thead>\n",
       "  <tbody>\n",
       "  </tbody>\n",
       "</table>\n",
       "</div>"
      ],
      "text/plain": [
       "Empty DataFrame\n",
       "Columns: []\n",
       "Index: []"
      ]
     },
     "execution_count": 36,
     "metadata": {},
     "output_type": "execute_result"
    }
   ],
   "source": [
    "grp_journal.apply(display)"
   ]
  },
  {
   "cell_type": "markdown",
   "id": "c803b85e-9c3d-46f3-a58b-9165e0371707",
   "metadata": {},
   "source": [
    "We could now apply aggregation functions to our groups. For example, we want to see the average price for each journal."
   ]
  },
  {
   "cell_type": "code",
   "execution_count": 37,
   "id": "fb485c6e-2b78-4cdc-a8f4-4dcedb850686",
   "metadata": {},
   "outputs": [
    {
     "data": {
      "text/plain": [
       "journal\n",
       "BMC Bioinformatics    1700.0\n",
       "F1000Res              1500.0\n",
       "PLoS Comput Biol      1750.0\n",
       "Sci Rep               1000.0\n",
       "Name: price, dtype: float64"
      ]
     },
     "execution_count": 37,
     "metadata": {},
     "output_type": "execute_result"
    }
   ],
   "source": [
    "grp_journal[\"price\"].mean()"
   ]
  },
  {
   "cell_type": "markdown",
   "id": "02bcfb5e-d42d-4cab-b442-14fe1f9063a0",
   "metadata": {},
   "source": [
    "Oder die Summe:"
   ]
  },
  {
   "cell_type": "code",
   "execution_count": 38,
   "id": "9f319a67-1587-4a13-8269-7282a689fc30",
   "metadata": {},
   "outputs": [
    {
     "data": {
      "text/plain": [
       "journal\n",
       "BMC Bioinformatics    5100\n",
       "F1000Res              1500\n",
       "PLoS Comput Biol      3500\n",
       "Sci Rep               1000\n",
       "Name: price, dtype: int64"
      ]
     },
     "execution_count": 38,
     "metadata": {},
     "output_type": "execute_result"
    }
   ],
   "source": [
    "grp_journal[\"price\"].sum()"
   ]
  },
  {
   "cell_type": "markdown",
   "id": "49df9bb2-f19a-4ea2-840d-c9c03984ccad",
   "metadata": {},
   "source": [
    "## Summary\n",
    "\n",
    "In this notebook you have learned how to:\n",
    "- Merge pandas DataFrames using different join types (`left`, `right`, `inner`, `outer`)\n",
    "- Apply custom functions to columns and DataFrames using `apply`\n",
    "- Aggregate and summarize data using `groupby`\n",
    "\n",
    "These are some of the most powerful tools for data wrangling in pandas and form the foundation for most data analysis workflows in Python.\n",
    "\n",
    "---\n",
    "\n",
    "## Further reading\n",
    "\n",
    "- [pandas documentation – merge, join, concatenate and compare](https://pandas.pydata.org/docs/user_guide/merging.html)\n",
    "- [pandas documentation – apply](https://pandas.pydata.org/docs/reference/api/pandas.DataFrame.apply.html)\n",
    "- [pandas documentation – groupby](https://pandas.pydata.org/docs/user_guide/groupby.html)\n",
    "- [Python Data Science Handbook by Jake VanderPlas](https://jakevdp.github.io/PythonDataScienceHandbook/)\n",
    "\n",
    "---\n",
    "\n",
    "## Acknowledgements\n",
    "\n",
    "This notebook was created for educational purposes using examples inspired by the pandas documentation.  \n",
    "No external data sources were used.\n",
    "\n",
    "---\n",
    "\n",
    "## Citation and licence\n",
    "\n",
    "If you use or adapt this notebook, please cite it as follows:\n",
    "\n",
    "> Sauerwein, T.; Müller, R. (2025). *Working with pandas: merging, apply, and groupby* [Jupyter Notebook].  \n",
    "> Creative Commons Attribution 4.0 International (CC BY 4.0).\n",
    "\n",
    "Licence: [CC BY 4.0](https://creativecommons.org/licenses/by/4.0/)\n"
   ]
  }
 ],
 "metadata": {
  "kernelspec": {
   "display_name": "Python 3 (ipykernel)",
   "language": "python",
   "name": "python3"
  },
  "language_info": {
   "codemirror_mode": {
    "name": "ipython",
    "version": 3
   },
   "file_extension": ".py",
   "mimetype": "text/x-python",
   "name": "python",
   "nbconvert_exporter": "python",
   "pygments_lexer": "ipython3",
   "version": "3.10.12"
  }
 },
 "nbformat": 4,
 "nbformat_minor": 5
}
