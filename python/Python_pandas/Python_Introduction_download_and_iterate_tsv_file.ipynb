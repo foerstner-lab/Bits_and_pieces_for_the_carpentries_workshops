{
 "cells": [
  {
   "cell_type": "code",
   "execution_count": 2,
   "metadata": {},
   "outputs": [],
   "source": [
    "import urllib.request"
   ]
  },
  {
   "cell_type": "code",
   "execution_count": 3,
   "metadata": {},
   "outputs": [],
   "source": [
    "url = \"https://raw.githubusercontent.com/foerstner-lab/Bits_and_pieces_for_the_carpentries_workshops/master/plain_text_file_examples/DOIs_PMIDs_PubYears.tsv\"\n",
    "tsv_file = \"DOIs_PMIDs_PubYears.tsv\""
   ]
  },
  {
   "cell_type": "code",
   "execution_count": 4,
   "metadata": {},
   "outputs": [
    {
     "data": {
      "text/plain": [
       "('DOIs_PMIDs_PubYears.tsv', <http.client.HTTPMessage at 0x7fc2d4114b38>)"
      ]
     },
     "execution_count": 4,
     "metadata": {},
     "output_type": "execute_result"
    }
   ],
   "source": [
    "urllib.request.urlretrieve(url, tsv_file)"
   ]
  },
  {
   "cell_type": "code",
   "execution_count": 5,
   "metadata": {},
   "outputs": [
    {
     "name": "stdout",
     "output_type": "stream",
     "text": [
      "DOI\tPMID\tYear\n",
      "\n",
      "10.1186/s13326-017-0123-3\t28412964\t2017\n",
      "\n",
      "10.1093/bioinformatics/btw331\t27288493\t2016\n",
      "\n",
      "10.1007/s11306-018-1356-6\t29706851\t2018\n",
      "\n",
      "10.1371/journal.pcbi.1004447\t26335558\t2015\n",
      "\n",
      "10.1093/bioinformatics/btv363.\t26085503\t2015\n",
      "\n",
      "10.1371/journal.pbio.3000246\t31042704\t2019\n",
      "\n",
      "10.7717/peerj.6762\t30997295\t2019\n",
      "\n",
      "10.3389/fpsyg.2019.00564\t30949097\t2019\n",
      "\n"
     ]
    }
   ],
   "source": [
    "for line in open(tsv_file):\n",
    "    print(line)"
   ]
  },
  {
   "cell_type": "code",
   "execution_count": 6,
   "metadata": {},
   "outputs": [
    {
     "name": "stdout",
     "output_type": "stream",
     "text": [
      "['DOI', 'PMID', 'Year\\n']\n",
      "['10.1186/s13326-017-0123-3', '28412964', '2017\\n']\n",
      "['10.1093/bioinformatics/btw331', '27288493', '2016\\n']\n",
      "['10.1007/s11306-018-1356-6', '29706851', '2018\\n']\n",
      "['10.1371/journal.pcbi.1004447', '26335558', '2015\\n']\n",
      "['10.1093/bioinformatics/btv363.', '26085503', '2015\\n']\n",
      "['10.1371/journal.pbio.3000246', '31042704', '2019\\n']\n",
      "['10.7717/peerj.6762', '30997295', '2019\\n']\n",
      "['10.3389/fpsyg.2019.00564', '30949097', '2019\\n']\n"
     ]
    }
   ],
   "source": [
    "for line in open(tsv_file):\n",
    "    split_line = line.split(\"\\t\")\n",
    "    print(split_line)"
   ]
  },
  {
   "cell_type": "code",
   "execution_count": 7,
   "metadata": {},
   "outputs": [
    {
     "name": "stdout",
     "output_type": "stream",
     "text": [
      "['DOI', 'PMID', 'Year']\n",
      "['10.1186/s13326-017-0123-3', '28412964', '2017']\n",
      "['10.1093/bioinformatics/btw331', '27288493', '2016']\n",
      "['10.1007/s11306-018-1356-6', '29706851', '2018']\n",
      "['10.1371/journal.pcbi.1004447', '26335558', '2015']\n",
      "['10.1093/bioinformatics/btv363.', '26085503', '2015']\n",
      "['10.1371/journal.pbio.3000246', '31042704', '2019']\n",
      "['10.7717/peerj.6762', '30997295', '2019']\n",
      "['10.3389/fpsyg.2019.00564', '30949097', '2019']\n"
     ]
    }
   ],
   "source": [
    "for line in open(tsv_file):\n",
    "    split_line = line.strip().split(\"\\t\")\n",
    "    print(split_line)"
   ]
  },
  {
   "cell_type": "code",
   "execution_count": 8,
   "metadata": {},
   "outputs": [
    {
     "name": "stdout",
     "output_type": "stream",
     "text": [
      "Year\n",
      "2017\n",
      "2016\n",
      "2018\n",
      "2015\n",
      "2015\n",
      "2019\n",
      "2019\n",
      "2019\n"
     ]
    }
   ],
   "source": [
    "for line in open(tsv_file):\n",
    "    split_line = line.strip().split(\"\\t\")\n",
    "    print(split_line[2])"
   ]
  },
  {
   "cell_type": "markdown",
   "metadata": {},
   "source": [
    "## alternativley open with csv module"
   ]
  },
  {
   "cell_type": "code",
   "execution_count": 18,
   "metadata": {},
   "outputs": [
    {
     "name": "stdout",
     "output_type": "stream",
     "text": [
      "['DOI', 'PMID', 'Year']\n",
      "Year\n",
      "['10.1186/s13326-017-0123-3', '28412964', '2017']\n",
      "2017\n",
      "['10.1093/bioinformatics/btw331', '27288493', '2016']\n",
      "2016\n",
      "['10.1007/s11306-018-1356-6', '29706851', '2018']\n",
      "2018\n",
      "['10.1371/journal.pcbi.1004447', '26335558', '2015']\n",
      "2015\n",
      "['10.1093/bioinformatics/btv363.', '26085503', '2015']\n",
      "2015\n",
      "['10.1371/journal.pbio.3000246', '31042704', '2019']\n",
      "2019\n",
      "['10.7717/peerj.6762', '30997295', '2019']\n",
      "2019\n",
      "['10.3389/fpsyg.2019.00564', '30949097', '2019']\n",
      "2019\n"
     ]
    }
   ],
   "source": [
    "import csv\n",
    "fh = open(tsv_file)\n",
    "tsv = csv.reader(fh, delimiter=\"\\t\")\n",
    "for line in tsv:\n",
    "    #print(\"   |   \".join(line)) # cleaner way to print the line\n",
    "    print(line)\n",
    "    print(line[-1])"
   ]
  },
  {
   "cell_type": "code",
   "execution_count": null,
   "metadata": {},
   "outputs": [],
   "source": []
  },
  {
   "cell_type": "code",
   "execution_count": null,
   "metadata": {},
   "outputs": [],
   "source": []
  }
 ],
 "metadata": {
  "kernelspec": {
   "display_name": "Python 3",
   "language": "python",
   "name": "python3"
  },
  "language_info": {
   "codemirror_mode": {
    "name": "ipython",
    "version": 3
   },
   "file_extension": ".py",
   "mimetype": "text/x-python",
   "name": "python",
   "nbconvert_exporter": "python",
   "pygments_lexer": "ipython3",
   "version": "3.7.2"
  }
 },
 "nbformat": 4,
 "nbformat_minor": 2
}
