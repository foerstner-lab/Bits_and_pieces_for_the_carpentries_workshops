{
 "cells": [
  {
   "cell_type": "markdown",
   "metadata": {},
   "source": [
    "# ISBN Data from OpenLibrary\n",
    "\n",
    "Further information regarding the crossref API can be found [here](https://www.crossref.org/services/metadata-delivery/rest-api/)."
   ]
  },
  {
   "cell_type": "code",
   "execution_count": 1,
   "metadata": {},
   "outputs": [],
   "source": [
    "import urllib.request\n",
    "import json\n",
    "\n",
    "base_url = \"https://openlibrary.org/api/books\"\n",
    "isbn = \"0451526538\"\n",
    "full_url = base_url + \"?bibkeys=ISBN:\" + isbn + \"&format=json\""
   ]
  },
  {
   "cell_type": "code",
   "execution_count": 2,
   "metadata": {},
   "outputs": [],
   "source": [
    "# Retrieve the data an store as string\n",
    "data_as_json = urllib.request.urlopen(full_url).read()"
   ]
  },
  {
   "cell_type": "code",
   "execution_count": 3,
   "metadata": {},
   "outputs": [
    {
     "name": "stdout",
     "output_type": "stream",
     "text": [
      "b'{\"ISBN:0451526538\": {\"bib_key\": \"ISBN:0451526538\", \"preview\": \"noview\", \"thumbnail_url\": \"https://covers.openlibrary.org/b/id/295577-S.jpg\", \"preview_url\": \"https://openlibrary.org/books/OL1017798M/The_adventures_of_Tom_Sawyer\", \"info_url\": \"https://openlibrary.org/books/OL1017798M/The_adventures_of_Tom_Sawyer\"}}'\n"
     ]
    }
   ],
   "source": [
    "print(data_as_json)"
   ]
  },
  {
   "cell_type": "code",
   "execution_count": 4,
   "metadata": {},
   "outputs": [],
   "source": [
    "# Parse json string\n",
    "isbn_data = json.loads(data_as_json)"
   ]
  },
  {
   "cell_type": "code",
   "execution_count": 7,
   "metadata": {},
   "outputs": [
    {
     "data": {
      "text/plain": [
       "dict"
      ]
     },
     "execution_count": 7,
     "metadata": {},
     "output_type": "execute_result"
    }
   ],
   "source": [
    "type(isbn_data)"
   ]
  },
  {
   "cell_type": "code",
   "execution_count": 8,
   "metadata": {},
   "outputs": [
    {
     "data": {
      "text/plain": [
       "dict_keys(['ISBN:0451526538'])"
      ]
     },
     "execution_count": 8,
     "metadata": {},
     "output_type": "execute_result"
    }
   ],
   "source": [
    "isbn_data.keys()"
   ]
  },
  {
   "cell_type": "code",
   "execution_count": 9,
   "metadata": {},
   "outputs": [
    {
     "data": {
      "text/plain": [
       "{'bib_key': 'ISBN:0451526538',\n",
       " 'preview': 'noview',\n",
       " 'thumbnail_url': 'https://covers.openlibrary.org/b/id/295577-S.jpg',\n",
       " 'preview_url': 'https://openlibrary.org/books/OL1017798M/The_adventures_of_Tom_Sawyer',\n",
       " 'info_url': 'https://openlibrary.org/books/OL1017798M/The_adventures_of_Tom_Sawyer'}"
      ]
     },
     "execution_count": 9,
     "metadata": {},
     "output_type": "execute_result"
    }
   ],
   "source": [
    "isbn_data[\"ISBN:0451526538\"]"
   ]
  },
  {
   "cell_type": "code",
   "execution_count": 10,
   "metadata": {},
   "outputs": [
    {
     "data": {
      "text/plain": [
       "'https://openlibrary.org/books/OL1017798M/The_adventures_of_Tom_Sawyer'"
      ]
     },
     "execution_count": 10,
     "metadata": {},
     "output_type": "execute_result"
    }
   ],
   "source": [
    "isbn_data[\"ISBN:0451526538\"]['info_url']"
   ]
  },
  {
   "cell_type": "code",
   "execution_count": null,
   "metadata": {},
   "outputs": [],
   "source": []
  }
 ],
 "metadata": {
  "kernelspec": {
   "display_name": "Python 3",
   "language": "python",
   "name": "python3"
  },
  "language_info": {
   "codemirror_mode": {
    "name": "ipython",
    "version": 3
   },
   "file_extension": ".py",
   "mimetype": "text/x-python",
   "name": "python",
   "nbconvert_exporter": "python",
   "pygments_lexer": "ipython3",
   "version": "3.7.3"
  }
 },
 "nbformat": 4,
 "nbformat_minor": 2
}
