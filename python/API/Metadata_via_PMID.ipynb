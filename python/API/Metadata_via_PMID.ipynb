{
 "cells": [
  {
   "cell_type": "code",
   "execution_count": 1,
   "metadata": {},
   "outputs": [],
   "source": [
    "import urllib.request\n",
    "import json"
   ]
  },
  {
   "cell_type": "code",
   "execution_count": 29,
   "metadata": {},
   "outputs": [],
   "source": [
    "base_url = \"https://eutils.ncbi.nlm.nih.gov/entrez/eutils/esummary.fcgi?db=pubmed&retmode=json&id=\"\n",
    "pmid = \"27708327\"\n",
    "full_url = base_url + pmid"
   ]
  },
  {
   "cell_type": "code",
   "execution_count": 30,
   "metadata": {},
   "outputs": [],
   "source": [
    "# Retrieve the data an store as string\n",
    "doi_json_data = urllib.request.urlopen(full_url).read()"
   ]
  },
  {
   "cell_type": "code",
   "execution_count": 31,
   "metadata": {},
   "outputs": [
    {
     "name": "stdout",
     "output_type": "stream",
     "text": [
      "b'{\\n    \"header\": {\\n        \"type\": \"esummary\",\\n        \"version\": \"0.3\"\\n    },\\n    \"result\": {\\n        \"uids\": [\\n            \"27708327\"\\n        ],\\n        \"27708327\": {\\n            \"uid\": \"27708327\",\\n            \"pubdate\": \"2016 Oct 6\",\\n            \"epubdate\": \"\",\\n            \"source\": \"Nature\",\\n            \"authors\": [\\n                {\\n                    \"name\": \"Perkel J\",\\n                    \"authtype\": \"Author\",\\n                    \"clusterid\": \"\"\\n                }\\n            ],\\n            \"lastauthor\": \"Perkel J\",\\n            \"title\": \"Democratic databases: science on GitHub.\",\\n            \"sorttitle\": \"democratic databases science on github\",\\n            \"volume\": \"538\",\\n            \"issue\": \"7623\",\\n            \"pages\": \"127-128\",\\n            \"lang\": [\\n                \"eng\"\\n            ],\\n            \"nlmuniqueid\": \"0410462\",\\n            \"issn\": \"0028-0836\",\\n            \"essn\": \"1476-4687\",\\n            \"pubtype\": [\\n                \"Journal Article\"\\n            ],\\n            \"recordstatus\": \"PubMed - indexed for MEDLINE\",\\n            \"pubstatus\": \"4\",\\n            \"articleids\": [\\n                {\\n                    \"idtype\": \"pubmed\",\\n                    \"idtypen\": 1,\\n                    \"value\": \"27708327\"\\n                },\\n                {\\n                    \"idtype\": \"pii\",\\n                    \"idtypen\": 4,\\n                    \"value\": \"538127a\"\\n                },\\n                {\\n                    \"idtype\": \"doi\",\\n                    \"idtypen\": 3,\\n                    \"value\": \"10.1038/538127a\"\\n                },\\n                {\\n                    \"idtype\": \"rid\",\\n                    \"idtypen\": 8,\\n                    \"value\": \"27708327\"\\n                },\\n                {\\n                    \"idtype\": \"eid\",\\n                    \"idtypen\": 8,\\n                    \"value\": \"27708327\"\\n                }\\n            ],\\n            \"history\": [\\n                {\\n                    \"pubstatus\": \"entrez\",\\n                    \"date\": \"2016/10/07 06:00\"\\n                },\\n                {\\n                    \"pubstatus\": \"pubmed\",\\n                    \"date\": \"2016/10/07 06:00\"\\n                },\\n                {\\n                    \"pubstatus\": \"medline\",\\n                    \"date\": \"2016/11/03 06:00\"\\n                }\\n            ],\\n            \"references\": [\\n                {\\n                    \"refsource\": \"Nature. 2016 Oct 31;539(7627):126\",\\n                    \"reftype\": \"Erratum in\",\\n                    \"pmid\": 27808210,\\n                    \"note\": \"\"\\n                }\\n            ],\\n            \"attributes\": [\\n            ],\\n            \"pmcrefcount\": 5,\\n            \"fulljournalname\": \"Nature\",\\n            \"elocationid\": \"doi: 10.1038/538127a\",\\n            \"doctype\": \"citation\",\\n            \"srccontriblist\": [\\n            ],\\n            \"booktitle\": \"\",\\n            \"medium\": \"\",\\n            \"edition\": \"\",\\n            \"publisherlocation\": \"\",\\n            \"publishername\": \"\",\\n            \"srcdate\": \"\",\\n            \"reportnumber\": \"\",\\n            \"availablefromurl\": \"\",\\n            \"locationlabel\": \"\",\\n            \"doccontriblist\": [\\n            ],\\n            \"docdate\": \"\",\\n            \"bookname\": \"\",\\n            \"chapter\": \"\",\\n            \"sortpubdate\": \"2016/10/06 00:00\",\\n            \"sortfirstauthor\": \"Perkel J\",\\n            \"vernaculartitle\": \"\"\\n        }\\n    }\\n}\\n\\n'\n"
     ]
    }
   ],
   "source": [
    "print(doi_json_data)"
   ]
  },
  {
   "cell_type": "code",
   "execution_count": 36,
   "metadata": {},
   "outputs": [],
   "source": [
    "# Parse json string\n",
    "pubmed_data = json.loads(doi_json_data)"
   ]
  },
  {
   "cell_type": "code",
   "execution_count": 37,
   "metadata": {},
   "outputs": [
    {
     "data": {
      "text/plain": [
       "dict"
      ]
     },
     "execution_count": 37,
     "metadata": {},
     "output_type": "execute_result"
    }
   ],
   "source": [
    "type(pubmed_data)"
   ]
  },
  {
   "cell_type": "code",
   "execution_count": 38,
   "metadata": {},
   "outputs": [
    {
     "data": {
      "text/plain": [
       "dict_keys(['header', 'result'])"
      ]
     },
     "execution_count": 38,
     "metadata": {},
     "output_type": "execute_result"
    }
   ],
   "source": [
    "pubmed_data.keys()"
   ]
  },
  {
   "cell_type": "code",
   "execution_count": 39,
   "metadata": {},
   "outputs": [
    {
     "data": {
      "text/plain": [
       "'Democratic databases: science on GitHub.'"
      ]
     },
     "execution_count": 39,
     "metadata": {},
     "output_type": "execute_result"
    }
   ],
   "source": [
    "pubmed_data[\"result\"][pmid][\"title\"]"
   ]
  },
  {
   "cell_type": "code",
   "execution_count": null,
   "metadata": {},
   "outputs": [],
   "source": []
  }
 ],
 "metadata": {
  "kernelspec": {
   "display_name": "Python 3",
   "language": "python",
   "name": "python3"
  },
  "language_info": {
   "codemirror_mode": {
    "name": "ipython",
    "version": 3
   },
   "file_extension": ".py",
   "mimetype": "text/x-python",
   "name": "python",
   "nbconvert_exporter": "python",
   "pygments_lexer": "ipython3",
   "version": "3.7.3"
  }
 },
 "nbformat": 4,
 "nbformat_minor": 2
}
