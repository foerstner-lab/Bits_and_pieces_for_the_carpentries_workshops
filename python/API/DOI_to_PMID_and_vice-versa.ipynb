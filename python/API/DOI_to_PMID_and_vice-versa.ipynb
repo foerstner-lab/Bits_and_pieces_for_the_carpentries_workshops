{
 "cells": [
  {
   "cell_type": "markdown",
   "metadata": {},
   "source": [
    "See \n",
    "\n",
    "- https://www.ncbi.nlm.nih.gov/pmc/pmctopmid/\n",
    "- https://www.ncbi.nlm.nih.gov/pmc/tools/id-converter-api/\n",
    "\n",
    "for more inforamtion"
   ]
  },
  {
   "cell_type": "code",
   "execution_count": 23,
   "metadata": {},
   "outputs": [],
   "source": [
    "import urllib.request\n",
    "import json"
   ]
  },
  {
   "cell_type": "code",
   "execution_count": 24,
   "metadata": {},
   "outputs": [],
   "source": [
    "base_url = \"https://www.ncbi.nlm.nih.gov/pmc/utils/idconv/v1.0\"\n",
    "result_format = \"json\""
   ]
  },
  {
   "cell_type": "markdown",
   "metadata": {},
   "source": [
    "### PubMed ID to DOI"
   ]
  },
  {
   "cell_type": "code",
   "execution_count": 25,
   "metadata": {},
   "outputs": [],
   "source": [
    "pmid = \"25653839\"\n",
    "full_url = f\"{base_url}?ids={pmid}&format={result_format}\"\n",
    "request_data_of_pmid = urllib.request.urlopen(full_url).read()"
   ]
  },
  {
   "cell_type": "code",
   "execution_count": 26,
   "metadata": {},
   "outputs": [
    {
     "name": "stdout",
     "output_type": "stream",
     "text": [
      "b'{\\n \"status\": \"ok\",\\n \"responseDate\": \"2019-05-18 10:16:27\",\\n \"request\": \"ids=25653839;format=json\",\\n \"warning\": \"no e-mail provided; no tool provided\",\\n \"records\": [\\n   {\\n    \"pmcid\": \"PMC4304228\",\\n    \"pmid\": \"25653839\",\\n    \"doi\": \"10.12688/f1000research.5686.1\",\\n    \"versions\": [\\n      {\\n       \"pmcid\": \"PMC4304228.1\"\\n      },\\n      {\\n       \"pmcid\": \"PMC4304228.2\",\\n       \"current\": \"true\"\\n      }\\n    ]\\n   }\\n ]\\n}\\n'\n"
     ]
    }
   ],
   "source": [
    "print(request_data_of_pmid)"
   ]
  },
  {
   "cell_type": "code",
   "execution_count": 27,
   "metadata": {},
   "outputs": [],
   "source": [
    "result_of_pmid_as_dict = doi_data = json.loads(request_data_of_pmid)"
   ]
  },
  {
   "cell_type": "code",
   "execution_count": 28,
   "metadata": {},
   "outputs": [
    {
     "data": {
      "text/plain": [
       "{'status': 'ok',\n",
       " 'responseDate': '2019-05-18 10:16:27',\n",
       " 'request': 'ids=25653839;format=json',\n",
       " 'warning': 'no e-mail provided; no tool provided',\n",
       " 'records': [{'pmcid': 'PMC4304228',\n",
       "   'pmid': '25653839',\n",
       "   'doi': '10.12688/f1000research.5686.1',\n",
       "   'versions': [{'pmcid': 'PMC4304228.1'},\n",
       "    {'pmcid': 'PMC4304228.2', 'current': 'true'}]}]}"
      ]
     },
     "execution_count": 28,
     "metadata": {},
     "output_type": "execute_result"
    }
   ],
   "source": [
    "result_of_pmid_as_dict"
   ]
  },
  {
   "cell_type": "code",
   "execution_count": 29,
   "metadata": {},
   "outputs": [
    {
     "data": {
      "text/plain": [
       "'10.12688/f1000research.5686.1'"
      ]
     },
     "execution_count": 29,
     "metadata": {},
     "output_type": "execute_result"
    }
   ],
   "source": [
    "result_of_pmid_as_dict[\"records\"][0][\"doi\"]"
   ]
  },
  {
   "cell_type": "markdown",
   "metadata": {},
   "source": [
    "### DOI to PubMed ID"
   ]
  },
  {
   "cell_type": "code",
   "execution_count": 30,
   "metadata": {},
   "outputs": [],
   "source": [
    "doi = \"10.12688/f1000research.15334.1\"\n",
    "full_url = f\"{base_url}?ids={doi}&format={result_format}\"\n",
    "request_data_of_doi = urllib.request.urlopen(full_url).read()"
   ]
  },
  {
   "cell_type": "code",
   "execution_count": 31,
   "metadata": {},
   "outputs": [
    {
     "name": "stdout",
     "output_type": "stream",
     "text": [
      "b'{\\n \"status\": \"ok\",\\n \"responseDate\": \"2019-05-18 10:16:29\",\\n \"request\": \"ids=10.12688%2Ff1000research.15334.1;format=json\",\\n \"warning\": \"no e-mail provided; no tool provided\",\\n \"records\": [\\n   {\\n    \"pmcid\": \"PMC6073088\",\\n    \"pmid\": \"30135731\",\\n    \"doi\": \"10.12688/f1000research.15334.1\",\\n    \"versions\": [\\n      {\\n       \"pmcid\": \"PMC6073088.1\",\\n       \"current\": \"true\"\\n      }\\n    ]\\n   }\\n ]\\n}\\n'\n"
     ]
    }
   ],
   "source": [
    "print(request_data_of_doi)"
   ]
  },
  {
   "cell_type": "code",
   "execution_count": 32,
   "metadata": {},
   "outputs": [],
   "source": [
    "result_of_doi_as_dict = doi_data = json.loads(request_data_of_doi)"
   ]
  },
  {
   "cell_type": "code",
   "execution_count": 33,
   "metadata": {},
   "outputs": [
    {
     "data": {
      "text/plain": [
       "{'status': 'ok',\n",
       " 'responseDate': '2019-05-18 10:16:29',\n",
       " 'request': 'ids=10.12688%2Ff1000research.15334.1;format=json',\n",
       " 'warning': 'no e-mail provided; no tool provided',\n",
       " 'records': [{'pmcid': 'PMC6073088',\n",
       "   'pmid': '30135731',\n",
       "   'doi': '10.12688/f1000research.15334.1',\n",
       "   'versions': [{'pmcid': 'PMC6073088.1', 'current': 'true'}]}]}"
      ]
     },
     "execution_count": 33,
     "metadata": {},
     "output_type": "execute_result"
    }
   ],
   "source": [
    "result_of_doi_as_dict"
   ]
  },
  {
   "cell_type": "code",
   "execution_count": 34,
   "metadata": {},
   "outputs": [
    {
     "data": {
      "text/plain": [
       "'30135731'"
      ]
     },
     "execution_count": 34,
     "metadata": {},
     "output_type": "execute_result"
    }
   ],
   "source": [
    "result_of_doi_as_dict[\"records\"][0][\"pmid\"]"
   ]
  },
  {
   "cell_type": "code",
   "execution_count": null,
   "metadata": {},
   "outputs": [],
   "source": []
  }
 ],
 "metadata": {
  "kernelspec": {
   "display_name": "Python 3",
   "language": "python",
   "name": "python3"
  },
  "language_info": {
   "codemirror_mode": {
    "name": "ipython",
    "version": 3
   },
   "file_extension": ".py",
   "mimetype": "text/x-python",
   "name": "python",
   "nbconvert_exporter": "python",
   "pygments_lexer": "ipython3",
   "version": "3.7.3"
  }
 },
 "nbformat": 4,
 "nbformat_minor": 2
}
