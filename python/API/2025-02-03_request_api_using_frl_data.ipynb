{
 "cells": [
  {
   "cell_type": "markdown",
   "id": "59651ce4-b20f-47c5-b3a1-3b9fb6ce3b84",
   "metadata": {},
   "source": [
    "# Request API"
   ]
  },
  {
   "cell_type": "code",
   "execution_count": 1,
   "id": "20e8bb52-e1a9-4cd7-b78e-1b6af11f7034",
   "metadata": {},
   "outputs": [],
   "source": [
    "import urllib.request # Option 1 (1/2)\n",
    "import json # Option 1 (2/2), if this fails use:\n",
    "import requests as rq # Option 2"
   ]
  },
  {
   "cell_type": "markdown",
   "id": "008ed1e1",
   "metadata": {},
   "source": [
    "## Get data"
   ]
  },
  {
   "cell_type": "code",
   "execution_count": 2,
   "id": "77f551f7-8ede-416f-9649-392148bc6102",
   "metadata": {},
   "outputs": [],
   "source": [
    "# set parts of url that will be requested\n",
    "url_base = \"https://frl.publisso.de/resource/\"\n",
    "frlId = \"frl:6484075\"\n",
    "url_tail = \".json2\""
   ]
  },
  {
   "cell_type": "code",
   "execution_count": 3,
   "id": "6f6462dd",
   "metadata": {},
   "outputs": [
    {
     "data": {
      "text/plain": [
       "'https://frl.publisso.de/resource/frl:6484075.json2'"
      ]
     },
     "execution_count": 3,
     "metadata": {},
     "output_type": "execute_result"
    }
   ],
   "source": [
    "# form full url and print it\n",
    "full_url = url_base + frlId + url_tail\n",
    "full_url"
   ]
  },
  {
   "cell_type": "code",
   "execution_count": 4,
   "id": "4d679eea-93e7-4acf-aa2e-4472cb310cec",
   "metadata": {},
   "outputs": [
    {
     "data": {
      "text/plain": [
       "{'@context': 'https://frl.publisso.de/context.json',\n",
       " '@id': 'frl:6484075',\n",
       " 'accessScheme': 'public',\n",
       " 'catalogId': 'ED6484075',\n",
       " 'contentType': 'file',\n",
       " 'hasData': {'@id': 'frl:6484075/data',\n",
       "  'checksum': {'checksumValue': '5dd21678859e0bf0de6949f479b22769',\n",
       "   'generator': 'http://en.wikipedia.org/wiki/MD5',\n",
       "   'rdftype': 'http://downlode.org/Code/RDF/File_Properties/schema#Checksum'},\n",
       "  'fileLabel': 'Food Science   Nutrition - 2024 - Saffarian - Antioxidant and antimicrobial effect of sodium alginate nanoemulsion coating.pdf',\n",
       "  'format': 'application/pdf',\n",
       "  'size': 447913},\n",
       " 'isDescribedBy': {'@id': 'frl:6484075.rdf',\n",
       "  'created': '2024-09-04T10:54:56.751+0200',\n",
       "  'createdBy': '286',\n",
       "  'describes': 'frl:6484075',\n",
       "  'lastModifiedBy': '286',\n",
       "  'modified': '2024-09-04T10:57:34.784+0200',\n",
       "  'name': 'frl:6484075',\n",
       "  'objectTimestamp': '2024-09-04T08:56:16.000+0000'},\n",
       " 'isMemberOf': [{'prefLabel': 'info:fedora/oai:file',\n",
       "   '@id': 'info:fedora/oai:file'},\n",
       "  {'prefLabel': 'info:fedora/oai:open_access',\n",
       "   '@id': 'info:fedora/oai:open_access'}],\n",
       " 'itemID': [{'prefLabel': 'oai:frl.publisso.de:frl:6484075',\n",
       "   '@id': 'oai:frl.publisso.de:frl:6484075'}],\n",
       " 'parentPid': 'frl:6484074',\n",
       " 'primaryTopic': 'frl:6484075',\n",
       " 'publishScheme': 'public',\n",
       " 'rdftype': [{}],\n",
       " 'title': ['Antioxidant and antimicrobial effect of sodium alginate nanoemulsion coating enriched with oregano essential oil (Origanum vulgare L.) and Trachyspermum ammi oil (Carum cupticum) on food pathogenic bacteria']}"
      ]
     },
     "execution_count": 4,
     "metadata": {},
     "output_type": "execute_result"
    }
   ],
   "source": [
    "# Option 1\n",
    "# request url, load data into a json dict and show data\n",
    "dataset = urllib.request.urlopen(full_url).read()\n",
    "json_data_file = json.loads(dataset)\n",
    "json_data_file"
   ]
  },
  {
   "cell_type": "code",
   "execution_count": 5,
   "id": "1b397d41",
   "metadata": {},
   "outputs": [
    {
     "data": {
      "text/plain": [
       "'\\ndataset = rq.get(full_url)\\njson_data_file = dataset.json()\\njson_data_file\\n'"
      ]
     },
     "execution_count": 5,
     "metadata": {},
     "output_type": "execute_result"
    }
   ],
   "source": [
    "# Option 2\n",
    "# request url, load data into a json dict and show data\n",
    "\n",
    "\"\"\"\n",
    "dataset = rq.get(full_url)\n",
    "json_data_file = dataset.json()\n",
    "json_data_file\n",
    "\"\"\"\n",
    "\n",
    "# note, short version: json_data_file = rq.get(full_url).json()"
   ]
  },
  {
   "cell_type": "markdown",
   "id": "4ed79d1b",
   "metadata": {},
   "source": [
    "## Analyze data"
   ]
  },
  {
   "cell_type": "code",
   "execution_count": 6,
   "id": "7c364a6d-1a54-410f-8fa5-0d9ffe499dcd",
   "metadata": {},
   "outputs": [
    {
     "data": {
      "text/plain": [
       "dict"
      ]
     },
     "execution_count": 6,
     "metadata": {},
     "output_type": "execute_result"
    }
   ],
   "source": [
    "# show type of data\n",
    "type(json_data_file)"
   ]
  },
  {
   "cell_type": "code",
   "execution_count": 7,
   "id": "f9c20212-0767-4e16-bb2f-a2c61eeac57c",
   "metadata": {},
   "outputs": [
    {
     "data": {
      "text/plain": [
       "dict_keys(['@context', '@id', 'accessScheme', 'catalogId', 'contentType', 'hasData', 'isDescribedBy', 'isMemberOf', 'itemID', 'parentPid', 'primaryTopic', 'publishScheme', 'rdftype', 'title'])"
      ]
     },
     "execution_count": 7,
     "metadata": {},
     "output_type": "execute_result"
    }
   ],
   "source": [
    "# show keys of dict\n",
    "json_data_file.keys()"
   ]
  },
  {
   "cell_type": "code",
   "execution_count": 8,
   "id": "eba9a232-6c85-4924-80c2-116d6ef412ff",
   "metadata": {},
   "outputs": [
    {
     "data": {
      "text/plain": [
       "dict_keys(['@id', 'checksum', 'fileLabel', 'format', 'size'])"
      ]
     },
     "execution_count": 8,
     "metadata": {},
     "output_type": "execute_result"
    }
   ],
   "source": [
    "# show sub-keys of \"hasData\"\n",
    "json_data_file[\"hasData\"].keys()"
   ]
  },
  {
   "cell_type": "code",
   "execution_count": 9,
   "id": "c095b5b8-995f-4b8a-86c7-813a6ec6a963",
   "metadata": {},
   "outputs": [
    {
     "data": {
      "text/plain": [
       "{'@id': 'frl:6484075/data',\n",
       " 'checksum': {'checksumValue': '5dd21678859e0bf0de6949f479b22769',\n",
       "  'generator': 'http://en.wikipedia.org/wiki/MD5',\n",
       "  'rdftype': 'http://downlode.org/Code/RDF/File_Properties/schema#Checksum'},\n",
       " 'fileLabel': 'Food Science   Nutrition - 2024 - Saffarian - Antioxidant and antimicrobial effect of sodium alginate nanoemulsion coating.pdf',\n",
       " 'format': 'application/pdf',\n",
       " 'size': 447913}"
      ]
     },
     "execution_count": 9,
     "metadata": {},
     "output_type": "execute_result"
    }
   ],
   "source": [
    "# show content of first-level-key \"hasData\"\n",
    "json_data_file[\"hasData\"]"
   ]
  },
  {
   "cell_type": "code",
   "execution_count": 10,
   "id": "fdab9ad2-0fd3-476c-ae52-f0fd46f2bf43",
   "metadata": {},
   "outputs": [
    {
     "data": {
      "text/plain": [
       "447913"
      ]
     },
     "execution_count": 10,
     "metadata": {},
     "output_type": "execute_result"
    }
   ],
   "source": [
    "# show content of sub-key \"size\"\n",
    "json_data_file[\"hasData\"][\"size\"]"
   ]
  },
  {
   "cell_type": "code",
   "execution_count": 11,
   "id": "c42b1b4d-48fa-45b8-bb4f-b2ab69b94818",
   "metadata": {},
   "outputs": [
    {
     "name": "stdout",
     "output_type": "stream",
     "text": [
      "Antioxidant and antimicrobial effect of sodium alginate nanoemulsion coating enriched with oregano essential oil (Origanum vulgare L.) and Trachyspermum ammi oil (Carum cupticum) on food pathogenic bacteria\n"
     ]
    }
   ],
   "source": [
    "# show only first postition of a list\n",
    "print(json_data_file[\"title\"][0])"
   ]
  },
  {
   "cell_type": "markdown",
   "id": "27bcaf12-c5f8-4584-83f4-47bccaae6c9c",
   "metadata": {},
   "source": [
    "## Exercise: get parent metadata using \"parentPid\" of file data level"
   ]
  },
  {
   "cell_type": "code",
   "execution_count": 12,
   "id": "79ecb5b6",
   "metadata": {},
   "outputs": [
    {
     "data": {
      "text/plain": [
       "{'@context': 'https://frl.publisso.de/context.json',\n",
       " '@id': 'frl:6484074',\n",
       " 'abstractText': ['Today, microbial contamination in food is one of the major problems of the food industry and public health in general around the world. Foodborne illnesses, such as diarrheal diseases, kill many people around the world each year. The general objective of this study was to evaluate the antioxidant and antibacterial activity of sodium alginate nanoemulsion coating incorporated with oregano essential oil (Origanum vulgare L.) and Trachyspermum ammi oil (Carum cupticum) on Escherichia coli, and Listeria monocytogenes. To achieve this study, fresh chicken meat was used for this experiment. Listeria monocytogenes ATCC 19111 and Escherichia coli ATCC 35218 were obtained from the American Type Culture Collection (Manassas, VA, USA). After the preparation of the essential oil, the chemical composition of this essential oil was determined by using (GC–MS). The physicochemical properties of the nanoemulsion essential oil prepared were characterized and their antimicrobial activity was evaluated. The results showed that the GC–MS analysis of the volatile constituents of the Origanum vulgare essential oil compounds allowed the identification of 19 compounds representing 93.72% of the total oil. The major components detected in Origanum vulgare essential oil were pulegone (49.25%), eucalyptol (18.23%), and menthone (12.37%). About the Carum cupticum essential oil, 21 compounds representing 98.5% of the total oil were identified. The major components detected in Origanum vulgare essential oil were thymol (23.3%), p-cymene (17.5%), and γ-terpinene (16.8%). The best z-average (d.nm) is 483.4\\u2009nm (Carum cupticum essential oil + nano) followed by 470.1\\u2009nm (nanochitosan). The results of the antimicrobial test showed that the different preparations have a good inhibitory activity for the in vitro growth of Escherichia coli and Listeria monocytogenes. According to the MIC and MBC results of this study, the nanoemulsion also presented a good bacteriostatic activity against the two pathogenic bacteria tested in this study.'],\n",
       " 'accessScheme': 'public',\n",
       " 'bibliographicCitation': ['12(4):2985-2997'],\n",
       " 'catalogId': 'ED6484074',\n",
       " 'containedIn': [{'@id': 'http://lobid.org/resources/990194578140206441#!',\n",
       "   'prefLabel': 'Food Science & Nutrition'}],\n",
       " 'contentType': 'article',\n",
       " 'contributorOrder': ['https://frl.publisso.de/adhoc/uri/U2FmZmFyaWFuLCBIYXNoZW0=|https://orcid.org/0000-0002-6451-2297|https://orcid.org/0000-0003-0678-2528|https://frl.publisso.de/adhoc/uri/SGFzaGVtaSBEZWhrb3JkaSwgU2V5ZWQgTWFqaWQ='],\n",
       " 'creator': [{'@id': 'https://frl.publisso.de/adhoc/uri/U2FmZmFyaWFuLCBIYXNoZW0=',\n",
       "   'prefLabel': 'Saffarian, Hashem'},\n",
       "  {'@id': 'https://orcid.org/0000-0002-6451-2297',\n",
       "   'prefLabel': 'Rahimi, Ebrahim'},\n",
       "  {'@id': 'https://orcid.org/0000-0003-0678-2528',\n",
       "   'prefLabel': 'Khamesipour, Faham'},\n",
       "  {'@id': 'https://frl.publisso.de/adhoc/uri/SGFzaGVtaSBEZWhrb3JkaSwgU2V5ZWQgTWFqaWQ=',\n",
       "   'prefLabel': 'Hashemi Dehkordi, Seyed Majid'}],\n",
       " 'ddc': [{'@id': 'http://dewey.info/class/641/',\n",
       "   'prefLabel': 'Essen und Trinken'},\n",
       "  {'@id': 'http://dewey.info/class/664/',\n",
       "   'prefLabel': 'Lebensmitteltechnologie'}],\n",
       " 'fundingProgram': ['-'],\n",
       " 'hasPart': [{'prefLabel': 'Antioxidant and antimicrobial effect of sodium alginate nanoemulsion coating enriched with oregano essential oil (Origanum vulgare L.) and Trachyspermum ammi oil (Carum cupticum) on food pathogenic bacteria',\n",
       "   '@id': 'frl:6484075'}],\n",
       " 'isDescribedBy': {'@id': 'frl:6484074.rdf',\n",
       "  'created': '2024-09-04T10:54:04.320+0200',\n",
       "  'createdBy': '286',\n",
       "  'describes': 'frl:6484074',\n",
       "  'lastModifiedBy': '286',\n",
       "  'modified': '2024-09-04T10:57:24.205+0200',\n",
       "  'objectTimestamp': '2024-09-04T08:56:23.000+0000'},\n",
       " 'isMemberOf': [{'prefLabel': 'info:fedora/oai:article',\n",
       "   '@id': 'info:fedora/oai:article'},\n",
       "  {'prefLabel': 'info:fedora/oai:open_access',\n",
       "   '@id': 'info:fedora/oai:open_access'}],\n",
       " 'isPrimaryTopicOf': [{'@id': 'frl:6484074.rdf',\n",
       "   'prefLabel': 'frl:6484074.rdf',\n",
       "   'primaryTopic': 'frl:6484074'}],\n",
       " 'issued': '2024',\n",
       " 'itemID': [{'prefLabel': 'oai:frl.publisso.de:frl:6484074',\n",
       "   '@id': 'oai:frl.publisso.de:frl:6484074'}],\n",
       " 'language': [{'@id': 'http://id.loc.gov/vocabulary/iso639-2/eng',\n",
       "   'prefLabel': 'Englisch'}],\n",
       " 'license': [{'@id': 'https://creativecommons.org/licenses/by/4.0/',\n",
       "   'prefLabel': 'https://creativecommons.org/licenses/by/4.0/'}],\n",
       " 'prefLabel': ['frl:6484074'],\n",
       " 'primaryTopic': 'frl:6484074',\n",
       " 'projectId': ['-'],\n",
       " 'publicationStatus': [{'@id': 'http://hbz-nrw.de/regal#original',\n",
       "   'prefLabel': 'Postprint Verlagsversion'}],\n",
       " 'publicationYear': ['2024-02-16'],\n",
       " 'publishScheme': 'public',\n",
       " 'publisherVersion': [{'@id': 'https://doi.org/10.1002/fsn3.3979',\n",
       "   'prefLabel': 'https://doi.org/10.1002/fsn3.3979'}],\n",
       " 'rdftype': [{'prefLabel': 'Artikel',\n",
       "   '@id': 'http://purl.org/ontology/bibo/Article'}],\n",
       " 'reviewStatus': [{'@id': 'http://hbz-nrw.de/regal#peerReviewed',\n",
       "   'prefLabel': 'begutachtet (Peer-reviewed)'}],\n",
       " 'subject': [{'@id': 'https://frl.publisso.de/adhoc/uri/ZXNzZW50aWFsIG9pbA==',\n",
       "   'prefLabel': 'essential oil'},\n",
       "  {'@id': 'https://frl.publisso.de/adhoc/uri/Q2FydW0gY3VwdGljdW0=',\n",
       "   'prefLabel': 'Carum cupticum'},\n",
       "  {'@id': 'https://frl.publisso.de/adhoc/uri/T3JpZ2FudW0gdnVsZ2FyZQ==',\n",
       "   'prefLabel': 'Origanum vulgare'},\n",
       "  {'@id': 'https://frl.publisso.de/adhoc/uri/Zm9vZCBzYWZldHkgYW5kIGFudGltaWNyb2JpYWwgcmVzaXN0YW5jZQ==',\n",
       "   'prefLabel': 'food safety and antimicrobial resistance'}],\n",
       " 'title': ['Antioxidant and antimicrobial effect of sodium alginate nanoemulsion coating enriched with oregano essential oil (Origanum vulgare L.) and Trachyspermum ammi oil (Carum cupticum) on food pathogenic bacteria'],\n",
       " 'transformer': ['mets', 'mods', 'oaidc', 'openaire', 'rdf'],\n",
       " 'yearOfCopyright': ['2024']}"
      ]
     },
     "execution_count": 12,
     "metadata": {},
     "output_type": "execute_result"
    }
   ],
   "source": [
    "# Solution:\n",
    "\n",
    "frlId_parent = json_data_file[\"parentPid\"]\n",
    "full_url_parent = url_base + frlId_parent + url_tail\n",
    "\n",
    "dataset_parent = urllib.request.urlopen(full_url_parent).read()\n",
    "json_data_parent = json.loads(dataset_parent)\n",
    "json_data_parent"
   ]
  },
  {
   "cell_type": "code",
   "execution_count": 13,
   "id": "27d058f6",
   "metadata": {},
   "outputs": [
    {
     "data": {
      "text/plain": [
       "dict_keys(['@id', 'prefLabel'])"
      ]
     },
     "execution_count": 13,
     "metadata": {},
     "output_type": "execute_result"
    }
   ],
   "source": [
    "# access keys from creators list\n",
    "json_data_parent[\"creator\"][0].keys()"
   ]
  },
  {
   "cell_type": "code",
   "execution_count": 14,
   "id": "927adc66",
   "metadata": {},
   "outputs": [
    {
     "name": "stdout",
     "output_type": "stream",
     "text": [
      "Saffarian, Hashem\n"
     ]
    }
   ],
   "source": [
    "# access name of first creator\n",
    "print(json_data_parent[\"creator\"][0][\"prefLabel\"])"
   ]
  },
  {
   "cell_type": "code",
   "execution_count": 15,
   "id": "886485ea",
   "metadata": {},
   "outputs": [
    {
     "name": "stdout",
     "output_type": "stream",
     "text": [
      "Rahimi, Ebrahim\n"
     ]
    }
   ],
   "source": [
    "# access next creator\n",
    "print(json_data_parent[\"creator\"][1][\"prefLabel\"])"
   ]
  },
  {
   "cell_type": "code",
   "execution_count": 16,
   "id": "e68875de",
   "metadata": {},
   "outputs": [
    {
     "name": "stdout",
     "output_type": "stream",
     "text": [
      "https://orcid.org/0000-0002-6451-2297\n"
     ]
    }
   ],
   "source": [
    "# access id (orcid)\n",
    "print(json_data_parent[\"creator\"][1][\"@id\"])"
   ]
  },
  {
   "cell_type": "code",
   "execution_count": 17,
   "id": "e3e40e2e",
   "metadata": {},
   "outputs": [
    {
     "name": "stdout",
     "output_type": "stream",
     "text": [
      "Saffarian, Hashem\n",
      "Rahimi, Ebrahim\n",
      "Khamesipour, Faham\n",
      "Hashemi Dehkordi, Seyed Majid\n"
     ]
    }
   ],
   "source": [
    "# show list of all author names\n",
    "for item in json_data_parent[\"creator\"]:\n",
    "    print(item[\"prefLabel\"])"
   ]
  },
  {
   "cell_type": "code",
   "execution_count": 18,
   "id": "6ef31e72",
   "metadata": {},
   "outputs": [
    {
     "name": "stdout",
     "output_type": "stream",
     "text": [
      "Khamesipour, Faham\n"
     ]
    }
   ],
   "source": [
    "# show only authors that have the name \"Faham\"\n",
    "for item in json_data_parent[\"creator\"]:\n",
    "    if \"Faham\" in item[\"prefLabel\"]:\n",
    "        print(item[\"prefLabel\"])"
   ]
  },
  {
   "cell_type": "code",
   "execution_count": 19,
   "id": "68cb174f",
   "metadata": {},
   "outputs": [
    {
     "name": "stdout",
     "output_type": "stream",
     "text": [
      "1 Saffarian, Hashem\n",
      "2 Rahimi, Ebrahim https://orcid.org/0000-0002-6451-2297\n",
      "3 Khamesipour, Faham https://orcid.org/0000-0003-0678-2528\n",
      "4 Hashemi Dehkordi, Seyed Majid\n"
     ]
    }
   ],
   "source": [
    "# show names, orcids - only if given - and add a counter\n",
    "\n",
    "counter = 0\n",
    "\n",
    "for item in json_data_parent[\"creator\"]:\n",
    "\n",
    "    counter = counter + 1\n",
    "    \n",
    "    if \"orcid\" in item[\"@id\"]:\n",
    "        print(counter, item[\"prefLabel\"], item[\"@id\"])\n",
    "    else:\n",
    "        print(counter, item[\"prefLabel\"])"
   ]
  }
 ],
 "metadata": {
  "kernelspec": {
   "display_name": "base",
   "language": "python",
   "name": "python3"
  },
  "language_info": {
   "codemirror_mode": {
    "name": "ipython",
    "version": 3
   },
   "file_extension": ".py",
   "mimetype": "text/x-python",
   "name": "python",
   "nbconvert_exporter": "python",
   "pygments_lexer": "ipython3",
   "version": "3.12.4"
  }
 },
 "nbformat": 4,
 "nbformat_minor": 5
}
