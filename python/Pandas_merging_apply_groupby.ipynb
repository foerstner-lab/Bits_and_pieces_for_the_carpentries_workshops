{
 "cells": [
  {
   "cell_type": "code",
   "execution_count": 3,
   "id": "8896320f-30ac-431b-a2fa-f82ddd82a3f3",
   "metadata": {},
   "outputs": [],
   "source": [
    "import pandas as pd"
   ]
  },
  {
   "cell_type": "markdown",
   "id": "dcb15852-9319-4a28-913d-f328a2680b05",
   "metadata": {},
   "source": [
    "## Merge Dataframes\n",
    "Wir erstellen zwei DataFrames einer enthält DOIs und den Namen des Journals der andere DOIs und den first author.\n",
    "\n",
    "Manche DOIs befinden sich in beiden Dataframes, andere nur in Einem.\n",
    "\n",
    "Wir möchten die Dataframes anhand der DOIs zusammenführen."
   ]
  },
  {
   "cell_type": "code",
   "execution_count": 4,
   "id": "0bae24a6-f560-42f7-b416-ac736301567b",
   "metadata": {},
   "outputs": [],
   "source": [
    "doi_df_journal = pd.DataFrame({\n",
    "    \"DOI\": [\n",
    "        \"10.1371/journal.pcbi.1004668\",\n",
    "        \"10.21105/joss.01035\",\n",
    "        \"10.12688/f1000research.18866.2\",\n",
    "        \"10.1038/s41598-019-52881-4\",\n",
    "        \"10.1186/s12859-019-3171-0\"],\n",
    "    \"journal\": [\n",
    "        \"PLoS Comput Biol\",\n",
    "        \"JOSS\",\n",
    "        \"F1000Res\",\n",
    "        \"Sci Rep\",\n",
    "        \"BMC Bioinformatics\"]})\n",
    "\n",
    "doi_df_first_author = pd.DataFrame({\n",
    "    \"DOI\": [\n",
    "        \"10.1371/journal.pcbi.1004668\",\n",
    "        \"10.21105/joss.01035\",\n",
    "        \"10.21105/joss.01006\",\n",
    "        \"10.12688/f1000research.18866.2\",\n",
    "        \"10.1186/s12859-019-3171-0\"],\n",
    "    \"first_author\": [\n",
    "        \"Blischak\",\n",
    "        \"Sparks\",\n",
    "        \"Granger\",\n",
    "        \"Thang\",\n",
    "        \"Chen\"]})"
   ]
  },
  {
   "cell_type": "code",
   "execution_count": 5,
   "id": "a2652909-9b2a-4d73-bb9c-b3f0fc600923",
   "metadata": {},
   "outputs": [
    {
     "data": {
      "text/html": [
       "<div>\n",
       "<style scoped>\n",
       "    .dataframe tbody tr th:only-of-type {\n",
       "        vertical-align: middle;\n",
       "    }\n",
       "\n",
       "    .dataframe tbody tr th {\n",
       "        vertical-align: top;\n",
       "    }\n",
       "\n",
       "    .dataframe thead th {\n",
       "        text-align: right;\n",
       "    }\n",
       "</style>\n",
       "<table border=\"1\" class=\"dataframe\">\n",
       "  <thead>\n",
       "    <tr style=\"text-align: right;\">\n",
       "      <th></th>\n",
       "      <th>DOI</th>\n",
       "      <th>first_author</th>\n",
       "    </tr>\n",
       "  </thead>\n",
       "  <tbody>\n",
       "    <tr>\n",
       "      <th>0</th>\n",
       "      <td>10.1371/journal.pcbi.1004668</td>\n",
       "      <td>Blischak</td>\n",
       "    </tr>\n",
       "    <tr>\n",
       "      <th>1</th>\n",
       "      <td>10.21105/joss.01035</td>\n",
       "      <td>Sparks</td>\n",
       "    </tr>\n",
       "    <tr>\n",
       "      <th>2</th>\n",
       "      <td>10.21105/joss.01006</td>\n",
       "      <td>Granger</td>\n",
       "    </tr>\n",
       "    <tr>\n",
       "      <th>3</th>\n",
       "      <td>10.12688/f1000research.18866.2</td>\n",
       "      <td>Thang</td>\n",
       "    </tr>\n",
       "    <tr>\n",
       "      <th>4</th>\n",
       "      <td>10.1186/s12859-019-3171-0</td>\n",
       "      <td>Chen</td>\n",
       "    </tr>\n",
       "  </tbody>\n",
       "</table>\n",
       "</div>"
      ],
      "text/plain": [
       "                              DOI first_author\n",
       "0    10.1371/journal.pcbi.1004668     Blischak\n",
       "1             10.21105/joss.01035       Sparks\n",
       "2             10.21105/joss.01006      Granger\n",
       "3  10.12688/f1000research.18866.2        Thang\n",
       "4       10.1186/s12859-019-3171-0         Chen"
      ]
     },
     "execution_count": 5,
     "metadata": {},
     "output_type": "execute_result"
    }
   ],
   "source": [
    "doi_df_first_author"
   ]
  },
  {
   "cell_type": "code",
   "execution_count": 7,
   "id": "fa054178-8730-44f2-909b-5fa28323ddb7",
   "metadata": {},
   "outputs": [
    {
     "data": {
      "text/html": [
       "<div>\n",
       "<style scoped>\n",
       "    .dataframe tbody tr th:only-of-type {\n",
       "        vertical-align: middle;\n",
       "    }\n",
       "\n",
       "    .dataframe tbody tr th {\n",
       "        vertical-align: top;\n",
       "    }\n",
       "\n",
       "    .dataframe thead th {\n",
       "        text-align: right;\n",
       "    }\n",
       "</style>\n",
       "<table border=\"1\" class=\"dataframe\">\n",
       "  <thead>\n",
       "    <tr style=\"text-align: right;\">\n",
       "      <th></th>\n",
       "      <th>DOI</th>\n",
       "      <th>journal</th>\n",
       "    </tr>\n",
       "  </thead>\n",
       "  <tbody>\n",
       "    <tr>\n",
       "      <th>0</th>\n",
       "      <td>10.1371/journal.pcbi.1004668</td>\n",
       "      <td>PLoS Comput Biol</td>\n",
       "    </tr>\n",
       "    <tr>\n",
       "      <th>1</th>\n",
       "      <td>10.21105/joss.01035</td>\n",
       "      <td>JOSS</td>\n",
       "    </tr>\n",
       "    <tr>\n",
       "      <th>2</th>\n",
       "      <td>10.12688/f1000research.18866.2</td>\n",
       "      <td>F1000Res</td>\n",
       "    </tr>\n",
       "    <tr>\n",
       "      <th>3</th>\n",
       "      <td>10.1038/s41598-019-52881-4</td>\n",
       "      <td>Sci Rep</td>\n",
       "    </tr>\n",
       "    <tr>\n",
       "      <th>4</th>\n",
       "      <td>10.1186/s12859-019-3171-0</td>\n",
       "      <td>BMC Bioinformatics</td>\n",
       "    </tr>\n",
       "  </tbody>\n",
       "</table>\n",
       "</div>"
      ],
      "text/plain": [
       "                              DOI             journal\n",
       "0    10.1371/journal.pcbi.1004668    PLoS Comput Biol\n",
       "1             10.21105/joss.01035                JOSS\n",
       "2  10.12688/f1000research.18866.2            F1000Res\n",
       "3      10.1038/s41598-019-52881-4             Sci Rep\n",
       "4       10.1186/s12859-019-3171-0  BMC Bioinformatics"
      ]
     },
     "execution_count": 7,
     "metadata": {},
     "output_type": "execute_result"
    }
   ],
   "source": [
    "doi_df_journal"
   ]
  },
  {
   "cell_type": "markdown",
   "id": "bf4bfbc7-43f7-4029-8396-e353023ae4ff",
   "metadata": {},
   "source": [
    "### Merge left\n",
    "Es werden alle DOIs aufgeführt, die sich im linken bzw. erstgeschriebenen Dataframe befinden.\n",
    "\n",
    "Falls der rechte bzw. zweite Dataframe die DOI des linken nicht besitzt wird in den Spalten des rechten \"NaN\" statt eines Wertes eingefügt."
   ]
  },
  {
   "cell_type": "code",
   "execution_count": 9,
   "id": "2e174f54-c827-4e08-a561-eb097cde66b5",
   "metadata": {},
   "outputs": [
    {
     "data": {
      "text/html": [
       "<div>\n",
       "<style scoped>\n",
       "    .dataframe tbody tr th:only-of-type {\n",
       "        vertical-align: middle;\n",
       "    }\n",
       "\n",
       "    .dataframe tbody tr th {\n",
       "        vertical-align: top;\n",
       "    }\n",
       "\n",
       "    .dataframe thead th {\n",
       "        text-align: right;\n",
       "    }\n",
       "</style>\n",
       "<table border=\"1\" class=\"dataframe\">\n",
       "  <thead>\n",
       "    <tr style=\"text-align: right;\">\n",
       "      <th></th>\n",
       "      <th>DOI</th>\n",
       "      <th>first_author</th>\n",
       "      <th>journal</th>\n",
       "    </tr>\n",
       "  </thead>\n",
       "  <tbody>\n",
       "    <tr>\n",
       "      <th>0</th>\n",
       "      <td>10.1371/journal.pcbi.1004668</td>\n",
       "      <td>Blischak</td>\n",
       "      <td>PLoS Comput Biol</td>\n",
       "    </tr>\n",
       "    <tr>\n",
       "      <th>1</th>\n",
       "      <td>10.21105/joss.01035</td>\n",
       "      <td>Sparks</td>\n",
       "      <td>JOSS</td>\n",
       "    </tr>\n",
       "    <tr>\n",
       "      <th>2</th>\n",
       "      <td>10.21105/joss.01006</td>\n",
       "      <td>Granger</td>\n",
       "      <td>NaN</td>\n",
       "    </tr>\n",
       "    <tr>\n",
       "      <th>3</th>\n",
       "      <td>10.12688/f1000research.18866.2</td>\n",
       "      <td>Thang</td>\n",
       "      <td>F1000Res</td>\n",
       "    </tr>\n",
       "    <tr>\n",
       "      <th>4</th>\n",
       "      <td>10.1186/s12859-019-3171-0</td>\n",
       "      <td>Chen</td>\n",
       "      <td>BMC Bioinformatics</td>\n",
       "    </tr>\n",
       "  </tbody>\n",
       "</table>\n",
       "</div>"
      ],
      "text/plain": [
       "                              DOI first_author             journal\n",
       "0    10.1371/journal.pcbi.1004668     Blischak    PLoS Comput Biol\n",
       "1             10.21105/joss.01035       Sparks                JOSS\n",
       "2             10.21105/joss.01006      Granger                 NaN\n",
       "3  10.12688/f1000research.18866.2        Thang            F1000Res\n",
       "4       10.1186/s12859-019-3171-0         Chen  BMC Bioinformatics"
      ]
     },
     "execution_count": 9,
     "metadata": {},
     "output_type": "execute_result"
    }
   ],
   "source": [
    "doi_df_first_author.merge(doi_df_journal, on=\"DOI\", how=\"left\")"
   ]
  },
  {
   "cell_type": "markdown",
   "id": "6d20b4e3-a38a-450b-8ab0-1349cf45937b",
   "metadata": {},
   "source": [
    "In diesem Fall wird bei Granger ein NaN im Journal angezeigt und wir sehen auch nicht das journal Sci Rep, da die DOI nur im rechten DataFrame vorkommt"
   ]
  },
  {
   "cell_type": "markdown",
   "id": "28862079-cb13-4567-a849-4067cfc89147",
   "metadata": {},
   "source": [
    "### Merge right\n",
    "Es werden alle DOIs aufgeführt, die sich im rechten bzw. zweitgeschriebenen Dataframe befinden.\n",
    "\n",
    "Falls der linke bzw. erste Dataframe die DOI des rechten nicht besitzt wird in den Spalten des linken \"NaN\" statt eines Wertes eingefügt."
   ]
  },
  {
   "cell_type": "code",
   "execution_count": 10,
   "id": "95301752-c6cf-460c-8da4-05fe0dc0cf81",
   "metadata": {},
   "outputs": [
    {
     "data": {
      "text/html": [
       "<div>\n",
       "<style scoped>\n",
       "    .dataframe tbody tr th:only-of-type {\n",
       "        vertical-align: middle;\n",
       "    }\n",
       "\n",
       "    .dataframe tbody tr th {\n",
       "        vertical-align: top;\n",
       "    }\n",
       "\n",
       "    .dataframe thead th {\n",
       "        text-align: right;\n",
       "    }\n",
       "</style>\n",
       "<table border=\"1\" class=\"dataframe\">\n",
       "  <thead>\n",
       "    <tr style=\"text-align: right;\">\n",
       "      <th></th>\n",
       "      <th>DOI</th>\n",
       "      <th>first_author</th>\n",
       "      <th>journal</th>\n",
       "    </tr>\n",
       "  </thead>\n",
       "  <tbody>\n",
       "    <tr>\n",
       "      <th>0</th>\n",
       "      <td>10.1371/journal.pcbi.1004668</td>\n",
       "      <td>Blischak</td>\n",
       "      <td>PLoS Comput Biol</td>\n",
       "    </tr>\n",
       "    <tr>\n",
       "      <th>1</th>\n",
       "      <td>10.21105/joss.01035</td>\n",
       "      <td>Sparks</td>\n",
       "      <td>JOSS</td>\n",
       "    </tr>\n",
       "    <tr>\n",
       "      <th>2</th>\n",
       "      <td>10.12688/f1000research.18866.2</td>\n",
       "      <td>Thang</td>\n",
       "      <td>F1000Res</td>\n",
       "    </tr>\n",
       "    <tr>\n",
       "      <th>3</th>\n",
       "      <td>10.1038/s41598-019-52881-4</td>\n",
       "      <td>NaN</td>\n",
       "      <td>Sci Rep</td>\n",
       "    </tr>\n",
       "    <tr>\n",
       "      <th>4</th>\n",
       "      <td>10.1186/s12859-019-3171-0</td>\n",
       "      <td>Chen</td>\n",
       "      <td>BMC Bioinformatics</td>\n",
       "    </tr>\n",
       "  </tbody>\n",
       "</table>\n",
       "</div>"
      ],
      "text/plain": [
       "                              DOI first_author             journal\n",
       "0    10.1371/journal.pcbi.1004668     Blischak    PLoS Comput Biol\n",
       "1             10.21105/joss.01035       Sparks                JOSS\n",
       "2  10.12688/f1000research.18866.2        Thang            F1000Res\n",
       "3      10.1038/s41598-019-52881-4          NaN             Sci Rep\n",
       "4       10.1186/s12859-019-3171-0         Chen  BMC Bioinformatics"
      ]
     },
     "execution_count": 10,
     "metadata": {},
     "output_type": "execute_result"
    }
   ],
   "source": [
    "doi_df_first_author.merge(doi_df_journal, on=\"DOI\", how=\"right\")"
   ]
  },
  {
   "cell_type": "markdown",
   "id": "8d44c1c4-2db1-49a6-b9e2-48324aa01915",
   "metadata": {},
   "source": [
    "Nun sehen wir ein NaN bei dem first author für das Journal Sci Rep und Granger wir nicht mehr angezeigt, da es nicht im zweiten DataFrame vorkommt"
   ]
  },
  {
   "cell_type": "markdown",
   "id": "6523e549-be53-44de-8a9a-e7e39cb10361",
   "metadata": {},
   "source": [
    "### Merge inner\n",
    "Es werden nur Einträge für den neuen DataFrame berücksichtigt bei denen die DOI in beiden ursprünglichen DataFrames vorkommt"
   ]
  },
  {
   "cell_type": "code",
   "execution_count": 11,
   "id": "885db863-1608-4fde-96a5-a09c7856b946",
   "metadata": {},
   "outputs": [
    {
     "data": {
      "text/html": [
       "<div>\n",
       "<style scoped>\n",
       "    .dataframe tbody tr th:only-of-type {\n",
       "        vertical-align: middle;\n",
       "    }\n",
       "\n",
       "    .dataframe tbody tr th {\n",
       "        vertical-align: top;\n",
       "    }\n",
       "\n",
       "    .dataframe thead th {\n",
       "        text-align: right;\n",
       "    }\n",
       "</style>\n",
       "<table border=\"1\" class=\"dataframe\">\n",
       "  <thead>\n",
       "    <tr style=\"text-align: right;\">\n",
       "      <th></th>\n",
       "      <th>DOI</th>\n",
       "      <th>first_author</th>\n",
       "      <th>journal</th>\n",
       "    </tr>\n",
       "  </thead>\n",
       "  <tbody>\n",
       "    <tr>\n",
       "      <th>0</th>\n",
       "      <td>10.1371/journal.pcbi.1004668</td>\n",
       "      <td>Blischak</td>\n",
       "      <td>PLoS Comput Biol</td>\n",
       "    </tr>\n",
       "    <tr>\n",
       "      <th>1</th>\n",
       "      <td>10.21105/joss.01035</td>\n",
       "      <td>Sparks</td>\n",
       "      <td>JOSS</td>\n",
       "    </tr>\n",
       "    <tr>\n",
       "      <th>2</th>\n",
       "      <td>10.12688/f1000research.18866.2</td>\n",
       "      <td>Thang</td>\n",
       "      <td>F1000Res</td>\n",
       "    </tr>\n",
       "    <tr>\n",
       "      <th>3</th>\n",
       "      <td>10.1186/s12859-019-3171-0</td>\n",
       "      <td>Chen</td>\n",
       "      <td>BMC Bioinformatics</td>\n",
       "    </tr>\n",
       "  </tbody>\n",
       "</table>\n",
       "</div>"
      ],
      "text/plain": [
       "                              DOI first_author             journal\n",
       "0    10.1371/journal.pcbi.1004668     Blischak    PLoS Comput Biol\n",
       "1             10.21105/joss.01035       Sparks                JOSS\n",
       "2  10.12688/f1000research.18866.2        Thang            F1000Res\n",
       "3       10.1186/s12859-019-3171-0         Chen  BMC Bioinformatics"
      ]
     },
     "execution_count": 11,
     "metadata": {},
     "output_type": "execute_result"
    }
   ],
   "source": [
    "doi_df_first_author.merge(doi_df_journal, on=\"DOI\", how=\"inner\")"
   ]
  },
  {
   "cell_type": "markdown",
   "id": "eb505266-4ead-470d-be77-c68fbb710e6a",
   "metadata": {},
   "source": [
    "Granger und Sci Rep fallen weg"
   ]
  },
  {
   "cell_type": "markdown",
   "id": "e7680391-2ba9-42fa-bbbb-b24f955f05b8",
   "metadata": {},
   "source": [
    "### Merge outer\n",
    "Alle DOIs werden berücksichtigt. Nicht vorhandenen Werte einer Spalte werden wieder mit \"NaN\" gefüllt."
   ]
  },
  {
   "cell_type": "code",
   "execution_count": 12,
   "id": "d61bfae9-a4e6-4dc9-86e9-49990b88b77f",
   "metadata": {},
   "outputs": [
    {
     "data": {
      "text/html": [
       "<div>\n",
       "<style scoped>\n",
       "    .dataframe tbody tr th:only-of-type {\n",
       "        vertical-align: middle;\n",
       "    }\n",
       "\n",
       "    .dataframe tbody tr th {\n",
       "        vertical-align: top;\n",
       "    }\n",
       "\n",
       "    .dataframe thead th {\n",
       "        text-align: right;\n",
       "    }\n",
       "</style>\n",
       "<table border=\"1\" class=\"dataframe\">\n",
       "  <thead>\n",
       "    <tr style=\"text-align: right;\">\n",
       "      <th></th>\n",
       "      <th>DOI</th>\n",
       "      <th>first_author</th>\n",
       "      <th>journal</th>\n",
       "    </tr>\n",
       "  </thead>\n",
       "  <tbody>\n",
       "    <tr>\n",
       "      <th>0</th>\n",
       "      <td>10.1371/journal.pcbi.1004668</td>\n",
       "      <td>Blischak</td>\n",
       "      <td>PLoS Comput Biol</td>\n",
       "    </tr>\n",
       "    <tr>\n",
       "      <th>1</th>\n",
       "      <td>10.21105/joss.01035</td>\n",
       "      <td>Sparks</td>\n",
       "      <td>JOSS</td>\n",
       "    </tr>\n",
       "    <tr>\n",
       "      <th>2</th>\n",
       "      <td>10.21105/joss.01006</td>\n",
       "      <td>Granger</td>\n",
       "      <td>NaN</td>\n",
       "    </tr>\n",
       "    <tr>\n",
       "      <th>3</th>\n",
       "      <td>10.12688/f1000research.18866.2</td>\n",
       "      <td>Thang</td>\n",
       "      <td>F1000Res</td>\n",
       "    </tr>\n",
       "    <tr>\n",
       "      <th>4</th>\n",
       "      <td>10.1186/s12859-019-3171-0</td>\n",
       "      <td>Chen</td>\n",
       "      <td>BMC Bioinformatics</td>\n",
       "    </tr>\n",
       "    <tr>\n",
       "      <th>5</th>\n",
       "      <td>10.1038/s41598-019-52881-4</td>\n",
       "      <td>NaN</td>\n",
       "      <td>Sci Rep</td>\n",
       "    </tr>\n",
       "  </tbody>\n",
       "</table>\n",
       "</div>"
      ],
      "text/plain": [
       "                              DOI first_author             journal\n",
       "0    10.1371/journal.pcbi.1004668     Blischak    PLoS Comput Biol\n",
       "1             10.21105/joss.01035       Sparks                JOSS\n",
       "2             10.21105/joss.01006      Granger                 NaN\n",
       "3  10.12688/f1000research.18866.2        Thang            F1000Res\n",
       "4       10.1186/s12859-019-3171-0         Chen  BMC Bioinformatics\n",
       "5      10.1038/s41598-019-52881-4          NaN             Sci Rep"
      ]
     },
     "execution_count": 12,
     "metadata": {},
     "output_type": "execute_result"
    }
   ],
   "source": [
    "doi_df_first_author.merge(doi_df_journal, on=\"DOI\", how=\"outer\")"
   ]
  },
  {
   "cell_type": "markdown",
   "id": "429dd55e-dd9a-4309-8165-26dbcb1e7a79",
   "metadata": {},
   "source": [
    "## Apply\n",
    "Eine Funktion wird auf den DataFrame oder eine Spalte angewendet.\n",
    "\n",
    "Wir erstellen einen DataFrame mit inkonsistenten Authorennamen."
   ]
  },
  {
   "cell_type": "code",
   "execution_count": 13,
   "id": "956768ec-c93d-4534-8da9-37cfba9d75d3",
   "metadata": {},
   "outputs": [],
   "source": [
    "doi_df_first_author_2 = pd.DataFrame({\n",
    "    \"DOIs\": [\n",
    "        \"10.1371/journal.pcbi.1004668\",\n",
    "        \"10.21105/joss.01035\",\n",
    "        \"10.21105/joss.01006\",\n",
    "        \"10.12688/f1000research.18866.2\",\n",
    "        \"10.1186/s12859-019-3171-0\"],\n",
    "    \"first_author\": [\n",
    "        \"Blischak J.\",\n",
    "        \"Sparks Adam H.\",\n",
    "        \"Granger Nicolas\",\n",
    "        \"Thang\",\n",
    "        \"Chen Danze\"]})"
   ]
  },
  {
   "cell_type": "code",
   "execution_count": 14,
   "id": "7db81f08-57d5-4437-9e36-941ac7541271",
   "metadata": {},
   "outputs": [
    {
     "data": {
      "text/html": [
       "<div>\n",
       "<style scoped>\n",
       "    .dataframe tbody tr th:only-of-type {\n",
       "        vertical-align: middle;\n",
       "    }\n",
       "\n",
       "    .dataframe tbody tr th {\n",
       "        vertical-align: top;\n",
       "    }\n",
       "\n",
       "    .dataframe thead th {\n",
       "        text-align: right;\n",
       "    }\n",
       "</style>\n",
       "<table border=\"1\" class=\"dataframe\">\n",
       "  <thead>\n",
       "    <tr style=\"text-align: right;\">\n",
       "      <th></th>\n",
       "      <th>DOIs</th>\n",
       "      <th>first_author</th>\n",
       "    </tr>\n",
       "  </thead>\n",
       "  <tbody>\n",
       "    <tr>\n",
       "      <th>0</th>\n",
       "      <td>10.1371/journal.pcbi.1004668</td>\n",
       "      <td>Blischak J.</td>\n",
       "    </tr>\n",
       "    <tr>\n",
       "      <th>1</th>\n",
       "      <td>10.21105/joss.01035</td>\n",
       "      <td>Sparks Adam H.</td>\n",
       "    </tr>\n",
       "    <tr>\n",
       "      <th>2</th>\n",
       "      <td>10.21105/joss.01006</td>\n",
       "      <td>Granger Nicolas</td>\n",
       "    </tr>\n",
       "    <tr>\n",
       "      <th>3</th>\n",
       "      <td>10.12688/f1000research.18866.2</td>\n",
       "      <td>Thang</td>\n",
       "    </tr>\n",
       "    <tr>\n",
       "      <th>4</th>\n",
       "      <td>10.1186/s12859-019-3171-0</td>\n",
       "      <td>Chen Danze</td>\n",
       "    </tr>\n",
       "  </tbody>\n",
       "</table>\n",
       "</div>"
      ],
      "text/plain": [
       "                             DOIs     first_author\n",
       "0    10.1371/journal.pcbi.1004668      Blischak J.\n",
       "1             10.21105/joss.01035   Sparks Adam H.\n",
       "2             10.21105/joss.01006  Granger Nicolas\n",
       "3  10.12688/f1000research.18866.2            Thang\n",
       "4       10.1186/s12859-019-3171-0       Chen Danze"
      ]
     },
     "execution_count": 14,
     "metadata": {},
     "output_type": "execute_result"
    }
   ],
   "source": [
    "doi_df_first_author_2"
   ]
  },
  {
   "cell_type": "markdown",
   "id": "d962d143-0028-4180-8e8b-b91c662060aa",
   "metadata": {},
   "source": [
    "## Die split-FUnktion (Methode)"
   ]
  },
  {
   "cell_type": "code",
   "execution_count": 15,
   "id": "e7123d1e-7229-43cd-99d0-e012b6817ce4",
   "metadata": {},
   "outputs": [
    {
     "data": {
      "text/plain": [
       "['Rosalind', 'Franklin']"
      ]
     },
     "execution_count": 15,
     "metadata": {},
     "output_type": "execute_result"
    }
   ],
   "source": [
    "# mit Split können wir einen zusammenhöngenden String an einer Stelle trennen und in eine Liste umwandeln\n",
    "\"Rosalind Franklin\".split(\" \")"
   ]
  },
  {
   "cell_type": "code",
   "execution_count": 16,
   "id": "7cc69411-0d3f-4a46-8392-940980f2395e",
   "metadata": {},
   "outputs": [
    {
     "data": {
      "text/plain": [
       "'Rosalind'"
      ]
     },
     "execution_count": 16,
     "metadata": {},
     "output_type": "execute_result"
    }
   ],
   "source": [
    "# aus dieser Liste können wir dann wiederum eine Postion ansprechen \n",
    "\"Rosalind Franklin\".split(\" \")[0]"
   ]
  },
  {
   "cell_type": "markdown",
   "id": "a4ef7164-7435-438a-84fd-aaeefdcc9abe",
   "metadata": {},
   "source": [
    "### 'Die \"split\"-Funktion wird auf eine Spalte angewendet.\n",
    "Zunächst wollen wir die Ersten Namen der Autor:innen von den Nachnamen trennen"
   ]
  },
  {
   "cell_type": "code",
   "execution_count": 17,
   "id": "16f95944-00a2-4eb7-a4be-86a82f83c39e",
   "metadata": {},
   "outputs": [
    {
     "data": {
      "text/plain": [
       "0    Blischak\n",
       "1      Sparks\n",
       "2     Granger\n",
       "3       Thang\n",
       "4        Chen\n",
       "Name: first_author, dtype: object"
      ]
     },
     "execution_count": 17,
     "metadata": {},
     "output_type": "execute_result"
    }
   ],
   "source": [
    "doi_df_first_author_2[\"first_author\"].apply(lambda author: author.split(\" \")[0])"
   ]
  },
  {
   "cell_type": "markdown",
   "id": "a65d8c6d-93e4-4400-98eb-0023fba56880",
   "metadata": {},
   "source": [
    ".apply(lambda author: author.split(\" \")[0]): Dieser Teil des Ausdrucks wendet die apply-Funktion auf die ausgewählte Spalte an. Die apply-Funktion ermöglicht es Ihnen, eine Funktion auf jede Zeile oder jedes Element in der ausgewählten Spalte anzuwenden.\n",
    "\n",
    "lambda author: author.split(\" \")[0]: Hier wird eine anonyme Funktion (Lambda-Funktion) definiert, die auf jedes Element (in diesem Fall den Autorennamen) in der \"first_author\"-Spalte angewendet wird. Diese Funktion teilt den Autorennamen anhand des Leerzeichens auf (an den Leerzeichen) und gibt das erste Element der resultierenden aufgeteilten Liste zurück, was den Vornamen des Autors darstellt.\n",
    "\n",
    "Der split(\" \")[0]-Teil zerlegt den Namen in Wörter (anhand des Leerzeichens) und gibt das erste Wort (den Vornamen) zurück."
   ]
  },
  {
   "cell_type": "markdown",
   "id": "a436b36e-5e76-4b79-9f15-460d9f33ad9d",
   "metadata": {},
   "source": [
    "### Das Ergbeniss (der Nachname) wird einer Spalte zugewiesen. \n",
    "Um das Ergebnis in einer neuen Spalte abzulegen, können wir diese als Spalte definieren und mit der Funktion als Wert gleichsetzen"
   ]
  },
  {
   "cell_type": "code",
   "execution_count": 18,
   "id": "32a6d506-bbd2-41f2-9372-1a7632668140",
   "metadata": {},
   "outputs": [],
   "source": [
    "doi_df_first_author_2[\"last_name\"] = doi_df_first_author_2[\"first_author\"].apply(lambda author: author.split(\" \")[0])"
   ]
  },
  {
   "cell_type": "code",
   "execution_count": 19,
   "id": "7aaf4ee9-ea84-418a-93b6-876e2b14bf6c",
   "metadata": {},
   "outputs": [
    {
     "data": {
      "text/html": [
       "<div>\n",
       "<style scoped>\n",
       "    .dataframe tbody tr th:only-of-type {\n",
       "        vertical-align: middle;\n",
       "    }\n",
       "\n",
       "    .dataframe tbody tr th {\n",
       "        vertical-align: top;\n",
       "    }\n",
       "\n",
       "    .dataframe thead th {\n",
       "        text-align: right;\n",
       "    }\n",
       "</style>\n",
       "<table border=\"1\" class=\"dataframe\">\n",
       "  <thead>\n",
       "    <tr style=\"text-align: right;\">\n",
       "      <th></th>\n",
       "      <th>DOIs</th>\n",
       "      <th>first_author</th>\n",
       "      <th>last_name</th>\n",
       "    </tr>\n",
       "  </thead>\n",
       "  <tbody>\n",
       "    <tr>\n",
       "      <th>0</th>\n",
       "      <td>10.1371/journal.pcbi.1004668</td>\n",
       "      <td>Blischak J.</td>\n",
       "      <td>Blischak</td>\n",
       "    </tr>\n",
       "    <tr>\n",
       "      <th>1</th>\n",
       "      <td>10.21105/joss.01035</td>\n",
       "      <td>Sparks Adam H.</td>\n",
       "      <td>Sparks</td>\n",
       "    </tr>\n",
       "    <tr>\n",
       "      <th>2</th>\n",
       "      <td>10.21105/joss.01006</td>\n",
       "      <td>Granger Nicolas</td>\n",
       "      <td>Granger</td>\n",
       "    </tr>\n",
       "    <tr>\n",
       "      <th>3</th>\n",
       "      <td>10.12688/f1000research.18866.2</td>\n",
       "      <td>Thang</td>\n",
       "      <td>Thang</td>\n",
       "    </tr>\n",
       "    <tr>\n",
       "      <th>4</th>\n",
       "      <td>10.1186/s12859-019-3171-0</td>\n",
       "      <td>Chen Danze</td>\n",
       "      <td>Chen</td>\n",
       "    </tr>\n",
       "  </tbody>\n",
       "</table>\n",
       "</div>"
      ],
      "text/plain": [
       "                             DOIs     first_author last_name\n",
       "0    10.1371/journal.pcbi.1004668      Blischak J.  Blischak\n",
       "1             10.21105/joss.01035   Sparks Adam H.    Sparks\n",
       "2             10.21105/joss.01006  Granger Nicolas   Granger\n",
       "3  10.12688/f1000research.18866.2            Thang     Thang\n",
       "4       10.1186/s12859-019-3171-0       Chen Danze      Chen"
      ]
     },
     "execution_count": 19,
     "metadata": {},
     "output_type": "execute_result"
    }
   ],
   "source": [
    "doi_df_first_author_2"
   ]
  },
  {
   "cell_type": "markdown",
   "id": "8840cf73-39af-4cff-b538-ab5d336406e7",
   "metadata": {},
   "source": [
    "Die Nachnamen sind nun in einer neuen Spalte abgelegt, befinden sich aber noch immer in der first_author spalte. Jetzt wollen wir die Vornamen herausfilter in dem wir die zweite Postiton ansprechen"
   ]
  },
  {
   "cell_type": "code",
   "execution_count": 21,
   "id": "d422a7c7-fb5d-4671-a3a4-b122ad2dd054",
   "metadata": {},
   "outputs": [
    {
     "data": {
      "text/plain": [
       "0          [J.]\n",
       "1    [Adam, H.]\n",
       "2     [Nicolas]\n",
       "3            []\n",
       "4       [Danze]\n",
       "Name: first_author, dtype: object"
      ]
     },
     "execution_count": 21,
     "metadata": {},
     "output_type": "execute_result"
    }
   ],
   "source": [
    "doi_df_first_author_2[\"first_author\"].apply(lambda author: author.split(\" \")[1:])"
   ]
  },
  {
   "cell_type": "markdown",
   "id": "3189c0a7-c248-4747-a76e-74104baa4bfe",
   "metadata": {},
   "source": [
    "Unser Ziel ist es die Vornamen so anzugeben, das die Initialie des ersten Vornamen ausgegeben wird und in eine neue Spalte geschrieben wird. Das heißt wir müssen die Vornamen erst durch eine Funktion bereinigen, da sie im Moment unterschiedlich sind."
   ]
  },
  {
   "cell_type": "code",
   "execution_count": 22,
   "id": "03a86862-97d7-49ab-85b7-2005523083c5",
   "metadata": {},
   "outputs": [],
   "source": [
    "def first_name_initial(full_name):\n",
    "    return full_name.split(\" \")[1:]"
   ]
  },
  {
   "cell_type": "markdown",
   "id": "0bff1c08-d7a4-4f3d-8f3c-98725a287f53",
   "metadata": {},
   "source": [
    "Die Funktion wird dann an apply übergeben"
   ]
  },
  {
   "cell_type": "code",
   "execution_count": 23,
   "id": "790136ec-e47f-42c9-9afc-3db3a381c806",
   "metadata": {},
   "outputs": [
    {
     "data": {
      "text/plain": [
       "0          [J.]\n",
       "1    [Adam, H.]\n",
       "2     [Nicolas]\n",
       "3            []\n",
       "4       [Danze]\n",
       "Name: first_author, dtype: object"
      ]
     },
     "execution_count": 23,
     "metadata": {},
     "output_type": "execute_result"
    }
   ],
   "source": [
    "doi_df_first_author_2[\"first_author\"].apply(first_name_initial)"
   ]
  },
  {
   "cell_type": "markdown",
   "id": "43bfa0cd-d0f0-4da6-a0f6-e5620306dc16",
   "metadata": {},
   "source": [
    "Die Funktion kann jetzt den Nachnamen abtrennen. Nun erweitern wir die Funktion so, dass wir nur die Inititale des ersten Vornamens zurückbekommen. Fall kein Vorname existiert wird ein NaN zurückgegeben"
   ]
  },
  {
   "cell_type": "code",
   "execution_count": 36,
   "id": "99feeb1c-0848-43bf-a565-c7cfe62e16f7",
   "metadata": {},
   "outputs": [],
   "source": [
    "first_name = \"Sparks Adam, H.\".split(\" \")[1:]   "
   ]
  },
  {
   "cell_type": "code",
   "execution_count": 37,
   "id": "a95eb76a-94a1-4617-a558-795ad52caac7",
   "metadata": {},
   "outputs": [
    {
     "data": {
      "text/plain": [
       "'Adam,'"
      ]
     },
     "execution_count": 37,
     "metadata": {},
     "output_type": "execute_result"
    }
   ],
   "source": [
    "first_name[0]"
   ]
  },
  {
   "cell_type": "code",
   "execution_count": 38,
   "id": "dc2ba717-6709-4dbe-8e11-87de85e5698e",
   "metadata": {},
   "outputs": [
    {
     "data": {
      "text/plain": [
       "'A'"
      ]
     },
     "execution_count": 38,
     "metadata": {},
     "output_type": "execute_result"
    }
   ],
   "source": [
    "first_name[0][0]"
   ]
  },
  {
   "cell_type": "code",
   "execution_count": 39,
   "id": "4da3c8eb-e005-4bab-93da-fdddf1416261",
   "metadata": {},
   "outputs": [
    {
     "data": {
      "text/plain": [
       "'A.'"
      ]
     },
     "execution_count": 39,
     "metadata": {},
     "output_type": "execute_result"
    }
   ],
   "source": [
    "first_name[0][0] + \".\""
   ]
  },
  {
   "cell_type": "code",
   "execution_count": 40,
   "id": "26329bd0-96d2-44e4-a23d-b725250568ae",
   "metadata": {},
   "outputs": [],
   "source": [
    "def first_name_initial(full_name):\n",
    "    # Den vollen Namen anhand des Leerzeichens aufteilen und alle Wörter außer dem ersten extrahieren\n",
    "    first_name = full_name.split(\" \")[1:]    \n",
    "    # Wenn es mindestens ein extrahiertes Wort gibt (der Nachname), führe den folgenden Block aus\n",
    "    if first_name:\n",
    "        # Der erste Buchstabe des ersten extrahierten Worts (der Vorname) wird genommen,\n",
    "        # gefolgt von einem Punkt, um den initialen Vornamen zu erstellen\n",
    "        return first_name[0][0] + \".\"\n",
    "    else:\n",
    "        # Wenn kein Nachname (kein extrahiertes Wort) gefunden wurde, wird \"NaN\" zurückgegeben\n",
    "        return \"NaN\"\n"
   ]
  },
  {
   "cell_type": "code",
   "execution_count": 42,
   "id": "4b817db0-671b-4446-b5a8-58f63d2f2bb8",
   "metadata": {},
   "outputs": [
    {
     "data": {
      "text/plain": [
       "0     J.\n",
       "1     A.\n",
       "2     N.\n",
       "3    NaN\n",
       "4     D.\n",
       "Name: first_author, dtype: object"
      ]
     },
     "execution_count": 42,
     "metadata": {},
     "output_type": "execute_result"
    }
   ],
   "source": [
    "### Die Funktion wird erneut an apply übergeben\n",
    "doi_df_first_author_2[\"first_author\"].apply(first_name_initial)"
   ]
  },
  {
   "cell_type": "markdown",
   "id": "8f567e81-7002-4595-84f6-3f23b6994209",
   "metadata": {},
   "source": [
    "### Die Initiale wird in einer neuen Spalte gespeichert"
   ]
  },
  {
   "cell_type": "code",
   "execution_count": 43,
   "id": "740df5d9-9b7e-44fd-863d-885a49e42b2e",
   "metadata": {},
   "outputs": [],
   "source": [
    "doi_df_first_author_2[\"first_name\"] = doi_df_first_author_2[\"first_author\"].apply(first_name_initial)"
   ]
  },
  {
   "cell_type": "code",
   "execution_count": 44,
   "id": "48050628-736a-4e1b-b3bb-3d82b6d51189",
   "metadata": {},
   "outputs": [
    {
     "data": {
      "text/html": [
       "<div>\n",
       "<style scoped>\n",
       "    .dataframe tbody tr th:only-of-type {\n",
       "        vertical-align: middle;\n",
       "    }\n",
       "\n",
       "    .dataframe tbody tr th {\n",
       "        vertical-align: top;\n",
       "    }\n",
       "\n",
       "    .dataframe thead th {\n",
       "        text-align: right;\n",
       "    }\n",
       "</style>\n",
       "<table border=\"1\" class=\"dataframe\">\n",
       "  <thead>\n",
       "    <tr style=\"text-align: right;\">\n",
       "      <th></th>\n",
       "      <th>DOIs</th>\n",
       "      <th>first_author</th>\n",
       "      <th>last_name</th>\n",
       "      <th>first_name</th>\n",
       "    </tr>\n",
       "  </thead>\n",
       "  <tbody>\n",
       "    <tr>\n",
       "      <th>0</th>\n",
       "      <td>10.1371/journal.pcbi.1004668</td>\n",
       "      <td>Blischak J.</td>\n",
       "      <td>Blischak</td>\n",
       "      <td>J.</td>\n",
       "    </tr>\n",
       "    <tr>\n",
       "      <th>1</th>\n",
       "      <td>10.21105/joss.01035</td>\n",
       "      <td>Sparks Adam H.</td>\n",
       "      <td>Sparks</td>\n",
       "      <td>A.</td>\n",
       "    </tr>\n",
       "    <tr>\n",
       "      <th>2</th>\n",
       "      <td>10.21105/joss.01006</td>\n",
       "      <td>Granger Nicolas</td>\n",
       "      <td>Granger</td>\n",
       "      <td>N.</td>\n",
       "    </tr>\n",
       "    <tr>\n",
       "      <th>3</th>\n",
       "      <td>10.12688/f1000research.18866.2</td>\n",
       "      <td>Thang</td>\n",
       "      <td>Thang</td>\n",
       "      <td>NaN</td>\n",
       "    </tr>\n",
       "    <tr>\n",
       "      <th>4</th>\n",
       "      <td>10.1186/s12859-019-3171-0</td>\n",
       "      <td>Chen Danze</td>\n",
       "      <td>Chen</td>\n",
       "      <td>D.</td>\n",
       "    </tr>\n",
       "  </tbody>\n",
       "</table>\n",
       "</div>"
      ],
      "text/plain": [
       "                             DOIs     first_author last_name first_name\n",
       "0    10.1371/journal.pcbi.1004668      Blischak J.  Blischak         J.\n",
       "1             10.21105/joss.01035   Sparks Adam H.    Sparks         A.\n",
       "2             10.21105/joss.01006  Granger Nicolas   Granger         N.\n",
       "3  10.12688/f1000research.18866.2            Thang     Thang        NaN\n",
       "4       10.1186/s12859-019-3171-0       Chen Danze      Chen         D."
      ]
     },
     "execution_count": 44,
     "metadata": {},
     "output_type": "execute_result"
    }
   ],
   "source": [
    "doi_df_first_author_2"
   ]
  },
  {
   "cell_type": "markdown",
   "id": "a670718a-6c32-435f-afa6-3eb17b65827e",
   "metadata": {},
   "source": [
    "### Apply wird zeilenweise auf den ganzen Datafram angewandt\n",
    "Nun wollen wir mit first_name und last_name eine neue Spalte einführen in der die bereinigten Autor:innen Namen angegeben werden. \n",
    "Dafür verbinden wir in eine neuen Spalte die Spalten first_name und last_name mit einem Leerzeichen. Auch hier können wir wieder die anonyme Funktion lambda benutzen"
   ]
  },
  {
   "cell_type": "code",
   "execution_count": 45,
   "id": "d1da7f31-2ccb-4a24-af5a-38b2257e6a1f",
   "metadata": {},
   "outputs": [],
   "source": [
    "doi_df_first_author_2[\"first_author_cleaned\"] = doi_df_first_author_2.apply(\n",
    "    lambda df: df[\"last_name\"] + \" \" + df[\"first_name\"], axis=1)"
   ]
  },
  {
   "cell_type": "markdown",
   "id": "da9b50df-7d32-4ea8-967b-aad1bed2f51b",
   "metadata": {},
   "source": [
    "axis=1: Dieser Parameter gibt an, dass die apply-Funktion zeilenweise angewendet werden soll. Das bedeutet, dass die Lambda-Funktion für jede Zeile im DataFrame ausgeführt wird, und das Ergebnis wird in der neuen Spalte \"first_author_cleaned\" in derselben Zeile gespeichert."
   ]
  },
  {
   "cell_type": "code",
   "execution_count": 46,
   "id": "e6d273d6-02fa-41ca-9fad-c7317503b03a",
   "metadata": {},
   "outputs": [
    {
     "data": {
      "text/html": [
       "<div>\n",
       "<style scoped>\n",
       "    .dataframe tbody tr th:only-of-type {\n",
       "        vertical-align: middle;\n",
       "    }\n",
       "\n",
       "    .dataframe tbody tr th {\n",
       "        vertical-align: top;\n",
       "    }\n",
       "\n",
       "    .dataframe thead th {\n",
       "        text-align: right;\n",
       "    }\n",
       "</style>\n",
       "<table border=\"1\" class=\"dataframe\">\n",
       "  <thead>\n",
       "    <tr style=\"text-align: right;\">\n",
       "      <th></th>\n",
       "      <th>DOIs</th>\n",
       "      <th>first_author</th>\n",
       "      <th>last_name</th>\n",
       "      <th>first_name</th>\n",
       "      <th>first_author_cleaned</th>\n",
       "    </tr>\n",
       "  </thead>\n",
       "  <tbody>\n",
       "    <tr>\n",
       "      <th>0</th>\n",
       "      <td>10.1371/journal.pcbi.1004668</td>\n",
       "      <td>Blischak J.</td>\n",
       "      <td>Blischak</td>\n",
       "      <td>J.</td>\n",
       "      <td>Blischak J.</td>\n",
       "    </tr>\n",
       "    <tr>\n",
       "      <th>1</th>\n",
       "      <td>10.21105/joss.01035</td>\n",
       "      <td>Sparks Adam H.</td>\n",
       "      <td>Sparks</td>\n",
       "      <td>A.</td>\n",
       "      <td>Sparks A.</td>\n",
       "    </tr>\n",
       "    <tr>\n",
       "      <th>2</th>\n",
       "      <td>10.21105/joss.01006</td>\n",
       "      <td>Granger Nicolas</td>\n",
       "      <td>Granger</td>\n",
       "      <td>N.</td>\n",
       "      <td>Granger N.</td>\n",
       "    </tr>\n",
       "    <tr>\n",
       "      <th>3</th>\n",
       "      <td>10.12688/f1000research.18866.2</td>\n",
       "      <td>Thang</td>\n",
       "      <td>Thang</td>\n",
       "      <td>NaN</td>\n",
       "      <td>Thang NaN</td>\n",
       "    </tr>\n",
       "    <tr>\n",
       "      <th>4</th>\n",
       "      <td>10.1186/s12859-019-3171-0</td>\n",
       "      <td>Chen Danze</td>\n",
       "      <td>Chen</td>\n",
       "      <td>D.</td>\n",
       "      <td>Chen D.</td>\n",
       "    </tr>\n",
       "  </tbody>\n",
       "</table>\n",
       "</div>"
      ],
      "text/plain": [
       "                             DOIs     first_author last_name first_name  \\\n",
       "0    10.1371/journal.pcbi.1004668      Blischak J.  Blischak         J.   \n",
       "1             10.21105/joss.01035   Sparks Adam H.    Sparks         A.   \n",
       "2             10.21105/joss.01006  Granger Nicolas   Granger         N.   \n",
       "3  10.12688/f1000research.18866.2            Thang     Thang        NaN   \n",
       "4       10.1186/s12859-019-3171-0       Chen Danze      Chen         D.   \n",
       "\n",
       "  first_author_cleaned  \n",
       "0          Blischak J.  \n",
       "1            Sparks A.  \n",
       "2           Granger N.  \n",
       "3            Thang NaN  \n",
       "4              Chen D.  "
      ]
     },
     "execution_count": 46,
     "metadata": {},
     "output_type": "execute_result"
    }
   ],
   "source": [
    "doi_df_first_author_2"
   ]
  },
  {
   "cell_type": "markdown",
   "id": "79f97550-43ff-4734-804a-f12ef6c16746",
   "metadata": {},
   "source": [
    "Sieht beinahe perfekt aus. Was fehlt ist noch, dass die NaN Werte richtig verarbeitet werden. \n",
    "Dazu fügen wir eine weite Bedingung hinzu"
   ]
  },
  {
   "cell_type": "code",
   "execution_count": 47,
   "id": "5142fe5f-c2e0-4da0-96cb-9cc424526fcd",
   "metadata": {},
   "outputs": [],
   "source": [
    "doi_df_first_author_2[\"first_author_cleaned\"] = doi_df_first_author_2.apply(\n",
    "    lambda df: df[\"last_name\"] + \" \" + df[\"first_name\"] if df[\"first_name\"] != \"NaN\" else df[\"last_name\"], axis=1)"
   ]
  },
  {
   "cell_type": "markdown",
   "id": "41cafbf3-5052-420c-b1a5-b00d777e3c4e",
   "metadata": {},
   "source": [
    "Mit der Bedingung sag wir das die Werte verbunden werden sollen, wenn kein NaN enthalten ist. Andernfalls soll nur der Nachname in der Spalte abgelegt werden."
   ]
  },
  {
   "cell_type": "code",
   "execution_count": 48,
   "id": "08b41ba3-86d6-49a3-a5ef-62d6f0c37801",
   "metadata": {},
   "outputs": [
    {
     "data": {
      "text/html": [
       "<div>\n",
       "<style scoped>\n",
       "    .dataframe tbody tr th:only-of-type {\n",
       "        vertical-align: middle;\n",
       "    }\n",
       "\n",
       "    .dataframe tbody tr th {\n",
       "        vertical-align: top;\n",
       "    }\n",
       "\n",
       "    .dataframe thead th {\n",
       "        text-align: right;\n",
       "    }\n",
       "</style>\n",
       "<table border=\"1\" class=\"dataframe\">\n",
       "  <thead>\n",
       "    <tr style=\"text-align: right;\">\n",
       "      <th></th>\n",
       "      <th>DOIs</th>\n",
       "      <th>first_author</th>\n",
       "      <th>last_name</th>\n",
       "      <th>first_name</th>\n",
       "      <th>first_author_cleaned</th>\n",
       "    </tr>\n",
       "  </thead>\n",
       "  <tbody>\n",
       "    <tr>\n",
       "      <th>0</th>\n",
       "      <td>10.1371/journal.pcbi.1004668</td>\n",
       "      <td>Blischak J.</td>\n",
       "      <td>Blischak</td>\n",
       "      <td>J.</td>\n",
       "      <td>Blischak J.</td>\n",
       "    </tr>\n",
       "    <tr>\n",
       "      <th>1</th>\n",
       "      <td>10.21105/joss.01035</td>\n",
       "      <td>Sparks Adam H.</td>\n",
       "      <td>Sparks</td>\n",
       "      <td>A.</td>\n",
       "      <td>Sparks A.</td>\n",
       "    </tr>\n",
       "    <tr>\n",
       "      <th>2</th>\n",
       "      <td>10.21105/joss.01006</td>\n",
       "      <td>Granger Nicolas</td>\n",
       "      <td>Granger</td>\n",
       "      <td>N.</td>\n",
       "      <td>Granger N.</td>\n",
       "    </tr>\n",
       "    <tr>\n",
       "      <th>3</th>\n",
       "      <td>10.12688/f1000research.18866.2</td>\n",
       "      <td>Thang</td>\n",
       "      <td>Thang</td>\n",
       "      <td>NaN</td>\n",
       "      <td>Thang</td>\n",
       "    </tr>\n",
       "    <tr>\n",
       "      <th>4</th>\n",
       "      <td>10.1186/s12859-019-3171-0</td>\n",
       "      <td>Chen Danze</td>\n",
       "      <td>Chen</td>\n",
       "      <td>D.</td>\n",
       "      <td>Chen D.</td>\n",
       "    </tr>\n",
       "  </tbody>\n",
       "</table>\n",
       "</div>"
      ],
      "text/plain": [
       "                             DOIs     first_author last_name first_name  \\\n",
       "0    10.1371/journal.pcbi.1004668      Blischak J.  Blischak         J.   \n",
       "1             10.21105/joss.01035   Sparks Adam H.    Sparks         A.   \n",
       "2             10.21105/joss.01006  Granger Nicolas   Granger         N.   \n",
       "3  10.12688/f1000research.18866.2            Thang     Thang        NaN   \n",
       "4       10.1186/s12859-019-3171-0       Chen Danze      Chen         D.   \n",
       "\n",
       "  first_author_cleaned  \n",
       "0          Blischak J.  \n",
       "1            Sparks A.  \n",
       "2           Granger N.  \n",
       "3                Thang  \n",
       "4              Chen D.  "
      ]
     },
     "execution_count": 48,
     "metadata": {},
     "output_type": "execute_result"
    }
   ],
   "source": [
    "doi_df_first_author_2"
   ]
  },
  {
   "cell_type": "markdown",
   "id": "1a490aaf-44eb-4a8f-a491-a5fd61a64e11",
   "metadata": {},
   "source": [
    "## Groupby"
   ]
  },
  {
   "cell_type": "markdown",
   "id": "273ef973-28d5-4edc-af43-e7761594250c",
   "metadata": {},
   "source": [
    "Mit der groupby-Funktion in Pandas können wir Daten basierend auf einer oder mehreren Spalten gruppieren und dann verschiedene Aggregationsfunktionen auf diese Gruppen anwenden. "
   ]
  },
  {
   "cell_type": "code",
   "execution_count": 49,
   "id": "a9d5d889-f29c-42ad-8fd9-2ebdf3165dc9",
   "metadata": {},
   "outputs": [],
   "source": [
    "\n",
    "df_doi_journal_price = pd.DataFrame({\n",
    "    \"DOI\": [\n",
    "        \"10.1371/journal.pcbi.1004668\",\n",
    "        \"10.21105/joss.01035\",\n",
    "        \"10.12688/f1000research.18866.2\",\n",
    "        \"10.1038/s41598-019-52881-4\",\n",
    "        \"10.1186/s12859-019-3171-0\",\n",
    "        \"10.1186/s12859-019-3171-1\",\n",
    "        \"10.1186/s12859-019-3171-3\"],\n",
    "    \"journal\": [\n",
    "        \"PLoS Comput Biol\",\n",
    "        \"BMC Bioinformatics\",\n",
    "        \"F1000Res\",\n",
    "        \"Sci Rep\",\n",
    "        \"BMC Bioinformatics\",\n",
    "        \"PLoS Comput Biol\",\n",
    "        \"BMC Bioinformatics\"],\n",
    "    \"price\": [\n",
    "        2000,\n",
    "        2000,\n",
    "        1500,\n",
    "        1000,\n",
    "        1500,\n",
    "        1500,\n",
    "        1600\n",
    "    ]})"
   ]
  },
  {
   "cell_type": "code",
   "execution_count": 50,
   "id": "fed068ab-4f83-45c2-972f-36d11f7019ac",
   "metadata": {},
   "outputs": [
    {
     "data": {
      "text/html": [
       "<div>\n",
       "<style scoped>\n",
       "    .dataframe tbody tr th:only-of-type {\n",
       "        vertical-align: middle;\n",
       "    }\n",
       "\n",
       "    .dataframe tbody tr th {\n",
       "        vertical-align: top;\n",
       "    }\n",
       "\n",
       "    .dataframe thead th {\n",
       "        text-align: right;\n",
       "    }\n",
       "</style>\n",
       "<table border=\"1\" class=\"dataframe\">\n",
       "  <thead>\n",
       "    <tr style=\"text-align: right;\">\n",
       "      <th></th>\n",
       "      <th>DOI</th>\n",
       "      <th>journal</th>\n",
       "      <th>price</th>\n",
       "    </tr>\n",
       "  </thead>\n",
       "  <tbody>\n",
       "    <tr>\n",
       "      <th>0</th>\n",
       "      <td>10.1371/journal.pcbi.1004668</td>\n",
       "      <td>PLoS Comput Biol</td>\n",
       "      <td>2000</td>\n",
       "    </tr>\n",
       "    <tr>\n",
       "      <th>1</th>\n",
       "      <td>10.21105/joss.01035</td>\n",
       "      <td>BMC Bioinformatics</td>\n",
       "      <td>2000</td>\n",
       "    </tr>\n",
       "    <tr>\n",
       "      <th>2</th>\n",
       "      <td>10.12688/f1000research.18866.2</td>\n",
       "      <td>F1000Res</td>\n",
       "      <td>1500</td>\n",
       "    </tr>\n",
       "    <tr>\n",
       "      <th>3</th>\n",
       "      <td>10.1038/s41598-019-52881-4</td>\n",
       "      <td>Sci Rep</td>\n",
       "      <td>1000</td>\n",
       "    </tr>\n",
       "    <tr>\n",
       "      <th>4</th>\n",
       "      <td>10.1186/s12859-019-3171-0</td>\n",
       "      <td>BMC Bioinformatics</td>\n",
       "      <td>1500</td>\n",
       "    </tr>\n",
       "    <tr>\n",
       "      <th>5</th>\n",
       "      <td>10.1186/s12859-019-3171-1</td>\n",
       "      <td>PLoS Comput Biol</td>\n",
       "      <td>1500</td>\n",
       "    </tr>\n",
       "    <tr>\n",
       "      <th>6</th>\n",
       "      <td>10.1186/s12859-019-3171-3</td>\n",
       "      <td>BMC Bioinformatics</td>\n",
       "      <td>1600</td>\n",
       "    </tr>\n",
       "  </tbody>\n",
       "</table>\n",
       "</div>"
      ],
      "text/plain": [
       "                              DOI             journal  price\n",
       "0    10.1371/journal.pcbi.1004668    PLoS Comput Biol   2000\n",
       "1             10.21105/joss.01035  BMC Bioinformatics   2000\n",
       "2  10.12688/f1000research.18866.2            F1000Res   1500\n",
       "3      10.1038/s41598-019-52881-4             Sci Rep   1000\n",
       "4       10.1186/s12859-019-3171-0  BMC Bioinformatics   1500\n",
       "5       10.1186/s12859-019-3171-1    PLoS Comput Biol   1500\n",
       "6       10.1186/s12859-019-3171-3  BMC Bioinformatics   1600"
      ]
     },
     "execution_count": 50,
     "metadata": {},
     "output_type": "execute_result"
    }
   ],
   "source": [
    "df_doi_journal_price"
   ]
  },
  {
   "cell_type": "markdown",
   "id": "1b89ba33-6118-4d4f-9cd0-1d1395ed3486",
   "metadata": {},
   "source": [
    "Erstellen wie ein groupby objekt. Wir wollen den DataFrame df_doi_journal_price nach der Spalte \"journal\" gruppieren. Das bedeutet, dass alle Zeilen mit demselben Wert in der Spalte \"journal\" zu einer Gruppe zusammengefasst werden. In diesem Fall werden die Artikel nach Zeitschrift gruppiert."
   ]
  },
  {
   "cell_type": "code",
   "execution_count": 51,
   "id": "e091c534-b245-42ad-b405-6ce9c040cbda",
   "metadata": {},
   "outputs": [],
   "source": [
    "grp_journal = df_doi_journal_price.groupby([\"journal\"])"
   ]
  },
  {
   "cell_type": "code",
   "execution_count": 52,
   "id": "39bff09f-05ce-478a-94ee-0115ca322d36",
   "metadata": {},
   "outputs": [
    {
     "data": {
      "text/plain": [
       "<pandas.core.groupby.generic.DataFrameGroupBy object at 0x7f2e1e2ccca0>"
      ]
     },
     "execution_count": 52,
     "metadata": {},
     "output_type": "execute_result"
    }
   ],
   "source": [
    "grp_journal"
   ]
  },
  {
   "cell_type": "markdown",
   "id": "6591f38c-55e1-4965-b13a-018e6da6295a",
   "metadata": {},
   "source": [
    "In Pandas wird das GroupBy-Objekt grp_journal nicht automatisch angezeigt, wenn wir es auswerten. Stattdessen müssen wir eine Aggregationsfunktion oder eine Methode anwenden, um die Ergebnisse der Gruppierung anzuzeigen oder zu verwenden."
   ]
  },
  {
   "cell_type": "code",
   "execution_count": 53,
   "id": "e0106758-1b66-4035-98b4-fc514e475456",
   "metadata": {},
   "outputs": [
    {
     "data": {
      "text/html": [
       "<div>\n",
       "<style scoped>\n",
       "    .dataframe tbody tr th:only-of-type {\n",
       "        vertical-align: middle;\n",
       "    }\n",
       "\n",
       "    .dataframe tbody tr th {\n",
       "        vertical-align: top;\n",
       "    }\n",
       "\n",
       "    .dataframe thead th {\n",
       "        text-align: right;\n",
       "    }\n",
       "</style>\n",
       "<table border=\"1\" class=\"dataframe\">\n",
       "  <thead>\n",
       "    <tr style=\"text-align: right;\">\n",
       "      <th></th>\n",
       "      <th>DOI</th>\n",
       "      <th>journal</th>\n",
       "      <th>price</th>\n",
       "    </tr>\n",
       "  </thead>\n",
       "  <tbody>\n",
       "    <tr>\n",
       "      <th>1</th>\n",
       "      <td>10.21105/joss.01035</td>\n",
       "      <td>BMC Bioinformatics</td>\n",
       "      <td>2000</td>\n",
       "    </tr>\n",
       "    <tr>\n",
       "      <th>4</th>\n",
       "      <td>10.1186/s12859-019-3171-0</td>\n",
       "      <td>BMC Bioinformatics</td>\n",
       "      <td>1500</td>\n",
       "    </tr>\n",
       "    <tr>\n",
       "      <th>6</th>\n",
       "      <td>10.1186/s12859-019-3171-3</td>\n",
       "      <td>BMC Bioinformatics</td>\n",
       "      <td>1600</td>\n",
       "    </tr>\n",
       "  </tbody>\n",
       "</table>\n",
       "</div>"
      ],
      "text/plain": [
       "                         DOI             journal  price\n",
       "1        10.21105/joss.01035  BMC Bioinformatics   2000\n",
       "4  10.1186/s12859-019-3171-0  BMC Bioinformatics   1500\n",
       "6  10.1186/s12859-019-3171-3  BMC Bioinformatics   1600"
      ]
     },
     "metadata": {},
     "output_type": "display_data"
    },
    {
     "data": {
      "text/html": [
       "<div>\n",
       "<style scoped>\n",
       "    .dataframe tbody tr th:only-of-type {\n",
       "        vertical-align: middle;\n",
       "    }\n",
       "\n",
       "    .dataframe tbody tr th {\n",
       "        vertical-align: top;\n",
       "    }\n",
       "\n",
       "    .dataframe thead th {\n",
       "        text-align: right;\n",
       "    }\n",
       "</style>\n",
       "<table border=\"1\" class=\"dataframe\">\n",
       "  <thead>\n",
       "    <tr style=\"text-align: right;\">\n",
       "      <th></th>\n",
       "      <th>DOI</th>\n",
       "      <th>journal</th>\n",
       "      <th>price</th>\n",
       "    </tr>\n",
       "  </thead>\n",
       "  <tbody>\n",
       "    <tr>\n",
       "      <th>2</th>\n",
       "      <td>10.12688/f1000research.18866.2</td>\n",
       "      <td>F1000Res</td>\n",
       "      <td>1500</td>\n",
       "    </tr>\n",
       "  </tbody>\n",
       "</table>\n",
       "</div>"
      ],
      "text/plain": [
       "                              DOI   journal  price\n",
       "2  10.12688/f1000research.18866.2  F1000Res   1500"
      ]
     },
     "metadata": {},
     "output_type": "display_data"
    },
    {
     "data": {
      "text/html": [
       "<div>\n",
       "<style scoped>\n",
       "    .dataframe tbody tr th:only-of-type {\n",
       "        vertical-align: middle;\n",
       "    }\n",
       "\n",
       "    .dataframe tbody tr th {\n",
       "        vertical-align: top;\n",
       "    }\n",
       "\n",
       "    .dataframe thead th {\n",
       "        text-align: right;\n",
       "    }\n",
       "</style>\n",
       "<table border=\"1\" class=\"dataframe\">\n",
       "  <thead>\n",
       "    <tr style=\"text-align: right;\">\n",
       "      <th></th>\n",
       "      <th>DOI</th>\n",
       "      <th>journal</th>\n",
       "      <th>price</th>\n",
       "    </tr>\n",
       "  </thead>\n",
       "  <tbody>\n",
       "    <tr>\n",
       "      <th>0</th>\n",
       "      <td>10.1371/journal.pcbi.1004668</td>\n",
       "      <td>PLoS Comput Biol</td>\n",
       "      <td>2000</td>\n",
       "    </tr>\n",
       "    <tr>\n",
       "      <th>5</th>\n",
       "      <td>10.1186/s12859-019-3171-1</td>\n",
       "      <td>PLoS Comput Biol</td>\n",
       "      <td>1500</td>\n",
       "    </tr>\n",
       "  </tbody>\n",
       "</table>\n",
       "</div>"
      ],
      "text/plain": [
       "                            DOI           journal  price\n",
       "0  10.1371/journal.pcbi.1004668  PLoS Comput Biol   2000\n",
       "5     10.1186/s12859-019-3171-1  PLoS Comput Biol   1500"
      ]
     },
     "metadata": {},
     "output_type": "display_data"
    },
    {
     "data": {
      "text/html": [
       "<div>\n",
       "<style scoped>\n",
       "    .dataframe tbody tr th:only-of-type {\n",
       "        vertical-align: middle;\n",
       "    }\n",
       "\n",
       "    .dataframe tbody tr th {\n",
       "        vertical-align: top;\n",
       "    }\n",
       "\n",
       "    .dataframe thead th {\n",
       "        text-align: right;\n",
       "    }\n",
       "</style>\n",
       "<table border=\"1\" class=\"dataframe\">\n",
       "  <thead>\n",
       "    <tr style=\"text-align: right;\">\n",
       "      <th></th>\n",
       "      <th>DOI</th>\n",
       "      <th>journal</th>\n",
       "      <th>price</th>\n",
       "    </tr>\n",
       "  </thead>\n",
       "  <tbody>\n",
       "    <tr>\n",
       "      <th>3</th>\n",
       "      <td>10.1038/s41598-019-52881-4</td>\n",
       "      <td>Sci Rep</td>\n",
       "      <td>1000</td>\n",
       "    </tr>\n",
       "  </tbody>\n",
       "</table>\n",
       "</div>"
      ],
      "text/plain": [
       "                          DOI  journal  price\n",
       "3  10.1038/s41598-019-52881-4  Sci Rep   1000"
      ]
     },
     "metadata": {},
     "output_type": "display_data"
    },
    {
     "data": {
      "text/html": [
       "<div>\n",
       "<style scoped>\n",
       "    .dataframe tbody tr th:only-of-type {\n",
       "        vertical-align: middle;\n",
       "    }\n",
       "\n",
       "    .dataframe tbody tr th {\n",
       "        vertical-align: top;\n",
       "    }\n",
       "\n",
       "    .dataframe thead th {\n",
       "        text-align: right;\n",
       "    }\n",
       "</style>\n",
       "<table border=\"1\" class=\"dataframe\">\n",
       "  <thead>\n",
       "    <tr style=\"text-align: right;\">\n",
       "      <th></th>\n",
       "    </tr>\n",
       "  </thead>\n",
       "  <tbody>\n",
       "  </tbody>\n",
       "</table>\n",
       "</div>"
      ],
      "text/plain": [
       "Empty DataFrame\n",
       "Columns: []\n",
       "Index: []"
      ]
     },
     "execution_count": 53,
     "metadata": {},
     "output_type": "execute_result"
    }
   ],
   "source": [
    "grp_journal.apply(display)"
   ]
  },
  {
   "cell_type": "markdown",
   "id": "c803b85e-9c3d-46f3-a58b-9165e0371707",
   "metadata": {},
   "source": [
    "Auf unsere Gruppen könnten wir nun Aggregrationsfunktionen anwenden. Wir wollen zum Beispiel den durchschnittlichen Preis für jedes Journal sehen"
   ]
  },
  {
   "cell_type": "code",
   "execution_count": 54,
   "id": "fb485c6e-2b78-4cdc-a8f4-4dcedb850686",
   "metadata": {},
   "outputs": [
    {
     "data": {
      "text/plain": [
       "journal\n",
       "BMC Bioinformatics    1700.0\n",
       "F1000Res              1500.0\n",
       "PLoS Comput Biol      1750.0\n",
       "Sci Rep               1000.0\n",
       "Name: price, dtype: float64"
      ]
     },
     "execution_count": 54,
     "metadata": {},
     "output_type": "execute_result"
    }
   ],
   "source": [
    "grp_journal[\"price\"].mean()"
   ]
  },
  {
   "cell_type": "markdown",
   "id": "02bcfb5e-d42d-4cab-b442-14fe1f9063a0",
   "metadata": {},
   "source": [
    "Oder die Summe:"
   ]
  },
  {
   "cell_type": "code",
   "execution_count": 55,
   "id": "9f319a67-1587-4a13-8269-7282a689fc30",
   "metadata": {},
   "outputs": [
    {
     "data": {
      "text/plain": [
       "journal\n",
       "BMC Bioinformatics    5100\n",
       "F1000Res              1500\n",
       "PLoS Comput Biol      3500\n",
       "Sci Rep               1000\n",
       "Name: price, dtype: int64"
      ]
     },
     "execution_count": 55,
     "metadata": {},
     "output_type": "execute_result"
    }
   ],
   "source": [
    "grp_journal[\"price\"].sum()"
   ]
  },
  {
   "cell_type": "markdown",
   "id": "49df9bb2-f19a-4ea2-840d-c9c03984ccad",
   "metadata": {},
   "source": [
    "## Ende"
   ]
  }
 ],
 "metadata": {
  "kernelspec": {
   "display_name": "Python 3 (ipykernel)",
   "language": "python",
   "name": "python3"
  },
  "language_info": {
   "codemirror_mode": {
    "name": "ipython",
    "version": 3
   },
   "file_extension": ".py",
   "mimetype": "text/x-python",
   "name": "python",
   "nbconvert_exporter": "python",
   "pygments_lexer": "ipython3",
   "version": "3.10.12"
  }
 },
 "nbformat": 4,
 "nbformat_minor": 5
}
