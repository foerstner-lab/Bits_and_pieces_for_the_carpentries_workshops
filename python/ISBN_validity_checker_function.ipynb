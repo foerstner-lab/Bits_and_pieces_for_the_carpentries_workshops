{
 "cells": [
  {
   "cell_type": "markdown",
   "id": "5a9b1654-535d-43c5-8710-944a230d565b",
   "metadata": {},
   "source": [
    "# Prüfen, ob eine Zeichenkette eine ISBN ist\n",
    "Einige einfache Überprüfungen:\n",
    "\n",
    "- Eine ISBN sollte 17 Zeichen lang sein\n",
    "- Eine ISBN sollte 4 Bindestriche enthalten\n",
    "- Eine ISBN darf nur Bindestriche und Zahlen enthalten"
   ]
  },
  {
   "cell_type": "code",
   "execution_count": 1,
   "id": "52d7231b-b88d-4a4c-a33b-79e16b75f447",
   "metadata": {},
   "outputs": [],
   "source": [
    "potential_isbns = [\"978-3-86226-468-5\", # proper ISBN\n",
    "                   \"AB-423-2343\", # not a proper ISBN\n",
    "                   \"978-3-XXXXX-468-5\"] # not a proper ISBN but pretty close"
   ]
  },
  {
   "cell_type": "markdown",
   "id": "d6197bdc-7ace-4d59-892b-9dbbd620eb83",
   "metadata": {},
   "source": [
    "Gehe wir zuerst die 17 Zeichen an. Um die ISBNs zu prüfen können wir dieses Mal Bedingte Anweisungen nutzen"
   ]
  },
  {
   "cell_type": "code",
   "execution_count": 2,
   "id": "2c007a9f-9ffe-40f1-bcbb-fbf12b3f0166",
   "metadata": {},
   "outputs": [],
   "source": [
    "def is_isbn(isbn):\n",
    "    if len(isbn) != 17:\n",
    "        return False\n",
    "    return True    "
   ]
  },
  {
   "cell_type": "markdown",
   "id": "5dce5a67-5892-48cf-bd1f-981816245e9e",
   "metadata": {},
   "source": [
    "Die Funktion is_isbn wird definiert und erwartet eine Zeichenkette isbn als Eingabe.\n",
    "\n",
    "Die erste Bedingung überprüft, ob die Länge der Zeichenkette isbn genau 17 Zeichen beträgt. Wenn die Länge nicht 17 ist, wird False zurückgegeben, da eine ISBN immer genau 17 Zeichen haben sollte."
   ]
  },
  {
   "cell_type": "markdown",
   "id": "a5675bd3-6b4c-4223-abd1-308602d229d8",
   "metadata": {},
   "source": [
    "Probieren wir aus, ob die drei ISBNs den Check überstehen. Auch hierfür können wir eine Schleife nutzen, in der wir die Funktion aufrufen.\n",
    "5 Minuten Übung: Erstelle eine Schleife, die die Funktion is_isbn() nutzt und die potential_isbns Liste darauf prüft, ob sie 17 Zeichen enthält."
   ]
  },
  {
   "cell_type": "code",
   "execution_count": 3,
   "id": "1fe2d857-b42a-4cd3-86c8-4e3bf5cb1875",
   "metadata": {},
   "outputs": [
    {
     "name": "stdout",
     "output_type": "stream",
     "text": [
      "978-3-86226-468-5 ===> True\n",
      "AB-423-2343 ===> False\n",
      "978-3-XXXXX-468-5 ===> True\n"
     ]
    }
   ],
   "source": [
    "for isbn in potential_isbns:\n",
    "    result = is_isbn(isbn)\n",
    "    print(isbn, \"===>\", result)"
   ]
  },
  {
   "cell_type": "markdown",
   "id": "f8893072-d1cc-4d39-adbe-424a8acf9fd0",
   "metadata": {},
   "source": [
    "Die zweite ISBN hat den Check schon mal nicht überstanden. Aber auch die dritte ISBN ist keine echte ISBN. Erweitern wir also unsere Bedingungen.\n",
    "Die zweite Bedingung soll überprüfen, ob die Zeichenkette isbn genau 4 Bindestriche (-) enthält. Eine gültige ISBN sollte genau 4 Bindestriche haben. Wenn dies nicht der Fall ist, wird erneut False zurückgegeben."
   ]
  },
  {
   "cell_type": "code",
   "execution_count": 4,
   "id": "530399ec-4384-4536-9f68-202b1606d902",
   "metadata": {},
   "outputs": [],
   "source": [
    "def is_isbn(isbn):\n",
    "    if len(isbn) != 17:\n",
    "        return False\n",
    "    if isbn.count(\"-\") != 4:\n",
    "        return False\n",
    "    return True"
   ]
  },
  {
   "cell_type": "markdown",
   "id": "21262ea3-58a5-48bb-8238-21b534a1826d",
   "metadata": {},
   "source": [
    "Im nächsten Schritt wollen wir angeben, dass keine Buchstaben, bzw. nur Zahlen in einer ISBN enthalten sind. Wichtig dabei ist, dass wir auch Bindestriche in der ISBN haben und diese ebenfalls zu einer ISBN dazugehören.\n",
    "Dafür nutzen wir jetzt eine Schleife, die jedes Zeichen auf zwei Bedingungen prüft: Wenn es ein Bindestrich ist, soll die Schleife weiterlaufen. Wenn es kein Bindestrich ist, soll überprüft werden, ob es eine Ziffer ist. Wenn es keine Ziffer ist, soll ein False zurückgegeben werden:"
   ]
  },
  {
   "cell_type": "code",
   "execution_count": 5,
   "id": "4d0dfbc8-ae7b-4de1-bcc0-76eabc8de1c2",
   "metadata": {},
   "outputs": [],
   "source": [
    "def is_isbn(isbn):\n",
    "    if len(isbn) != 17:\n",
    "        return False\n",
    "    if isbn.count(\"-\") != 4:\n",
    "        return False\n",
    "    for char in isbn:\n",
    "        if char == \"-\":\n",
    "            continue\n",
    "        if not char.isdigit():\n",
    "            return False\n",
    "    return True"
   ]
  },
  {
   "cell_type": "markdown",
   "id": "12994e91-bd92-4d61-8491-5774662494bd",
   "metadata": {},
   "source": [
    "Jetzt sollten alle Bedingungen erfüllt sein. Lassen wir unseren Checker erneut laufen:"
   ]
  },
  {
   "cell_type": "code",
   "execution_count": 6,
   "id": "744d7c51-227e-4ec3-99fa-e12799f569f3",
   "metadata": {},
   "outputs": [
    {
     "name": "stdout",
     "output_type": "stream",
     "text": [
      "978-3-86226-468-5 ===> True\n",
      "AB-423-2343 ===> False\n",
      "978-3-XXXXX-468-5 ===> False\n"
     ]
    }
   ],
   "source": [
    "for isbn in potential_isbns:\n",
    "    result = is_isbn(isbn)\n",
    "    print(isbn, \"===>\", result)"
   ]
  },
  {
   "cell_type": "markdown",
   "id": "9e3b6625-77c7-44bc-9492-0c9798f6f7e1",
   "metadata": {},
   "source": [
    "In diesem Fall hat unser Checker alle ISBNs richtig eingestuft."
   ]
  },
  {
   "cell_type": "code",
   "execution_count": null,
   "id": "2a3bbb97-48ac-4e69-8b5a-5c7f4953c0c8",
   "metadata": {},
   "outputs": [],
   "source": []
  }
 ],
 "metadata": {
  "kernelspec": {
   "display_name": "Python 3 (ipykernel)",
   "language": "python",
   "name": "python3"
  },
  "language_info": {
   "codemirror_mode": {
    "name": "ipython",
    "version": 3
   },
   "file_extension": ".py",
   "mimetype": "text/x-python",
   "name": "python",
   "nbconvert_exporter": "python",
   "pygments_lexer": "ipython3",
   "version": "3.10.12"
  }
 },
 "nbformat": 4,
 "nbformat_minor": 5
}
