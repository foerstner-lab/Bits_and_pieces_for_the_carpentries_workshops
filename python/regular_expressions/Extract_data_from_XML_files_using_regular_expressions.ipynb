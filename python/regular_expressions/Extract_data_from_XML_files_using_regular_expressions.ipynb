{
 "cells": [
  {
   "cell_type": "markdown",
   "metadata": {},
   "source": [
    "# Extracting data from XML using regular expressions"
   ]
  },
  {
   "cell_type": "markdown",
   "metadata": {},
   "source": [
    "## Regular expression - first contact"
   ]
  },
  {
   "cell_type": "code",
   "execution_count": 11,
   "metadata": {},
   "outputs": [],
   "source": [
    "line = \"<Title>Nucleic acids research</Title>\""
   ]
  },
  {
   "cell_type": "code",
   "execution_count": 12,
   "metadata": {},
   "outputs": [],
   "source": [
    "# Regular Expressions\n",
    "import re"
   ]
  },
  {
   "cell_type": "code",
   "execution_count": 13,
   "metadata": {},
   "outputs": [
    {
     "data": {
      "text/plain": [
       "['acid']"
      ]
     },
     "execution_count": 13,
     "metadata": {},
     "output_type": "execute_result"
    }
   ],
   "source": [
    "re.findall(\"acid\", line)"
   ]
  },
  {
   "cell_type": "code",
   "execution_count": 14,
   "metadata": {},
   "outputs": [
    {
     "data": {
      "text/plain": [
       "['acids research</Title>']"
      ]
     },
     "execution_count": 14,
     "metadata": {},
     "output_type": "execute_result"
    }
   ],
   "source": [
    "re.findall(\"a.*\", line)"
   ]
  },
  {
   "cell_type": "code",
   "execution_count": 15,
   "metadata": {},
   "outputs": [
    {
     "data": {
      "text/plain": [
       "['acid', 'arch']"
      ]
     },
     "execution_count": 15,
     "metadata": {},
     "output_type": "execute_result"
    }
   ],
   "source": [
    "re.findall(\"a.{3}\", line)"
   ]
  },
  {
   "cell_type": "code",
   "execution_count": 16,
   "metadata": {},
   "outputs": [
    {
     "data": {
      "text/plain": [
       "['c acid', 'search']"
      ]
     },
     "execution_count": 16,
     "metadata": {},
     "output_type": "execute_result"
    }
   ],
   "source": [
    "re.findall(\".{2}a.{3}\", line)"
   ]
  },
  {
   "cell_type": "code",
   "execution_count": 17,
   "metadata": {},
   "outputs": [
    {
     "data": {
      "text/plain": [
       "['<Title>Nucleic acids research</Title>']"
      ]
     },
     "execution_count": 17,
     "metadata": {},
     "output_type": "execute_result"
    }
   ],
   "source": [
    "re.findall(\"<Title>.*</Title>\", line)"
   ]
  },
  {
   "cell_type": "code",
   "execution_count": 18,
   "metadata": {},
   "outputs": [
    {
     "data": {
      "text/plain": [
       "['Nucleic acids research']"
      ]
     },
     "execution_count": 18,
     "metadata": {},
     "output_type": "execute_result"
    }
   ],
   "source": [
    "re.findall(\"<Title>(.*)</Title>\", line)"
   ]
  },
  {
   "cell_type": "markdown",
   "metadata": {},
   "source": [
    "## Downloading an XML example file"
   ]
  },
  {
   "cell_type": "code",
   "execution_count": 19,
   "metadata": {},
   "outputs": [
    {
     "data": {
      "text/plain": [
       "('PubMed.xml', <http.client.HTTPMessage at 0x7f50d86190f0>)"
      ]
     },
     "execution_count": 19,
     "metadata": {},
     "output_type": "execute_result"
    }
   ],
   "source": [
    "import urllib.request\n",
    "\n",
    "\n",
    "xml_url = \"https://raw.githubusercontent.com/foerstner-lab/Bits_and_pieces_for_the_carpentries_workshops/master/text_file_examples/PubMed.xml\"\n",
    "xml_file = xml_url.split(\"/\")[-1]\n",
    "\n",
    "urllib.request.urlretrieve(xml_url, xml_file)"
   ]
  },
  {
   "cell_type": "code",
   "execution_count": 20,
   "metadata": {},
   "outputs": [
    {
     "data": {
      "text/plain": [
       "'PubMed.xml'"
      ]
     },
     "execution_count": 20,
     "metadata": {},
     "output_type": "execute_result"
    }
   ],
   "source": [
    "xml_file"
   ]
  },
  {
   "cell_type": "markdown",
   "metadata": {},
   "source": [
    "## Extracting patterns from that file using regular expressions"
   ]
  },
  {
   "cell_type": "code",
   "execution_count": 21,
   "metadata": {},
   "outputs": [
    {
     "name": "stdout",
     "output_type": "stream",
     "text": [
      "['2013']\n",
      "['2018']\n",
      "['2013']\n",
      "['2012']\n",
      "['2012']\n",
      "['2012']\n",
      "['2013']\n"
     ]
    }
   ],
   "source": [
    "for line in open(xml_file):\n",
    "    matches = re.findall(\"<Year>(.*)</Year>\", line)\n",
    "    if len(matches) > 0:\n",
    "        print(matches)"
   ]
  },
  {
   "cell_type": "code",
   "execution_count": 22,
   "metadata": {},
   "outputs": [],
   "source": [
    "# Read the full file in a variable\n",
    "article_meta_data = open(xml_file).read()"
   ]
  },
  {
   "cell_type": "code",
   "execution_count": 23,
   "metadata": {},
   "outputs": [
    {
     "name": "stdout",
     "output_type": "stream",
     "text": [
      "<?xml version=\"1.0\"?>\n",
      "<!DOCTYPE PubmedArticleSet PUBLIC \"-//NLM//DTD PubMedArticle, 1st January 2019//EN\" \"https://dtd.nlm.nih.gov/ncbi/pubmed/out/pubmed_190101.dtd\">\n",
      "<PubmedArticleSet>\n",
      "\n",
      "<PubmedArticle>\n",
      "    <MedlineCitation Status=\"MEDLINE\" Owner=\"NLM\">\n",
      "        <PMID Version=\"1\">23203889</PMID>\n",
      "        <DateCompleted>\n",
      "            <Year>2013</Year>\n",
      "            <Month>05</Month>\n",
      "            <Day>13</Day>\n",
      "        </DateCompleted>\n",
      "        <DateRevised>\n",
      "            <Year>2018</Year>\n",
      "            <Month>11</Month>\n",
      "            <Day>13</Day>\n",
      "        </DateRevised>\n",
      "        <Article PubModel=\"Print-Electronic\">\n",
      "            <Journal>\n",
      "                <ISSN IssnType=\"Electronic\">1362-4962</ISSN>\n",
      "                <JournalIssue CitedMedium=\"Internet\">\n",
      "                    <Volume>41</Volume>\n",
      "                    <Issue>Database issue</Issue>\n",
      "                    <PubDate>\n",
      "                        <Year>2013</Year>\n",
      "                        <Month>Jan</Month>\n",
      "                    </PubDate>\n",
      "                </JournalIssue>\n",
      "                <Title>Nucleic acids research</Title>\n",
      "                <ISOAbbreviation>Nucleic Acids Res.</ISOAbbreviation>\n",
      "            </Journal>\n",
      "            <ArticleTitle>NCBI Bookshelf: books and documents in life sciences and health care.</ArticleTitle>\n",
      "            <Pagination>\n",
      "                <MedlinePgn>D1251-60</MedlinePgn>\n",
      "            </Pagination>\n",
      "            <ELocationID EIdType=\"doi\" ValidYN=\"Y\">10.1093/nar/gks1279</ELocationID>\n",
      "            <Abstract>\n",
      "                <AbstractText>Bookshelf (http://www.ncbi.nlm.nih.gov/books/) is a full-text electronic literature resource of books and documents in life sciences and health care at the National Center for Biotechnology Information (NCBI). Created in 1999 with a single book as an encyclopedic reference for resources such as PubMed and GenBank, it has grown to its current size of &gt;1300 titles. Unlike other NCBI databases, such as GenBank and Gene, which have a strict data structure, books come in all forms; they are diverse in publication types, formats, sizes and authoring models. The Bookshelf data format is XML tagged in the NCBI Book DTD (Document Type Definition), modeled after the National Library of Medicine journal article DTDs. The book DTD has been used for systematically tagging the diverse data formats of books, a move that has set the foundation for the growth of this resource. Books at NCBI followed the route of journal articles in the PubMed Central project, using the PubMed Central architectural framework, workflows and processes. Through integration with other NCBI molecular databases, books at NCBI can be used to provide reference information for biological data and facilitate its discovery. This article describes Bookshelf at NCBI: its growth, data handling and retrieval and integration with molecular databases.</AbstractText>\n",
      "            </Abstract>\n",
      "            <AuthorList CompleteYN=\"Y\">\n",
      "                <Author ValidYN=\"Y\">\n",
      "                    <LastName>Hoeppner</LastName>\n",
      "                    <ForeName>Marilu A</ForeName>\n",
      "                    <Initials>MA</Initials>\n",
      "                    <AffiliationInfo>\n",
      "                        <Affiliation>National Center for Biotechnology Information, National Library of Medicine, National Institutes of Health, 45 Center Drive, Bethesda, MD 20892, USA. hoeppner@ncbi.nlm.nih.gov</Affiliation>\n",
      "                    </AffiliationInfo>\n",
      "                </Author>\n",
      "            </AuthorList>\n",
      "            <Language>eng</Language>\n",
      "            <GrantList CompleteYN=\"Y\">\n",
      "                <Grant>\n",
      "                    <Agency>Intramural NIH HHS</Agency>\n",
      "                    <Country>United States</Country>\n",
      "                </Grant>\n",
      "            </GrantList>\n",
      "            <PublicationTypeList>\n",
      "                <PublicationType UI=\"D016428\">Journal Article</PublicationType>\n",
      "                <PublicationType UI=\"D052060\">Research Support, N.I.H., Intramural</PublicationType>\n",
      "            </PublicationTypeList>\n",
      "            <ArticleDate DateType=\"Electronic\">\n",
      "                <Year>2012</Year>\n",
      "                <Month>11</Month>\n",
      "                <Day>29</Day>\n",
      "            </ArticleDate>\n",
      "        </Article>\n",
      "        <MedlineJournalInfo>\n",
      "            <Country>England</Country>\n",
      "            <MedlineTA>Nucleic Acids Res</MedlineTA>\n",
      "            <NlmUniqueID>0411011</NlmUniqueID>\n",
      "            <ISSNLinking>0305-1048</ISSNLinking>\n",
      "        </MedlineJournalInfo>\n",
      "        <CitationSubset>IM</CitationSubset>\n",
      "        <MeshHeadingList>\n",
      "            <MeshHeading>\n",
      "                <DescriptorName UI=\"D001690\" MajorTopicYN=\"Y\">Biological Science Disciplines</DescriptorName>\n",
      "            </MeshHeading>\n",
      "            <MeshHeading>\n",
      "                <DescriptorName UI=\"D016208\" MajorTopicYN=\"Y\">Databases, Factual</DescriptorName>\n",
      "            </MeshHeading>\n",
      "            <MeshHeading>\n",
      "                <DescriptorName UI=\"D020407\" MajorTopicYN=\"N\">Internet</DescriptorName>\n",
      "            </MeshHeading>\n",
      "            <MeshHeading>\n",
      "                <DescriptorName UI=\"D009317\" MajorTopicYN=\"N\">National Library of Medicine (U.S.)</DescriptorName>\n",
      "            </MeshHeading>\n",
      "            <MeshHeading>\n",
      "                <DescriptorName UI=\"D012013\" MajorTopicYN=\"Y\">Reference Books</DescriptorName>\n",
      "            </MeshHeading>\n",
      "            <MeshHeading>\n",
      "                <DescriptorName UI=\"D012014\" MajorTopicYN=\"Y\">Reference Books, Medical</DescriptorName>\n",
      "            </MeshHeading>\n",
      "            <MeshHeading>\n",
      "                <DescriptorName UI=\"D018511\" MajorTopicYN=\"N\">Systems Integration</DescriptorName>\n",
      "            </MeshHeading>\n",
      "            <MeshHeading>\n",
      "                <DescriptorName UI=\"D014481\" MajorTopicYN=\"N\" Type=\"Geographic\">United States</DescriptorName>\n",
      "            </MeshHeading>\n",
      "        </MeshHeadingList>\n",
      "    </MedlineCitation>\n",
      "    <PubmedData>\n",
      "        <History>\n",
      "            <PubMedPubDate PubStatus=\"entrez\">\n",
      "                <Year>2012</Year>\n",
      "                <Month>12</Month>\n",
      "                <Day>4</Day>\n",
      "                <Hour>6</Hour>\n",
      "                <Minute>0</Minute>\n",
      "            </PubMedPubDate>\n",
      "            <PubMedPubDate PubStatus=\"pubmed\">\n",
      "                <Year>2012</Year>\n",
      "                <Month>12</Month>\n",
      "                <Day>4</Day>\n",
      "                <Hour>6</Hour>\n",
      "                <Minute>0</Minute>\n",
      "            </PubMedPubDate>\n",
      "            <PubMedPubDate PubStatus=\"medline\">\n",
      "                <Year>2013</Year>\n",
      "                <Month>5</Month>\n",
      "                <Day>15</Day>\n",
      "                <Hour>6</Hour>\n",
      "                <Minute>0</Minute>\n",
      "            </PubMedPubDate>\n",
      "        </History>\n",
      "        <PublicationStatus>ppublish</PublicationStatus>\n",
      "        <ArticleIdList>\n",
      "            <ArticleId IdType=\"pubmed\">23203889</ArticleId>\n",
      "            <ArticleId IdType=\"pii\">gks1279</ArticleId>\n",
      "            <ArticleId IdType=\"doi\">10.1093/nar/gks1279</ArticleId>\n",
      "            <ArticleId IdType=\"pmc\">PMC3531209</ArticleId>\n",
      "        </ArticleIdList>\n",
      "        <ReferenceList>\n",
      "            <Reference>\n",
      "                <Citation>BMC Bioinformatics. 2007;8:423</Citation>\n",
      "                <ArticleIdList>\n",
      "                    <ArticleId IdType=\"pubmed\">17971238</ArticleId>\n",
      "                </ArticleIdList>\n",
      "            </Reference>\n",
      "            <Reference>\n",
      "                <Citation>Nucleic Acids Res. 2011 Jan;39(Database issue):D58-65</Citation>\n",
      "                <ArticleIdList>\n",
      "                    <ArticleId IdType=\"pubmed\">21062818</ArticleId>\n",
      "                </ArticleIdList>\n",
      "            </Reference>\n",
      "            <Reference>\n",
      "                <Citation>ACM Queue. 2005 Apr;3(3):40-48</Citation>\n",
      "                <ArticleIdList>\n",
      "                    <ArticleId IdType=\"pubmed\">16467894</ArticleId>\n",
      "                </ArticleIdList>\n",
      "            </Reference>\n",
      "            <Reference>\n",
      "                <Citation>J Med Libr Assoc. 2006 Jul;94(3):343-8</Citation>\n",
      "                <ArticleIdList>\n",
      "                    <ArticleId IdType=\"pubmed\">16888670</ArticleId>\n",
      "                </ArticleIdList>\n",
      "            </Reference>\n",
      "            <Reference>\n",
      "                <Citation>J Electron Publ. 2011 Summer;14(1):null</Citation>\n",
      "                <ArticleIdList>\n",
      "                    <ArticleId IdType=\"pubmed\">22140303</ArticleId>\n",
      "                </ArticleIdList>\n",
      "            </Reference>\n",
      "        </ReferenceList>\n",
      "    </PubmedData>\n",
      "</PubmedArticle>\n",
      "\n",
      "</PubmedArticleSet>\n",
      "\n"
     ]
    }
   ],
   "source": [
    "print(article_meta_data)"
   ]
  },
  {
   "cell_type": "code",
   "execution_count": 24,
   "metadata": {},
   "outputs": [
    {
     "data": {
      "text/plain": [
       "['2013', '2018', '2013', '2012', '2012', '2012', '2013']"
      ]
     },
     "execution_count": 24,
     "metadata": {},
     "output_type": "execute_result"
    }
   ],
   "source": [
    "re.findall(\"<Year>(\\d{4})</Year>\", article_meta_data)"
   ]
  },
  {
   "cell_type": "code",
   "execution_count": 25,
   "metadata": {},
   "outputs": [
    {
     "data": {
      "text/plain": [
       "['19010',\n",
       " '23203',\n",
       " '20892',\n",
       " '01642',\n",
       " '05206',\n",
       " '04110',\n",
       " '00169',\n",
       " '01620',\n",
       " '02040',\n",
       " '00931',\n",
       " '01201',\n",
       " '01201',\n",
       " '01851',\n",
       " '01448',\n",
       " '23203',\n",
       " '35312',\n",
       " '17971',\n",
       " '21062',\n",
       " '16467',\n",
       " '16888',\n",
       " '22140']"
      ]
     },
     "execution_count": 25,
     "metadata": {},
     "output_type": "execute_result"
    }
   ],
   "source": [
    "re.findall(\"\\d{5}\", article_meta_data)"
   ]
  }
 ],
 "metadata": {
  "kernelspec": {
   "display_name": "Python 3",
   "language": "python",
   "name": "python3"
  },
  "language_info": {
   "codemirror_mode": {
    "name": "ipython",
    "version": 3
   },
   "file_extension": ".py",
   "mimetype": "text/x-python",
   "name": "python",
   "nbconvert_exporter": "python",
   "pygments_lexer": "ipython3",
   "version": "3.7.3"
  }
 },
 "nbformat": 4,
 "nbformat_minor": 2
}
